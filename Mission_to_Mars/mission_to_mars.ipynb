{
 "metadata": {
  "language_info": {
   "codemirror_mode": {
    "name": "ipython",
    "version": 3
   },
   "file_extension": ".py",
   "mimetype": "text/x-python",
   "name": "python",
   "nbconvert_exporter": "python",
   "pygments_lexer": "ipython3",
   "version": "3.8.5-final"
  },
  "orig_nbformat": 2,
  "kernelspec": {
   "name": "python3",
   "display_name": "Python 3",
   "language": "python"
  }
 },
 "nbformat": 4,
 "nbformat_minor": 2,
 "cells": [
  {
   "cell_type": "code",
   "execution_count": 2,
   "metadata": {},
   "outputs": [],
   "source": [
    "from splinter import Browser\n",
    "from bs4 import BeautifulSoup\n",
    "from webdriver_manager.chrome import ChromeDriverManager"
   ]
  },
  {
   "cell_type": "code",
   "execution_count": 3,
   "metadata": {},
   "outputs": [
    {
     "output_type": "stream",
     "name": "stderr",
     "text": [
      "[WDM] - Current google-chrome version is 88.0.4324\n",
      "[WDM] - Get LATEST driver version for 88.0.4324\n",
      "[WDM] - Driver [C:\\Users\\daint\\.wdm\\drivers\\chromedriver\\win32\\88.0.4324.96\\chromedriver.exe] found in cache\n",
      " \n"
     ]
    }
   ],
   "source": [
    "executable_path = {'executable_path': ChromeDriverManager().install()}\n",
    "browser = Browser('chrome', **executable_path, headless=False)"
   ]
  },
  {
   "cell_type": "code",
   "execution_count": 4,
   "metadata": {},
   "outputs": [],
   "source": [
    "url = 'https://mars.nasa.gov/news/'\n",
    "browser.visit(url)\n",
    "import time"
   ]
  },
  {
   "cell_type": "code",
   "execution_count": 5,
   "metadata": {
    "tags": []
   },
   "outputs": [
    {
     "output_type": "stream",
     "name": "stdout",
     "text": [
      "-----------------------------\n",
      "[\"NASA's Perseverance Pays Off Back Home\"]\n",
      "Scraping Complete\n",
      "-----------------------------\n",
      "[\"NASA's Perseverance Pays Off Back Home\", 'Could the Surface of Phobos Reveal Secrets of the Martian Past?']\n",
      "Scraping Complete\n",
      "-----------------------------\n",
      "[\"NASA's Perseverance Pays Off Back Home\", 'Could the Surface of Phobos Reveal Secrets of the Martian Past?', \"NASA's MAVEN Continues to Advance Mars Science and Telecommunications Relay Efforts\"]\n",
      "Scraping Complete\n",
      "-----------------------------\n",
      "[\"NASA's Perseverance Pays Off Back Home\", 'Could the Surface of Phobos Reveal Secrets of the Martian Past?', \"NASA's MAVEN Continues to Advance Mars Science and Telecommunications Relay Efforts\", \"NASA's Perseverance Rover 22 Days From Mars Landing\"]\n",
      "Scraping Complete\n",
      "-----------------------------\n",
      "[\"NASA's Perseverance Pays Off Back Home\", 'Could the Surface of Phobos Reveal Secrets of the Martian Past?', \"NASA's MAVEN Continues to Advance Mars Science and Telecommunications Relay Efforts\", \"NASA's Perseverance Rover 22 Days From Mars Landing\", \"6 Things to Know About NASA's Mars Helicopter on Its Way to Mars\"]\n",
      "Scraping Complete\n",
      "-----------------------------\n",
      "[\"NASA's Perseverance Pays Off Back Home\", 'Could the Surface of Phobos Reveal Secrets of the Martian Past?', \"NASA's MAVEN Continues to Advance Mars Science and Telecommunications Relay Efforts\", \"NASA's Perseverance Rover 22 Days From Mars Landing\", \"6 Things to Know About NASA's Mars Helicopter on Its Way to Mars\", 'NASA to Host Virtual Briefing on February Perseverance Mars Rover Landing']\n",
      "Scraping Complete\n",
      "-----------------------------\n",
      "[\"NASA's Perseverance Pays Off Back Home\", 'Could the Surface of Phobos Reveal Secrets of the Martian Past?', \"NASA's MAVEN Continues to Advance Mars Science and Telecommunications Relay Efforts\", \"NASA's Perseverance Rover 22 Days From Mars Landing\", \"6 Things to Know About NASA's Mars Helicopter on Its Way to Mars\", 'NASA to Host Virtual Briefing on February Perseverance Mars Rover Landing', \"NASA InSight's ‘Mole' Ends Its Journey on Mars\"]\n",
      "Scraping Complete\n",
      "-----------------------------\n",
      "[\"NASA's Perseverance Pays Off Back Home\", 'Could the Surface of Phobos Reveal Secrets of the Martian Past?', \"NASA's MAVEN Continues to Advance Mars Science and Telecommunications Relay Efforts\", \"NASA's Perseverance Rover 22 Days From Mars Landing\", \"6 Things to Know About NASA's Mars Helicopter on Its Way to Mars\", 'NASA to Host Virtual Briefing on February Perseverance Mars Rover Landing', \"NASA InSight's ‘Mole' Ends Its Journey on Mars\", 'Mars 2020 Perseverance Rover to Capture Sounds From the Red Planet']\n",
      "Scraping Complete\n",
      "-----------------------------\n",
      "[\"NASA's Perseverance Pays Off Back Home\", 'Could the Surface of Phobos Reveal Secrets of the Martian Past?', \"NASA's MAVEN Continues to Advance Mars Science and Telecommunications Relay Efforts\", \"NASA's Perseverance Rover 22 Days From Mars Landing\", \"6 Things to Know About NASA's Mars Helicopter on Its Way to Mars\", 'NASA to Host Virtual Briefing on February Perseverance Mars Rover Landing', \"NASA InSight's ‘Mole' Ends Its Journey on Mars\", 'Mars 2020 Perseverance Rover to Capture Sounds From the Red Planet', \"NASA's Curiosity Rover Reaches Its 3,000th Day on Mars\"]\n",
      "Scraping Complete\n",
      "-----------------------------\n",
      "[\"NASA's Perseverance Pays Off Back Home\", 'Could the Surface of Phobos Reveal Secrets of the Martian Past?', \"NASA's MAVEN Continues to Advance Mars Science and Telecommunications Relay Efforts\", \"NASA's Perseverance Rover 22 Days From Mars Landing\", \"6 Things to Know About NASA's Mars Helicopter on Its Way to Mars\", 'NASA to Host Virtual Briefing on February Perseverance Mars Rover Landing', \"NASA InSight's ‘Mole' Ends Its Journey on Mars\", 'Mars 2020 Perseverance Rover to Capture Sounds From the Red Planet', \"NASA's Curiosity Rover Reaches Its 3,000th Day on Mars\", \"Celebrate the Perseverance Rover Landing With NASA's Student Challenge\"]\n",
      "Scraping Complete\n",
      "-----------------------------\n",
      "[\"NASA's Perseverance Pays Off Back Home\", 'Could the Surface of Phobos Reveal Secrets of the Martian Past?', \"NASA's MAVEN Continues to Advance Mars Science and Telecommunications Relay Efforts\", \"NASA's Perseverance Rover 22 Days From Mars Landing\", \"6 Things to Know About NASA's Mars Helicopter on Its Way to Mars\", 'NASA to Host Virtual Briefing on February Perseverance Mars Rover Landing', \"NASA InSight's ‘Mole' Ends Its Journey on Mars\", 'Mars 2020 Perseverance Rover to Capture Sounds From the Red Planet', \"NASA's Curiosity Rover Reaches Its 3,000th Day on Mars\", \"Celebrate the Perseverance Rover Landing With NASA's Student Challenge\", 'NASA Extends Exploration for Two Planetary Science Missions']\n",
      "Scraping Complete\n",
      "-----------------------------\n",
      "[\"NASA's Perseverance Pays Off Back Home\", 'Could the Surface of Phobos Reveal Secrets of the Martian Past?', \"NASA's MAVEN Continues to Advance Mars Science and Telecommunications Relay Efforts\", \"NASA's Perseverance Rover 22 Days From Mars Landing\", \"6 Things to Know About NASA's Mars Helicopter on Its Way to Mars\", 'NASA to Host Virtual Briefing on February Perseverance Mars Rover Landing', \"NASA InSight's ‘Mole' Ends Its Journey on Mars\", 'Mars 2020 Perseverance Rover to Capture Sounds From the Red Planet', \"NASA's Curiosity Rover Reaches Its 3,000th Day on Mars\", \"Celebrate the Perseverance Rover Landing With NASA's Student Challenge\", 'NASA Extends Exploration for Two Planetary Science Missions', '7 Things to Know About the NASA Rover About to Land on Mars']\n",
      "Scraping Complete\n",
      "-----------------------------\n",
      "[\"NASA's Perseverance Pays Off Back Home\", 'Could the Surface of Phobos Reveal Secrets of the Martian Past?', \"NASA's MAVEN Continues to Advance Mars Science and Telecommunications Relay Efforts\", \"NASA's Perseverance Rover 22 Days From Mars Landing\", \"6 Things to Know About NASA's Mars Helicopter on Its Way to Mars\", 'NASA to Host Virtual Briefing on February Perseverance Mars Rover Landing', \"NASA InSight's ‘Mole' Ends Its Journey on Mars\", 'Mars 2020 Perseverance Rover to Capture Sounds From the Red Planet', \"NASA's Curiosity Rover Reaches Its 3,000th Day on Mars\", \"Celebrate the Perseverance Rover Landing With NASA's Student Challenge\", 'NASA Extends Exploration for Two Planetary Science Missions', '7 Things to Know About the NASA Rover About to Land on Mars', \"A Martian Roundtrip: NASA's Perseverance Rover Sample Tubes\"]\n",
      "Scraping Complete\n",
      "-----------------------------\n",
      "[\"NASA's Perseverance Pays Off Back Home\", 'Could the Surface of Phobos Reveal Secrets of the Martian Past?', \"NASA's MAVEN Continues to Advance Mars Science and Telecommunications Relay Efforts\", \"NASA's Perseverance Rover 22 Days From Mars Landing\", \"6 Things to Know About NASA's Mars Helicopter on Its Way to Mars\", 'NASA to Host Virtual Briefing on February Perseverance Mars Rover Landing', \"NASA InSight's ‘Mole' Ends Its Journey on Mars\", 'Mars 2020 Perseverance Rover to Capture Sounds From the Red Planet', \"NASA's Curiosity Rover Reaches Its 3,000th Day on Mars\", \"Celebrate the Perseverance Rover Landing With NASA's Student Challenge\", 'NASA Extends Exploration for Two Planetary Science Missions', '7 Things to Know About the NASA Rover About to Land on Mars', \"A Martian Roundtrip: NASA's Perseverance Rover Sample Tubes\", 'NASA Moves Forward With Campaign to Return Mars Samples to Earth']\n",
      "Scraping Complete\n",
      "-----------------------------\n",
      "[\"NASA's Perseverance Pays Off Back Home\", 'Could the Surface of Phobos Reveal Secrets of the Martian Past?', \"NASA's MAVEN Continues to Advance Mars Science and Telecommunications Relay Efforts\", \"NASA's Perseverance Rover 22 Days From Mars Landing\", \"6 Things to Know About NASA's Mars Helicopter on Its Way to Mars\", 'NASA to Host Virtual Briefing on February Perseverance Mars Rover Landing', \"NASA InSight's ‘Mole' Ends Its Journey on Mars\", 'Mars 2020 Perseverance Rover to Capture Sounds From the Red Planet', \"NASA's Curiosity Rover Reaches Its 3,000th Day on Mars\", \"Celebrate the Perseverance Rover Landing With NASA's Student Challenge\", 'NASA Extends Exploration for Two Planetary Science Missions', '7 Things to Know About the NASA Rover About to Land on Mars', \"A Martian Roundtrip: NASA's Perseverance Rover Sample Tubes\", 'NASA Moves Forward With Campaign to Return Mars Samples to Earth', \"3 Things We've Learned From NASA's Mars InSight\"]\n",
      "Scraping Complete\n",
      "-----------------------------\n",
      "[\"NASA's Perseverance Pays Off Back Home\", 'Could the Surface of Phobos Reveal Secrets of the Martian Past?', \"NASA's MAVEN Continues to Advance Mars Science and Telecommunications Relay Efforts\", \"NASA's Perseverance Rover 22 Days From Mars Landing\", \"6 Things to Know About NASA's Mars Helicopter on Its Way to Mars\", 'NASA to Host Virtual Briefing on February Perseverance Mars Rover Landing', \"NASA InSight's ‘Mole' Ends Its Journey on Mars\", 'Mars 2020 Perseverance Rover to Capture Sounds From the Red Planet', \"NASA's Curiosity Rover Reaches Its 3,000th Day on Mars\", \"Celebrate the Perseverance Rover Landing With NASA's Student Challenge\", 'NASA Extends Exploration for Two Planetary Science Missions', '7 Things to Know About the NASA Rover About to Land on Mars', \"A Martian Roundtrip: NASA's Perseverance Rover Sample Tubes\", 'NASA Moves Forward With Campaign to Return Mars Samples to Earth', \"3 Things We've Learned From NASA's Mars InSight\", \"From JPL's Mailroom to Mars and Beyond\"]\n",
      "Scraping Complete\n",
      "-----------------------------\n",
      "[\"NASA's Perseverance Pays Off Back Home\", 'Could the Surface of Phobos Reveal Secrets of the Martian Past?', \"NASA's MAVEN Continues to Advance Mars Science and Telecommunications Relay Efforts\", \"NASA's Perseverance Rover 22 Days From Mars Landing\", \"6 Things to Know About NASA's Mars Helicopter on Its Way to Mars\", 'NASA to Host Virtual Briefing on February Perseverance Mars Rover Landing', \"NASA InSight's ‘Mole' Ends Its Journey on Mars\", 'Mars 2020 Perseverance Rover to Capture Sounds From the Red Planet', \"NASA's Curiosity Rover Reaches Its 3,000th Day on Mars\", \"Celebrate the Perseverance Rover Landing With NASA's Student Challenge\", 'NASA Extends Exploration for Two Planetary Science Missions', '7 Things to Know About the NASA Rover About to Land on Mars', \"A Martian Roundtrip: NASA's Perseverance Rover Sample Tubes\", 'NASA Moves Forward With Campaign to Return Mars Samples to Earth', \"3 Things We've Learned From NASA's Mars InSight\", \"From JPL's Mailroom to Mars and Beyond\", \"5 Hidden Gems Are Riding Aboard NASA's Perseverance Rover\"]\n",
      "Scraping Complete\n",
      "-----------------------------\n",
      "[\"NASA's Perseverance Pays Off Back Home\", 'Could the Surface of Phobos Reveal Secrets of the Martian Past?', \"NASA's MAVEN Continues to Advance Mars Science and Telecommunications Relay Efforts\", \"NASA's Perseverance Rover 22 Days From Mars Landing\", \"6 Things to Know About NASA's Mars Helicopter on Its Way to Mars\", 'NASA to Host Virtual Briefing on February Perseverance Mars Rover Landing', \"NASA InSight's ‘Mole' Ends Its Journey on Mars\", 'Mars 2020 Perseverance Rover to Capture Sounds From the Red Planet', \"NASA's Curiosity Rover Reaches Its 3,000th Day on Mars\", \"Celebrate the Perseverance Rover Landing With NASA's Student Challenge\", 'NASA Extends Exploration for Two Planetary Science Missions', '7 Things to Know About the NASA Rover About to Land on Mars', \"A Martian Roundtrip: NASA's Perseverance Rover Sample Tubes\", 'NASA Moves Forward With Campaign to Return Mars Samples to Earth', \"3 Things We've Learned From NASA's Mars InSight\", \"From JPL's Mailroom to Mars and Beyond\", \"5 Hidden Gems Are Riding Aboard NASA's Perseverance Rover\", 'MOXIE Could Help Future Rockets Launch Off Mars']\n",
      "Scraping Complete\n",
      "-----------------------------\n",
      "[\"NASA's Perseverance Pays Off Back Home\", 'Could the Surface of Phobos Reveal Secrets of the Martian Past?', \"NASA's MAVEN Continues to Advance Mars Science and Telecommunications Relay Efforts\", \"NASA's Perseverance Rover 22 Days From Mars Landing\", \"6 Things to Know About NASA's Mars Helicopter on Its Way to Mars\", 'NASA to Host Virtual Briefing on February Perseverance Mars Rover Landing', \"NASA InSight's ‘Mole' Ends Its Journey on Mars\", 'Mars 2020 Perseverance Rover to Capture Sounds From the Red Planet', \"NASA's Curiosity Rover Reaches Its 3,000th Day on Mars\", \"Celebrate the Perseverance Rover Landing With NASA's Student Challenge\", 'NASA Extends Exploration for Two Planetary Science Missions', '7 Things to Know About the NASA Rover About to Land on Mars', \"A Martian Roundtrip: NASA's Perseverance Rover Sample Tubes\", 'NASA Moves Forward With Campaign to Return Mars Samples to Earth', \"3 Things We've Learned From NASA's Mars InSight\", \"From JPL's Mailroom to Mars and Beyond\", \"5 Hidden Gems Are Riding Aboard NASA's Perseverance Rover\", 'MOXIE Could Help Future Rockets Launch Off Mars', \"Hear Audio From NASA's Perseverance As It Travels Through Deep Space\"]\n",
      "Scraping Complete\n",
      "-----------------------------\n",
      "[\"NASA's Perseverance Pays Off Back Home\", 'Could the Surface of Phobos Reveal Secrets of the Martian Past?', \"NASA's MAVEN Continues to Advance Mars Science and Telecommunications Relay Efforts\", \"NASA's Perseverance Rover 22 Days From Mars Landing\", \"6 Things to Know About NASA's Mars Helicopter on Its Way to Mars\", 'NASA to Host Virtual Briefing on February Perseverance Mars Rover Landing', \"NASA InSight's ‘Mole' Ends Its Journey on Mars\", 'Mars 2020 Perseverance Rover to Capture Sounds From the Red Planet', \"NASA's Curiosity Rover Reaches Its 3,000th Day on Mars\", \"Celebrate the Perseverance Rover Landing With NASA's Student Challenge\", 'NASA Extends Exploration for Two Planetary Science Missions', '7 Things to Know About the NASA Rover About to Land on Mars', \"A Martian Roundtrip: NASA's Perseverance Rover Sample Tubes\", 'NASA Moves Forward With Campaign to Return Mars Samples to Earth', \"3 Things We've Learned From NASA's Mars InSight\", \"From JPL's Mailroom to Mars and Beyond\", \"5 Hidden Gems Are Riding Aboard NASA's Perseverance Rover\", 'MOXIE Could Help Future Rockets Launch Off Mars', \"Hear Audio From NASA's Perseverance As It Travels Through Deep Space\", 'Mars Is Getting a New Robotic Meteorologist']\n",
      "Scraping Complete\n",
      "-----------------------------\n",
      "[\"NASA's Perseverance Pays Off Back Home\", 'Could the Surface of Phobos Reveal Secrets of the Martian Past?', \"NASA's MAVEN Continues to Advance Mars Science and Telecommunications Relay Efforts\", \"NASA's Perseverance Rover 22 Days From Mars Landing\", \"6 Things to Know About NASA's Mars Helicopter on Its Way to Mars\", 'NASA to Host Virtual Briefing on February Perseverance Mars Rover Landing', \"NASA InSight's ‘Mole' Ends Its Journey on Mars\", 'Mars 2020 Perseverance Rover to Capture Sounds From the Red Planet', \"NASA's Curiosity Rover Reaches Its 3,000th Day on Mars\", \"Celebrate the Perseverance Rover Landing With NASA's Student Challenge\", 'NASA Extends Exploration for Two Planetary Science Missions', '7 Things to Know About the NASA Rover About to Land on Mars', \"A Martian Roundtrip: NASA's Perseverance Rover Sample Tubes\", 'NASA Moves Forward With Campaign to Return Mars Samples to Earth', \"3 Things We've Learned From NASA's Mars InSight\", \"From JPL's Mailroom to Mars and Beyond\", \"5 Hidden Gems Are Riding Aboard NASA's Perseverance Rover\", 'MOXIE Could Help Future Rockets Launch Off Mars', \"Hear Audio From NASA's Perseverance As It Travels Through Deep Space\", 'Mars Is Getting a New Robotic Meteorologist', 'Heat and Dust Help Launch Martian Water Into Space, Scientists Find']\n",
      "Scraping Complete\n",
      "-----------------------------\n",
      "[\"NASA's Perseverance Pays Off Back Home\", 'Could the Surface of Phobos Reveal Secrets of the Martian Past?', \"NASA's MAVEN Continues to Advance Mars Science and Telecommunications Relay Efforts\", \"NASA's Perseverance Rover 22 Days From Mars Landing\", \"6 Things to Know About NASA's Mars Helicopter on Its Way to Mars\", 'NASA to Host Virtual Briefing on February Perseverance Mars Rover Landing', \"NASA InSight's ‘Mole' Ends Its Journey on Mars\", 'Mars 2020 Perseverance Rover to Capture Sounds From the Red Planet', \"NASA's Curiosity Rover Reaches Its 3,000th Day on Mars\", \"Celebrate the Perseverance Rover Landing With NASA's Student Challenge\", 'NASA Extends Exploration for Two Planetary Science Missions', '7 Things to Know About the NASA Rover About to Land on Mars', \"A Martian Roundtrip: NASA's Perseverance Rover Sample Tubes\", 'NASA Moves Forward With Campaign to Return Mars Samples to Earth', \"3 Things We've Learned From NASA's Mars InSight\", \"From JPL's Mailroom to Mars and Beyond\", \"5 Hidden Gems Are Riding Aboard NASA's Perseverance Rover\", 'MOXIE Could Help Future Rockets Launch Off Mars', \"Hear Audio From NASA's Perseverance As It Travels Through Deep Space\", 'Mars Is Getting a New Robotic Meteorologist', 'Heat and Dust Help Launch Martian Water Into Space, Scientists Find', \"NASA's Curiosity Takes Selfie With 'Mary Anning' on the Red Planet\"]\n",
      "Scraping Complete\n",
      "-----------------------------\n",
      "[\"NASA's Perseverance Pays Off Back Home\", 'Could the Surface of Phobos Reveal Secrets of the Martian Past?', \"NASA's MAVEN Continues to Advance Mars Science and Telecommunications Relay Efforts\", \"NASA's Perseverance Rover 22 Days From Mars Landing\", \"6 Things to Know About NASA's Mars Helicopter on Its Way to Mars\", 'NASA to Host Virtual Briefing on February Perseverance Mars Rover Landing', \"NASA InSight's ‘Mole' Ends Its Journey on Mars\", 'Mars 2020 Perseverance Rover to Capture Sounds From the Red Planet', \"NASA's Curiosity Rover Reaches Its 3,000th Day on Mars\", \"Celebrate the Perseverance Rover Landing With NASA's Student Challenge\", 'NASA Extends Exploration for Two Planetary Science Missions', '7 Things to Know About the NASA Rover About to Land on Mars', \"A Martian Roundtrip: NASA's Perseverance Rover Sample Tubes\", 'NASA Moves Forward With Campaign to Return Mars Samples to Earth', \"3 Things We've Learned From NASA's Mars InSight\", \"From JPL's Mailroom to Mars and Beyond\", \"5 Hidden Gems Are Riding Aboard NASA's Perseverance Rover\", 'MOXIE Could Help Future Rockets Launch Off Mars', \"Hear Audio From NASA's Perseverance As It Travels Through Deep Space\", 'Mars Is Getting a New Robotic Meteorologist', 'Heat and Dust Help Launch Martian Water Into Space, Scientists Find', \"NASA's Curiosity Takes Selfie With 'Mary Anning' on the Red Planet\", 'Independent Review Indicates NASA Prepared for Mars Sample Return Campaign']\n",
      "Scraping Complete\n",
      "-----------------------------\n",
      "[\"NASA's Perseverance Pays Off Back Home\", 'Could the Surface of Phobos Reveal Secrets of the Martian Past?', \"NASA's MAVEN Continues to Advance Mars Science and Telecommunications Relay Efforts\", \"NASA's Perseverance Rover 22 Days From Mars Landing\", \"6 Things to Know About NASA's Mars Helicopter on Its Way to Mars\", 'NASA to Host Virtual Briefing on February Perseverance Mars Rover Landing', \"NASA InSight's ‘Mole' Ends Its Journey on Mars\", 'Mars 2020 Perseverance Rover to Capture Sounds From the Red Planet', \"NASA's Curiosity Rover Reaches Its 3,000th Day on Mars\", \"Celebrate the Perseverance Rover Landing With NASA's Student Challenge\", 'NASA Extends Exploration for Two Planetary Science Missions', '7 Things to Know About the NASA Rover About to Land on Mars', \"A Martian Roundtrip: NASA's Perseverance Rover Sample Tubes\", 'NASA Moves Forward With Campaign to Return Mars Samples to Earth', \"3 Things We've Learned From NASA's Mars InSight\", \"From JPL's Mailroom to Mars and Beyond\", \"5 Hidden Gems Are Riding Aboard NASA's Perseverance Rover\", 'MOXIE Could Help Future Rockets Launch Off Mars', \"Hear Audio From NASA's Perseverance As It Travels Through Deep Space\", 'Mars Is Getting a New Robotic Meteorologist', 'Heat and Dust Help Launch Martian Water Into Space, Scientists Find', \"NASA's Curiosity Takes Selfie With 'Mary Anning' on the Red Planet\", 'Independent Review Indicates NASA Prepared for Mars Sample Return Campaign', \"NASA's Perseverance Rover 100 Days Out\"]\n",
      "Scraping Complete\n",
      "-----------------------------\n",
      "[\"NASA's Perseverance Pays Off Back Home\", 'Could the Surface of Phobos Reveal Secrets of the Martian Past?', \"NASA's MAVEN Continues to Advance Mars Science and Telecommunications Relay Efforts\", \"NASA's Perseverance Rover 22 Days From Mars Landing\", \"6 Things to Know About NASA's Mars Helicopter on Its Way to Mars\", 'NASA to Host Virtual Briefing on February Perseverance Mars Rover Landing', \"NASA InSight's ‘Mole' Ends Its Journey on Mars\", 'Mars 2020 Perseverance Rover to Capture Sounds From the Red Planet', \"NASA's Curiosity Rover Reaches Its 3,000th Day on Mars\", \"Celebrate the Perseverance Rover Landing With NASA's Student Challenge\", 'NASA Extends Exploration for Two Planetary Science Missions', '7 Things to Know About the NASA Rover About to Land on Mars', \"A Martian Roundtrip: NASA's Perseverance Rover Sample Tubes\", 'NASA Moves Forward With Campaign to Return Mars Samples to Earth', \"3 Things We've Learned From NASA's Mars InSight\", \"From JPL's Mailroom to Mars and Beyond\", \"5 Hidden Gems Are Riding Aboard NASA's Perseverance Rover\", 'MOXIE Could Help Future Rockets Launch Off Mars', \"Hear Audio From NASA's Perseverance As It Travels Through Deep Space\", 'Mars Is Getting a New Robotic Meteorologist', 'Heat and Dust Help Launch Martian Water Into Space, Scientists Find', \"NASA's Curiosity Takes Selfie With 'Mary Anning' on the Red Planet\", 'Independent Review Indicates NASA Prepared for Mars Sample Return Campaign', \"NASA's Perseverance Rover 100 Days Out\", \"NASA's Perseverance Rover Is Midway to Mars\"]\n",
      "Scraping Complete\n",
      "-----------------------------\n",
      "[\"NASA's Perseverance Pays Off Back Home\", 'Could the Surface of Phobos Reveal Secrets of the Martian Past?', \"NASA's MAVEN Continues to Advance Mars Science and Telecommunications Relay Efforts\", \"NASA's Perseverance Rover 22 Days From Mars Landing\", \"6 Things to Know About NASA's Mars Helicopter on Its Way to Mars\", 'NASA to Host Virtual Briefing on February Perseverance Mars Rover Landing', \"NASA InSight's ‘Mole' Ends Its Journey on Mars\", 'Mars 2020 Perseverance Rover to Capture Sounds From the Red Planet', \"NASA's Curiosity Rover Reaches Its 3,000th Day on Mars\", \"Celebrate the Perseverance Rover Landing With NASA's Student Challenge\", 'NASA Extends Exploration for Two Planetary Science Missions', '7 Things to Know About the NASA Rover About to Land on Mars', \"A Martian Roundtrip: NASA's Perseverance Rover Sample Tubes\", 'NASA Moves Forward With Campaign to Return Mars Samples to Earth', \"3 Things We've Learned From NASA's Mars InSight\", \"From JPL's Mailroom to Mars and Beyond\", \"5 Hidden Gems Are Riding Aboard NASA's Perseverance Rover\", 'MOXIE Could Help Future Rockets Launch Off Mars', \"Hear Audio From NASA's Perseverance As It Travels Through Deep Space\", 'Mars Is Getting a New Robotic Meteorologist', 'Heat and Dust Help Launch Martian Water Into Space, Scientists Find', \"NASA's Curiosity Takes Selfie With 'Mary Anning' on the Red Planet\", 'Independent Review Indicates NASA Prepared for Mars Sample Return Campaign', \"NASA's Perseverance Rover 100 Days Out\", \"NASA's Perseverance Rover Is Midway to Mars\", 'Sensors on Mars 2020 Spacecraft Answer Long-Distance Call From Earth']\n",
      "Scraping Complete\n",
      "-----------------------------\n",
      "[\"NASA's Perseverance Pays Off Back Home\", 'Could the Surface of Phobos Reveal Secrets of the Martian Past?', \"NASA's MAVEN Continues to Advance Mars Science and Telecommunications Relay Efforts\", \"NASA's Perseverance Rover 22 Days From Mars Landing\", \"6 Things to Know About NASA's Mars Helicopter on Its Way to Mars\", 'NASA to Host Virtual Briefing on February Perseverance Mars Rover Landing', \"NASA InSight's ‘Mole' Ends Its Journey on Mars\", 'Mars 2020 Perseverance Rover to Capture Sounds From the Red Planet', \"NASA's Curiosity Rover Reaches Its 3,000th Day on Mars\", \"Celebrate the Perseverance Rover Landing With NASA's Student Challenge\", 'NASA Extends Exploration for Two Planetary Science Missions', '7 Things to Know About the NASA Rover About to Land on Mars', \"A Martian Roundtrip: NASA's Perseverance Rover Sample Tubes\", 'NASA Moves Forward With Campaign to Return Mars Samples to Earth', \"3 Things We've Learned From NASA's Mars InSight\", \"From JPL's Mailroom to Mars and Beyond\", \"5 Hidden Gems Are Riding Aboard NASA's Perseverance Rover\", 'MOXIE Could Help Future Rockets Launch Off Mars', \"Hear Audio From NASA's Perseverance As It Travels Through Deep Space\", 'Mars Is Getting a New Robotic Meteorologist', 'Heat and Dust Help Launch Martian Water Into Space, Scientists Find', \"NASA's Curiosity Takes Selfie With 'Mary Anning' on the Red Planet\", 'Independent Review Indicates NASA Prepared for Mars Sample Return Campaign', \"NASA's Perseverance Rover 100 Days Out\", \"NASA's Perseverance Rover Is Midway to Mars\", 'Sensors on Mars 2020 Spacecraft Answer Long-Distance Call From Earth', \"NASA's Perseverance Rover Bringing 3D-Printed Metal Parts to Mars\"]\n",
      "Scraping Complete\n",
      "-----------------------------\n",
      "[\"NASA's Perseverance Pays Off Back Home\", 'Could the Surface of Phobos Reveal Secrets of the Martian Past?', \"NASA's MAVEN Continues to Advance Mars Science and Telecommunications Relay Efforts\", \"NASA's Perseverance Rover 22 Days From Mars Landing\", \"6 Things to Know About NASA's Mars Helicopter on Its Way to Mars\", 'NASA to Host Virtual Briefing on February Perseverance Mars Rover Landing', \"NASA InSight's ‘Mole' Ends Its Journey on Mars\", 'Mars 2020 Perseverance Rover to Capture Sounds From the Red Planet', \"NASA's Curiosity Rover Reaches Its 3,000th Day on Mars\", \"Celebrate the Perseverance Rover Landing With NASA's Student Challenge\", 'NASA Extends Exploration for Two Planetary Science Missions', '7 Things to Know About the NASA Rover About to Land on Mars', \"A Martian Roundtrip: NASA's Perseverance Rover Sample Tubes\", 'NASA Moves Forward With Campaign to Return Mars Samples to Earth', \"3 Things We've Learned From NASA's Mars InSight\", \"From JPL's Mailroom to Mars and Beyond\", \"5 Hidden Gems Are Riding Aboard NASA's Perseverance Rover\", 'MOXIE Could Help Future Rockets Launch Off Mars', \"Hear Audio From NASA's Perseverance As It Travels Through Deep Space\", 'Mars Is Getting a New Robotic Meteorologist', 'Heat and Dust Help Launch Martian Water Into Space, Scientists Find', \"NASA's Curiosity Takes Selfie With 'Mary Anning' on the Red Planet\", 'Independent Review Indicates NASA Prepared for Mars Sample Return Campaign', \"NASA's Perseverance Rover 100 Days Out\", \"NASA's Perseverance Rover Is Midway to Mars\", 'Sensors on Mars 2020 Spacecraft Answer Long-Distance Call From Earth', \"NASA's Perseverance Rover Bringing 3D-Printed Metal Parts to Mars\", \"NASA InSight's 'Mole' Is Out of Sight\"]\n",
      "Scraping Complete\n",
      "-----------------------------\n",
      "[\"NASA's Perseverance Pays Off Back Home\", 'Could the Surface of Phobos Reveal Secrets of the Martian Past?', \"NASA's MAVEN Continues to Advance Mars Science and Telecommunications Relay Efforts\", \"NASA's Perseverance Rover 22 Days From Mars Landing\", \"6 Things to Know About NASA's Mars Helicopter on Its Way to Mars\", 'NASA to Host Virtual Briefing on February Perseverance Mars Rover Landing', \"NASA InSight's ‘Mole' Ends Its Journey on Mars\", 'Mars 2020 Perseverance Rover to Capture Sounds From the Red Planet', \"NASA's Curiosity Rover Reaches Its 3,000th Day on Mars\", \"Celebrate the Perseverance Rover Landing With NASA's Student Challenge\", 'NASA Extends Exploration for Two Planetary Science Missions', '7 Things to Know About the NASA Rover About to Land on Mars', \"A Martian Roundtrip: NASA's Perseverance Rover Sample Tubes\", 'NASA Moves Forward With Campaign to Return Mars Samples to Earth', \"3 Things We've Learned From NASA's Mars InSight\", \"From JPL's Mailroom to Mars and Beyond\", \"5 Hidden Gems Are Riding Aboard NASA's Perseverance Rover\", 'MOXIE Could Help Future Rockets Launch Off Mars', \"Hear Audio From NASA's Perseverance As It Travels Through Deep Space\", 'Mars Is Getting a New Robotic Meteorologist', 'Heat and Dust Help Launch Martian Water Into Space, Scientists Find', \"NASA's Curiosity Takes Selfie With 'Mary Anning' on the Red Planet\", 'Independent Review Indicates NASA Prepared for Mars Sample Return Campaign', \"NASA's Perseverance Rover 100 Days Out\", \"NASA's Perseverance Rover Is Midway to Mars\", 'Sensors on Mars 2020 Spacecraft Answer Long-Distance Call From Earth', \"NASA's Perseverance Rover Bringing 3D-Printed Metal Parts to Mars\", \"NASA InSight's 'Mole' Is Out of Sight\", \"NASA's Perseverance Rover Will Peer Beneath Mars' Surface\"]\n",
      "Scraping Complete\n",
      "-----------------------------\n",
      "[\"NASA's Perseverance Pays Off Back Home\", 'Could the Surface of Phobos Reveal Secrets of the Martian Past?', \"NASA's MAVEN Continues to Advance Mars Science and Telecommunications Relay Efforts\", \"NASA's Perseverance Rover 22 Days From Mars Landing\", \"6 Things to Know About NASA's Mars Helicopter on Its Way to Mars\", 'NASA to Host Virtual Briefing on February Perseverance Mars Rover Landing', \"NASA InSight's ‘Mole' Ends Its Journey on Mars\", 'Mars 2020 Perseverance Rover to Capture Sounds From the Red Planet', \"NASA's Curiosity Rover Reaches Its 3,000th Day on Mars\", \"Celebrate the Perseverance Rover Landing With NASA's Student Challenge\", 'NASA Extends Exploration for Two Planetary Science Missions', '7 Things to Know About the NASA Rover About to Land on Mars', \"A Martian Roundtrip: NASA's Perseverance Rover Sample Tubes\", 'NASA Moves Forward With Campaign to Return Mars Samples to Earth', \"3 Things We've Learned From NASA's Mars InSight\", \"From JPL's Mailroom to Mars and Beyond\", \"5 Hidden Gems Are Riding Aboard NASA's Perseverance Rover\", 'MOXIE Could Help Future Rockets Launch Off Mars', \"Hear Audio From NASA's Perseverance As It Travels Through Deep Space\", 'Mars Is Getting a New Robotic Meteorologist', 'Heat and Dust Help Launch Martian Water Into Space, Scientists Find', \"NASA's Curiosity Takes Selfie With 'Mary Anning' on the Red Planet\", 'Independent Review Indicates NASA Prepared for Mars Sample Return Campaign', \"NASA's Perseverance Rover 100 Days Out\", \"NASA's Perseverance Rover Is Midway to Mars\", 'Sensors on Mars 2020 Spacecraft Answer Long-Distance Call From Earth', \"NASA's Perseverance Rover Bringing 3D-Printed Metal Parts to Mars\", \"NASA InSight's 'Mole' Is Out of Sight\", \"NASA's Perseverance Rover Will Peer Beneath Mars' Surface\", 'AI Is Helping Scientists Discover Fresh Craters on Mars']\n",
      "Scraping Complete\n",
      "-----------------------------\n",
      "[\"NASA's Perseverance Pays Off Back Home\", 'Could the Surface of Phobos Reveal Secrets of the Martian Past?', \"NASA's MAVEN Continues to Advance Mars Science and Telecommunications Relay Efforts\", \"NASA's Perseverance Rover 22 Days From Mars Landing\", \"6 Things to Know About NASA's Mars Helicopter on Its Way to Mars\", 'NASA to Host Virtual Briefing on February Perseverance Mars Rover Landing', \"NASA InSight's ‘Mole' Ends Its Journey on Mars\", 'Mars 2020 Perseverance Rover to Capture Sounds From the Red Planet', \"NASA's Curiosity Rover Reaches Its 3,000th Day on Mars\", \"Celebrate the Perseverance Rover Landing With NASA's Student Challenge\", 'NASA Extends Exploration for Two Planetary Science Missions', '7 Things to Know About the NASA Rover About to Land on Mars', \"A Martian Roundtrip: NASA's Perseverance Rover Sample Tubes\", 'NASA Moves Forward With Campaign to Return Mars Samples to Earth', \"3 Things We've Learned From NASA's Mars InSight\", \"From JPL's Mailroom to Mars and Beyond\", \"5 Hidden Gems Are Riding Aboard NASA's Perseverance Rover\", 'MOXIE Could Help Future Rockets Launch Off Mars', \"Hear Audio From NASA's Perseverance As It Travels Through Deep Space\", 'Mars Is Getting a New Robotic Meteorologist', 'Heat and Dust Help Launch Martian Water Into Space, Scientists Find', \"NASA's Curiosity Takes Selfie With 'Mary Anning' on the Red Planet\", 'Independent Review Indicates NASA Prepared for Mars Sample Return Campaign', \"NASA's Perseverance Rover 100 Days Out\", \"NASA's Perseverance Rover Is Midway to Mars\", 'Sensors on Mars 2020 Spacecraft Answer Long-Distance Call From Earth', \"NASA's Perseverance Rover Bringing 3D-Printed Metal Parts to Mars\", \"NASA InSight's 'Mole' Is Out of Sight\", \"NASA's Perseverance Rover Will Peer Beneath Mars' Surface\", 'AI Is Helping Scientists Discover Fresh Craters on Mars', \"NASA's New Mars Rover Is Ready for Space Lasers\"]\n",
      "Scraping Complete\n",
      "-----------------------------\n",
      "[\"NASA's Perseverance Pays Off Back Home\", 'Could the Surface of Phobos Reveal Secrets of the Martian Past?', \"NASA's MAVEN Continues to Advance Mars Science and Telecommunications Relay Efforts\", \"NASA's Perseverance Rover 22 Days From Mars Landing\", \"6 Things to Know About NASA's Mars Helicopter on Its Way to Mars\", 'NASA to Host Virtual Briefing on February Perseverance Mars Rover Landing', \"NASA InSight's ‘Mole' Ends Its Journey on Mars\", 'Mars 2020 Perseverance Rover to Capture Sounds From the Red Planet', \"NASA's Curiosity Rover Reaches Its 3,000th Day on Mars\", \"Celebrate the Perseverance Rover Landing With NASA's Student Challenge\", 'NASA Extends Exploration for Two Planetary Science Missions', '7 Things to Know About the NASA Rover About to Land on Mars', \"A Martian Roundtrip: NASA's Perseverance Rover Sample Tubes\", 'NASA Moves Forward With Campaign to Return Mars Samples to Earth', \"3 Things We've Learned From NASA's Mars InSight\", \"From JPL's Mailroom to Mars and Beyond\", \"5 Hidden Gems Are Riding Aboard NASA's Perseverance Rover\", 'MOXIE Could Help Future Rockets Launch Off Mars', \"Hear Audio From NASA's Perseverance As It Travels Through Deep Space\", 'Mars Is Getting a New Robotic Meteorologist', 'Heat and Dust Help Launch Martian Water Into Space, Scientists Find', \"NASA's Curiosity Takes Selfie With 'Mary Anning' on the Red Planet\", 'Independent Review Indicates NASA Prepared for Mars Sample Return Campaign', \"NASA's Perseverance Rover 100 Days Out\", \"NASA's Perseverance Rover Is Midway to Mars\", 'Sensors on Mars 2020 Spacecraft Answer Long-Distance Call From Earth', \"NASA's Perseverance Rover Bringing 3D-Printed Metal Parts to Mars\", \"NASA InSight's 'Mole' Is Out of Sight\", \"NASA's Perseverance Rover Will Peer Beneath Mars' Surface\", 'AI Is Helping Scientists Discover Fresh Craters on Mars', \"NASA's New Mars Rover Is Ready for Space Lasers\", \"NASA's New Mars Rover Will Use X-Rays to Hunt Fossils\"]\n",
      "Scraping Complete\n",
      "-----------------------------\n",
      "[\"NASA's Perseverance Pays Off Back Home\", 'Could the Surface of Phobos Reveal Secrets of the Martian Past?', \"NASA's MAVEN Continues to Advance Mars Science and Telecommunications Relay Efforts\", \"NASA's Perseverance Rover 22 Days From Mars Landing\", \"6 Things to Know About NASA's Mars Helicopter on Its Way to Mars\", 'NASA to Host Virtual Briefing on February Perseverance Mars Rover Landing', \"NASA InSight's ‘Mole' Ends Its Journey on Mars\", 'Mars 2020 Perseverance Rover to Capture Sounds From the Red Planet', \"NASA's Curiosity Rover Reaches Its 3,000th Day on Mars\", \"Celebrate the Perseverance Rover Landing With NASA's Student Challenge\", 'NASA Extends Exploration for Two Planetary Science Missions', '7 Things to Know About the NASA Rover About to Land on Mars', \"A Martian Roundtrip: NASA's Perseverance Rover Sample Tubes\", 'NASA Moves Forward With Campaign to Return Mars Samples to Earth', \"3 Things We've Learned From NASA's Mars InSight\", \"From JPL's Mailroom to Mars and Beyond\", \"5 Hidden Gems Are Riding Aboard NASA's Perseverance Rover\", 'MOXIE Could Help Future Rockets Launch Off Mars', \"Hear Audio From NASA's Perseverance As It Travels Through Deep Space\", 'Mars Is Getting a New Robotic Meteorologist', 'Heat and Dust Help Launch Martian Water Into Space, Scientists Find', \"NASA's Curiosity Takes Selfie With 'Mary Anning' on the Red Planet\", 'Independent Review Indicates NASA Prepared for Mars Sample Return Campaign', \"NASA's Perseverance Rover 100 Days Out\", \"NASA's Perseverance Rover Is Midway to Mars\", 'Sensors on Mars 2020 Spacecraft Answer Long-Distance Call From Earth', \"NASA's Perseverance Rover Bringing 3D-Printed Metal Parts to Mars\", \"NASA InSight's 'Mole' Is Out of Sight\", \"NASA's Perseverance Rover Will Peer Beneath Mars' Surface\", 'AI Is Helping Scientists Discover Fresh Craters on Mars', \"NASA's New Mars Rover Is Ready for Space Lasers\", \"NASA's New Mars Rover Will Use X-Rays to Hunt Fossils\", 'My Culture, My Voice']\n",
      "Scraping Complete\n",
      "-----------------------------\n",
      "[\"NASA's Perseverance Pays Off Back Home\", 'Could the Surface of Phobos Reveal Secrets of the Martian Past?', \"NASA's MAVEN Continues to Advance Mars Science and Telecommunications Relay Efforts\", \"NASA's Perseverance Rover 22 Days From Mars Landing\", \"6 Things to Know About NASA's Mars Helicopter on Its Way to Mars\", 'NASA to Host Virtual Briefing on February Perseverance Mars Rover Landing', \"NASA InSight's ‘Mole' Ends Its Journey on Mars\", 'Mars 2020 Perseverance Rover to Capture Sounds From the Red Planet', \"NASA's Curiosity Rover Reaches Its 3,000th Day on Mars\", \"Celebrate the Perseverance Rover Landing With NASA's Student Challenge\", 'NASA Extends Exploration for Two Planetary Science Missions', '7 Things to Know About the NASA Rover About to Land on Mars', \"A Martian Roundtrip: NASA's Perseverance Rover Sample Tubes\", 'NASA Moves Forward With Campaign to Return Mars Samples to Earth', \"3 Things We've Learned From NASA's Mars InSight\", \"From JPL's Mailroom to Mars and Beyond\", \"5 Hidden Gems Are Riding Aboard NASA's Perseverance Rover\", 'MOXIE Could Help Future Rockets Launch Off Mars', \"Hear Audio From NASA's Perseverance As It Travels Through Deep Space\", 'Mars Is Getting a New Robotic Meteorologist', 'Heat and Dust Help Launch Martian Water Into Space, Scientists Find', \"NASA's Curiosity Takes Selfie With 'Mary Anning' on the Red Planet\", 'Independent Review Indicates NASA Prepared for Mars Sample Return Campaign', \"NASA's Perseverance Rover 100 Days Out\", \"NASA's Perseverance Rover Is Midway to Mars\", 'Sensors on Mars 2020 Spacecraft Answer Long-Distance Call From Earth', \"NASA's Perseverance Rover Bringing 3D-Printed Metal Parts to Mars\", \"NASA InSight's 'Mole' Is Out of Sight\", \"NASA's Perseverance Rover Will Peer Beneath Mars' Surface\", 'AI Is Helping Scientists Discover Fresh Craters on Mars', \"NASA's New Mars Rover Is Ready for Space Lasers\", \"NASA's New Mars Rover Will Use X-Rays to Hunt Fossils\", 'My Culture, My Voice', \"NASA Readies Perseverance Mars Rover's Earthly Twin\"]\n",
      "Scraping Complete\n",
      "-----------------------------\n",
      "[\"NASA's Perseverance Pays Off Back Home\", 'Could the Surface of Phobos Reveal Secrets of the Martian Past?', \"NASA's MAVEN Continues to Advance Mars Science and Telecommunications Relay Efforts\", \"NASA's Perseverance Rover 22 Days From Mars Landing\", \"6 Things to Know About NASA's Mars Helicopter on Its Way to Mars\", 'NASA to Host Virtual Briefing on February Perseverance Mars Rover Landing', \"NASA InSight's ‘Mole' Ends Its Journey on Mars\", 'Mars 2020 Perseverance Rover to Capture Sounds From the Red Planet', \"NASA's Curiosity Rover Reaches Its 3,000th Day on Mars\", \"Celebrate the Perseverance Rover Landing With NASA's Student Challenge\", 'NASA Extends Exploration for Two Planetary Science Missions', '7 Things to Know About the NASA Rover About to Land on Mars', \"A Martian Roundtrip: NASA's Perseverance Rover Sample Tubes\", 'NASA Moves Forward With Campaign to Return Mars Samples to Earth', \"3 Things We've Learned From NASA's Mars InSight\", \"From JPL's Mailroom to Mars and Beyond\", \"5 Hidden Gems Are Riding Aboard NASA's Perseverance Rover\", 'MOXIE Could Help Future Rockets Launch Off Mars', \"Hear Audio From NASA's Perseverance As It Travels Through Deep Space\", 'Mars Is Getting a New Robotic Meteorologist', 'Heat and Dust Help Launch Martian Water Into Space, Scientists Find', \"NASA's Curiosity Takes Selfie With 'Mary Anning' on the Red Planet\", 'Independent Review Indicates NASA Prepared for Mars Sample Return Campaign', \"NASA's Perseverance Rover 100 Days Out\", \"NASA's Perseverance Rover Is Midway to Mars\", 'Sensors on Mars 2020 Spacecraft Answer Long-Distance Call From Earth', \"NASA's Perseverance Rover Bringing 3D-Printed Metal Parts to Mars\", \"NASA InSight's 'Mole' Is Out of Sight\", \"NASA's Perseverance Rover Will Peer Beneath Mars' Surface\", 'AI Is Helping Scientists Discover Fresh Craters on Mars', \"NASA's New Mars Rover Is Ready for Space Lasers\", \"NASA's New Mars Rover Will Use X-Rays to Hunt Fossils\", 'My Culture, My Voice', \"NASA Readies Perseverance Mars Rover's Earthly Twin\", \"NASA Engineers Checking InSight's Weather Sensors\"]\n",
      "Scraping Complete\n",
      "-----------------------------\n",
      "[\"NASA's Perseverance Pays Off Back Home\", 'Could the Surface of Phobos Reveal Secrets of the Martian Past?', \"NASA's MAVEN Continues to Advance Mars Science and Telecommunications Relay Efforts\", \"NASA's Perseverance Rover 22 Days From Mars Landing\", \"6 Things to Know About NASA's Mars Helicopter on Its Way to Mars\", 'NASA to Host Virtual Briefing on February Perseverance Mars Rover Landing', \"NASA InSight's ‘Mole' Ends Its Journey on Mars\", 'Mars 2020 Perseverance Rover to Capture Sounds From the Red Planet', \"NASA's Curiosity Rover Reaches Its 3,000th Day on Mars\", \"Celebrate the Perseverance Rover Landing With NASA's Student Challenge\", 'NASA Extends Exploration for Two Planetary Science Missions', '7 Things to Know About the NASA Rover About to Land on Mars', \"A Martian Roundtrip: NASA's Perseverance Rover Sample Tubes\", 'NASA Moves Forward With Campaign to Return Mars Samples to Earth', \"3 Things We've Learned From NASA's Mars InSight\", \"From JPL's Mailroom to Mars and Beyond\", \"5 Hidden Gems Are Riding Aboard NASA's Perseverance Rover\", 'MOXIE Could Help Future Rockets Launch Off Mars', \"Hear Audio From NASA's Perseverance As It Travels Through Deep Space\", 'Mars Is Getting a New Robotic Meteorologist', 'Heat and Dust Help Launch Martian Water Into Space, Scientists Find', \"NASA's Curiosity Takes Selfie With 'Mary Anning' on the Red Planet\", 'Independent Review Indicates NASA Prepared for Mars Sample Return Campaign', \"NASA's Perseverance Rover 100 Days Out\", \"NASA's Perseverance Rover Is Midway to Mars\", 'Sensors on Mars 2020 Spacecraft Answer Long-Distance Call From Earth', \"NASA's Perseverance Rover Bringing 3D-Printed Metal Parts to Mars\", \"NASA InSight's 'Mole' Is Out of Sight\", \"NASA's Perseverance Rover Will Peer Beneath Mars' Surface\", 'AI Is Helping Scientists Discover Fresh Craters on Mars', \"NASA's New Mars Rover Is Ready for Space Lasers\", \"NASA's New Mars Rover Will Use X-Rays to Hunt Fossils\", 'My Culture, My Voice', \"NASA Readies Perseverance Mars Rover's Earthly Twin\", \"NASA Engineers Checking InSight's Weather Sensors\", \"Follow NASA's Perseverance Rover in Real Time on Its Way to Mars\"]\n",
      "Scraping Complete\n",
      "-----------------------------\n",
      "[\"NASA's Perseverance Pays Off Back Home\", 'Could the Surface of Phobos Reveal Secrets of the Martian Past?', \"NASA's MAVEN Continues to Advance Mars Science and Telecommunications Relay Efforts\", \"NASA's Perseverance Rover 22 Days From Mars Landing\", \"6 Things to Know About NASA's Mars Helicopter on Its Way to Mars\", 'NASA to Host Virtual Briefing on February Perseverance Mars Rover Landing', \"NASA InSight's ‘Mole' Ends Its Journey on Mars\", 'Mars 2020 Perseverance Rover to Capture Sounds From the Red Planet', \"NASA's Curiosity Rover Reaches Its 3,000th Day on Mars\", \"Celebrate the Perseverance Rover Landing With NASA's Student Challenge\", 'NASA Extends Exploration for Two Planetary Science Missions', '7 Things to Know About the NASA Rover About to Land on Mars', \"A Martian Roundtrip: NASA's Perseverance Rover Sample Tubes\", 'NASA Moves Forward With Campaign to Return Mars Samples to Earth', \"3 Things We've Learned From NASA's Mars InSight\", \"From JPL's Mailroom to Mars and Beyond\", \"5 Hidden Gems Are Riding Aboard NASA's Perseverance Rover\", 'MOXIE Could Help Future Rockets Launch Off Mars', \"Hear Audio From NASA's Perseverance As It Travels Through Deep Space\", 'Mars Is Getting a New Robotic Meteorologist', 'Heat and Dust Help Launch Martian Water Into Space, Scientists Find', \"NASA's Curiosity Takes Selfie With 'Mary Anning' on the Red Planet\", 'Independent Review Indicates NASA Prepared for Mars Sample Return Campaign', \"NASA's Perseverance Rover 100 Days Out\", \"NASA's Perseverance Rover Is Midway to Mars\", 'Sensors on Mars 2020 Spacecraft Answer Long-Distance Call From Earth', \"NASA's Perseverance Rover Bringing 3D-Printed Metal Parts to Mars\", \"NASA InSight's 'Mole' Is Out of Sight\", \"NASA's Perseverance Rover Will Peer Beneath Mars' Surface\", 'AI Is Helping Scientists Discover Fresh Craters on Mars', \"NASA's New Mars Rover Is Ready for Space Lasers\", \"NASA's New Mars Rover Will Use X-Rays to Hunt Fossils\", 'My Culture, My Voice', \"NASA Readies Perseverance Mars Rover's Earthly Twin\", \"NASA Engineers Checking InSight's Weather Sensors\", \"Follow NASA's Perseverance Rover in Real Time on Its Way to Mars\", 'NASA Establishes Board to Initially Review Mars Sample Return Plans']\n",
      "Scraping Complete\n",
      "-----------------------------\n",
      "[\"NASA's Perseverance Pays Off Back Home\", 'Could the Surface of Phobos Reveal Secrets of the Martian Past?', \"NASA's MAVEN Continues to Advance Mars Science and Telecommunications Relay Efforts\", \"NASA's Perseverance Rover 22 Days From Mars Landing\", \"6 Things to Know About NASA's Mars Helicopter on Its Way to Mars\", 'NASA to Host Virtual Briefing on February Perseverance Mars Rover Landing', \"NASA InSight's ‘Mole' Ends Its Journey on Mars\", 'Mars 2020 Perseverance Rover to Capture Sounds From the Red Planet', \"NASA's Curiosity Rover Reaches Its 3,000th Day on Mars\", \"Celebrate the Perseverance Rover Landing With NASA's Student Challenge\", 'NASA Extends Exploration for Two Planetary Science Missions', '7 Things to Know About the NASA Rover About to Land on Mars', \"A Martian Roundtrip: NASA's Perseverance Rover Sample Tubes\", 'NASA Moves Forward With Campaign to Return Mars Samples to Earth', \"3 Things We've Learned From NASA's Mars InSight\", \"From JPL's Mailroom to Mars and Beyond\", \"5 Hidden Gems Are Riding Aboard NASA's Perseverance Rover\", 'MOXIE Could Help Future Rockets Launch Off Mars', \"Hear Audio From NASA's Perseverance As It Travels Through Deep Space\", 'Mars Is Getting a New Robotic Meteorologist', 'Heat and Dust Help Launch Martian Water Into Space, Scientists Find', \"NASA's Curiosity Takes Selfie With 'Mary Anning' on the Red Planet\", 'Independent Review Indicates NASA Prepared for Mars Sample Return Campaign', \"NASA's Perseverance Rover 100 Days Out\", \"NASA's Perseverance Rover Is Midway to Mars\", 'Sensors on Mars 2020 Spacecraft Answer Long-Distance Call From Earth', \"NASA's Perseverance Rover Bringing 3D-Printed Metal Parts to Mars\", \"NASA InSight's 'Mole' Is Out of Sight\", \"NASA's Perseverance Rover Will Peer Beneath Mars' Surface\", 'AI Is Helping Scientists Discover Fresh Craters on Mars', \"NASA's New Mars Rover Is Ready for Space Lasers\", \"NASA's New Mars Rover Will Use X-Rays to Hunt Fossils\", 'My Culture, My Voice', \"NASA Readies Perseverance Mars Rover's Earthly Twin\", \"NASA Engineers Checking InSight's Weather Sensors\", \"Follow NASA's Perseverance Rover in Real Time on Its Way to Mars\", 'NASA Establishes Board to Initially Review Mars Sample Return Plans', \"NASA's Ingenuity Mars Helicopter Recharges Its Batteries in Flight\"]\n",
      "Scraping Complete\n",
      "-----------------------------\n",
      "[\"NASA's Perseverance Pays Off Back Home\", 'Could the Surface of Phobos Reveal Secrets of the Martian Past?', \"NASA's MAVEN Continues to Advance Mars Science and Telecommunications Relay Efforts\", \"NASA's Perseverance Rover 22 Days From Mars Landing\", \"6 Things to Know About NASA's Mars Helicopter on Its Way to Mars\", 'NASA to Host Virtual Briefing on February Perseverance Mars Rover Landing', \"NASA InSight's ‘Mole' Ends Its Journey on Mars\", 'Mars 2020 Perseverance Rover to Capture Sounds From the Red Planet', \"NASA's Curiosity Rover Reaches Its 3,000th Day on Mars\", \"Celebrate the Perseverance Rover Landing With NASA's Student Challenge\", 'NASA Extends Exploration for Two Planetary Science Missions', '7 Things to Know About the NASA Rover About to Land on Mars', \"A Martian Roundtrip: NASA's Perseverance Rover Sample Tubes\", 'NASA Moves Forward With Campaign to Return Mars Samples to Earth', \"3 Things We've Learned From NASA's Mars InSight\", \"From JPL's Mailroom to Mars and Beyond\", \"5 Hidden Gems Are Riding Aboard NASA's Perseverance Rover\", 'MOXIE Could Help Future Rockets Launch Off Mars', \"Hear Audio From NASA's Perseverance As It Travels Through Deep Space\", 'Mars Is Getting a New Robotic Meteorologist', 'Heat and Dust Help Launch Martian Water Into Space, Scientists Find', \"NASA's Curiosity Takes Selfie With 'Mary Anning' on the Red Planet\", 'Independent Review Indicates NASA Prepared for Mars Sample Return Campaign', \"NASA's Perseverance Rover 100 Days Out\", \"NASA's Perseverance Rover Is Midway to Mars\", 'Sensors on Mars 2020 Spacecraft Answer Long-Distance Call From Earth', \"NASA's Perseverance Rover Bringing 3D-Printed Metal Parts to Mars\", \"NASA InSight's 'Mole' Is Out of Sight\", \"NASA's Perseverance Rover Will Peer Beneath Mars' Surface\", 'AI Is Helping Scientists Discover Fresh Craters on Mars', \"NASA's New Mars Rover Is Ready for Space Lasers\", \"NASA's New Mars Rover Will Use X-Rays to Hunt Fossils\", 'My Culture, My Voice', \"NASA Readies Perseverance Mars Rover's Earthly Twin\", \"NASA Engineers Checking InSight's Weather Sensors\", \"Follow NASA's Perseverance Rover in Real Time on Its Way to Mars\", 'NASA Establishes Board to Initially Review Mars Sample Return Plans', \"NASA's Ingenuity Mars Helicopter Recharges Its Batteries in Flight\", \"Celebrate Mars Reconnaissance Orbiter's Views From Above\"]\n",
      "Scraping Complete\n",
      "-----------------------------\n",
      "[\"NASA's Perseverance Pays Off Back Home\", 'Could the Surface of Phobos Reveal Secrets of the Martian Past?', \"NASA's MAVEN Continues to Advance Mars Science and Telecommunications Relay Efforts\", \"NASA's Perseverance Rover 22 Days From Mars Landing\", \"6 Things to Know About NASA's Mars Helicopter on Its Way to Mars\", 'NASA to Host Virtual Briefing on February Perseverance Mars Rover Landing', \"NASA InSight's ‘Mole' Ends Its Journey on Mars\", 'Mars 2020 Perseverance Rover to Capture Sounds From the Red Planet', \"NASA's Curiosity Rover Reaches Its 3,000th Day on Mars\", \"Celebrate the Perseverance Rover Landing With NASA's Student Challenge\", 'NASA Extends Exploration for Two Planetary Science Missions', '7 Things to Know About the NASA Rover About to Land on Mars', \"A Martian Roundtrip: NASA's Perseverance Rover Sample Tubes\", 'NASA Moves Forward With Campaign to Return Mars Samples to Earth', \"3 Things We've Learned From NASA's Mars InSight\", \"From JPL's Mailroom to Mars and Beyond\", \"5 Hidden Gems Are Riding Aboard NASA's Perseverance Rover\", 'MOXIE Could Help Future Rockets Launch Off Mars', \"Hear Audio From NASA's Perseverance As It Travels Through Deep Space\", 'Mars Is Getting a New Robotic Meteorologist', 'Heat and Dust Help Launch Martian Water Into Space, Scientists Find', \"NASA's Curiosity Takes Selfie With 'Mary Anning' on the Red Planet\", 'Independent Review Indicates NASA Prepared for Mars Sample Return Campaign', \"NASA's Perseverance Rover 100 Days Out\", \"NASA's Perseverance Rover Is Midway to Mars\", 'Sensors on Mars 2020 Spacecraft Answer Long-Distance Call From Earth', \"NASA's Perseverance Rover Bringing 3D-Printed Metal Parts to Mars\", \"NASA InSight's 'Mole' Is Out of Sight\", \"NASA's Perseverance Rover Will Peer Beneath Mars' Surface\", 'AI Is Helping Scientists Discover Fresh Craters on Mars', \"NASA's New Mars Rover Is Ready for Space Lasers\", \"NASA's New Mars Rover Will Use X-Rays to Hunt Fossils\", 'My Culture, My Voice', \"NASA Readies Perseverance Mars Rover's Earthly Twin\", \"NASA Engineers Checking InSight's Weather Sensors\", \"Follow NASA's Perseverance Rover in Real Time on Its Way to Mars\", 'NASA Establishes Board to Initially Review Mars Sample Return Plans', \"NASA's Ingenuity Mars Helicopter Recharges Its Batteries in Flight\", \"Celebrate Mars Reconnaissance Orbiter's Views From Above\", \"NASA's MAVEN Observes Martian Night Sky Pulsing in Ultraviolet Light\"]\n",
      "Scraping Complete\n"
     ]
    }
   ],
   "source": [
    "html = browser.html\n",
    "soup = BeautifulSoup(html, 'lxml')\n",
    "\n",
    "slides = soup.find_all('div', class_='list_text')\n",
    "\n",
    "news_title=[]\n",
    "news_p=[]\n",
    "\n",
    "for item in slides:\n",
    "    title = item.find('div', class_='content_title')\n",
    "    news_title.append(title.text.strip())\n",
    "    para = item.find('div', class_='article_teaser_body')\n",
    "    news_p.append(para.text.strip())\n",
    "\n",
    "    # print(\"-----------------------------\")\n",
    "    # print(title.text.strip())\n",
    "    # print(para.text.strip())\n",
    "\n",
    "    # try:\n",
    "    #     browser.links.find_by_partial_text('show more').click()\n",
    "          \n",
    "    # except:\n",
    "    #     print(\"Scraping Complete\")"
   ]
  },
  {
   "cell_type": "code",
   "execution_count": 7,
   "metadata": {},
   "outputs": [],
   "source": [
    "# url = 'https://www.jpl.nasa.gov/images/?search=&category=Mars'\n",
    "# browser.visit(url)\n",
    "# html = browser.html\n",
    "# soup = BeautifulSoup(html, 'html.parser')\n",
    "\n",
    "# img = soup.find(\"img\", class_=\"thumb\")[\"src\"]\n",
    "\n",
    "# img_url = \"https://www.jpl.nasa.gov\" + img\n",
    "# return(img_url) "
   ]
  },
  {
   "cell_type": "code",
   "execution_count": 8,
   "metadata": {},
   "outputs": [],
   "source": [
    "import pandas as pd"
   ]
  },
  {
   "cell_type": "code",
   "execution_count": 9,
   "metadata": {},
   "outputs": [],
   "source": [
    "url = 'https://space-facts.com/mars/'"
   ]
  },
  {
   "cell_type": "code",
   "execution_count": 10,
   "metadata": {},
   "outputs": [
    {
     "output_type": "execute_result",
     "data": {
      "text/plain": [
       "[                      0                              1\n",
       " 0  Equatorial Diameter:                       6,792 km\n",
       " 1       Polar Diameter:                       6,752 km\n",
       " 2                 Mass:  6.39 × 10^23 kg (0.11 Earths)\n",
       " 3                Moons:            2 (Phobos & Deimos)\n",
       " 4       Orbit Distance:       227,943,824 km (1.38 AU)\n",
       " 5         Orbit Period:           687 days (1.9 years)\n",
       " 6  Surface Temperature:                   -87 to -5 °C\n",
       " 7         First Record:              2nd millennium BC\n",
       " 8          Recorded By:           Egyptian astronomers,\n",
       "   Mars - Earth Comparison             Mars            Earth\n",
       " 0               Diameter:         6,779 km        12,742 km\n",
       " 1                   Mass:  6.39 × 10^23 kg  5.97 × 10^24 kg\n",
       " 2                  Moons:                2                1\n",
       " 3      Distance from Sun:   227,943,824 km   149,598,262 km\n",
       " 4         Length of Year:   687 Earth days      365.24 days\n",
       " 5            Temperature:     -87 to -5 °C      -88 to 58°C,\n",
       "                       0                              1\n",
       " 0  Equatorial Diameter:                       6,792 km\n",
       " 1       Polar Diameter:                       6,752 km\n",
       " 2                 Mass:  6.39 × 10^23 kg (0.11 Earths)\n",
       " 3                Moons:            2 (Phobos & Deimos)\n",
       " 4       Orbit Distance:       227,943,824 km (1.38 AU)\n",
       " 5         Orbit Period:           687 days (1.9 years)\n",
       " 6  Surface Temperature:                   -87 to -5 °C\n",
       " 7         First Record:              2nd millennium BC\n",
       " 8          Recorded By:           Egyptian astronomers]"
      ]
     },
     "metadata": {},
     "execution_count": 10
    }
   ],
   "source": [
    "table = pd.read_html(url)\n",
    "table"
   ]
  },
  {
   "cell_type": "code",
   "execution_count": 11,
   "metadata": {},
   "outputs": [
    {
     "output_type": "execute_result",
     "data": {
      "text/plain": [
       "list"
      ]
     },
     "metadata": {},
     "execution_count": 11
    }
   ],
   "source": [
    "type(table)"
   ]
  },
  {
   "cell_type": "code",
   "execution_count": 12,
   "metadata": {},
   "outputs": [
    {
     "output_type": "execute_result",
     "data": {
      "text/plain": [
       "                      0                              1\n",
       "0  Equatorial Diameter:                       6,792 km\n",
       "1       Polar Diameter:                       6,752 km\n",
       "2                 Mass:  6.39 × 10^23 kg (0.11 Earths)\n",
       "3                Moons:            2 (Phobos & Deimos)\n",
       "4       Orbit Distance:       227,943,824 km (1.38 AU)\n",
       "5         Orbit Period:           687 days (1.9 years)\n",
       "6  Surface Temperature:                   -87 to -5 °C\n",
       "7         First Record:              2nd millennium BC\n",
       "8          Recorded By:           Egyptian astronomers"
      ],
      "text/html": "<div>\n<style scoped>\n    .dataframe tbody tr th:only-of-type {\n        vertical-align: middle;\n    }\n\n    .dataframe tbody tr th {\n        vertical-align: top;\n    }\n\n    .dataframe thead th {\n        text-align: right;\n    }\n</style>\n<table border=\"1\" class=\"dataframe\">\n  <thead>\n    <tr style=\"text-align: right;\">\n      <th></th>\n      <th>0</th>\n      <th>1</th>\n    </tr>\n  </thead>\n  <tbody>\n    <tr>\n      <th>0</th>\n      <td>Equatorial Diameter:</td>\n      <td>6,792 km</td>\n    </tr>\n    <tr>\n      <th>1</th>\n      <td>Polar Diameter:</td>\n      <td>6,752 km</td>\n    </tr>\n    <tr>\n      <th>2</th>\n      <td>Mass:</td>\n      <td>6.39 × 10^23 kg (0.11 Earths)</td>\n    </tr>\n    <tr>\n      <th>3</th>\n      <td>Moons:</td>\n      <td>2 (Phobos &amp; Deimos)</td>\n    </tr>\n    <tr>\n      <th>4</th>\n      <td>Orbit Distance:</td>\n      <td>227,943,824 km (1.38 AU)</td>\n    </tr>\n    <tr>\n      <th>5</th>\n      <td>Orbit Period:</td>\n      <td>687 days (1.9 years)</td>\n    </tr>\n    <tr>\n      <th>6</th>\n      <td>Surface Temperature:</td>\n      <td>-87 to -5 °C</td>\n    </tr>\n    <tr>\n      <th>7</th>\n      <td>First Record:</td>\n      <td>2nd millennium BC</td>\n    </tr>\n    <tr>\n      <th>8</th>\n      <td>Recorded By:</td>\n      <td>Egyptian astronomers</td>\n    </tr>\n  </tbody>\n</table>\n</div>"
     },
     "metadata": {},
     "execution_count": 12
    }
   ],
   "source": [
    "df = table[0]\n",
    "df"
   ]
  },
  {
   "cell_type": "code",
   "execution_count": 13,
   "metadata": {},
   "outputs": [],
   "source": [
    "# Transform to HTML table\n",
    "mars_table = df.to_html('facts_table.html')"
   ]
  },
  {
   "cell_type": "code",
   "execution_count": 44,
   "metadata": {},
   "outputs": [],
   "source": [
    "### Mars Hemispheres ###"
   ]
  },
  {
   "cell_type": "code",
   "execution_count": 14,
   "metadata": {},
   "outputs": [],
   "source": [
    "all_title = []\n",
    "all_img_url = []"
   ]
  },
  {
   "cell_type": "code",
   "execution_count": 15,
   "metadata": {},
   "outputs": [],
   "source": [
    "url = 'https://astrogeology.usgs.gov/search/map/Mars/Viking/cerberus_enhanced'\n",
    "browser.visit(url)\n",
    "html = browser.html\n",
    "soup = BeautifulSoup(html, 'lxml')\n",
    "\n",
    "title = soup.find('h2', class_='title').text\n",
    "all_title.append(title)\n",
    "\n",
    "img_path = soup.find('img', class_='wide-image').get('src')\n",
    "img_url = 'https://astrogeology.usgs.gov' + img_path\n",
    "all_img_url.append(img_url)"
   ]
  },
  {
   "cell_type": "code",
   "execution_count": 16,
   "metadata": {},
   "outputs": [],
   "source": [
    "url = 'https://astrogeology.usgs.gov/search/map/Mars/Viking/schiaparelli_enhanced'\n",
    "browser.visit(url)\n",
    "html = browser.html\n",
    "soup = BeautifulSoup(html, 'lxml')\n",
    "\n",
    "title = soup.find('h2', class_='title').text\n",
    "all_title.append(title)\n",
    "\n",
    "img_path = soup.find('img', class_='wide-image').get('src')\n",
    "img_url = 'https://astrogeology.usgs.gov' + img_path\n",
    "all_img_url.append(img_url)"
   ]
  },
  {
   "cell_type": "code",
   "execution_count": 17,
   "metadata": {},
   "outputs": [],
   "source": [
    "url = 'https://astrogeology.usgs.gov/search/map/Mars/Viking/syrtis_major_enhanced'\n",
    "browser.visit(url)\n",
    "html = browser.html\n",
    "soup = BeautifulSoup(html, 'lxml')\n",
    "\n",
    "title = soup.find('h2', class_='title').text\n",
    "all_title.append(title)\n",
    "\n",
    "img_path = soup.find('img', class_='wide-image').get('src')\n",
    "img_url = 'https://astrogeology.usgs.gov' + img_path\n",
    "all_img_url.append(img_url)"
   ]
  },
  {
   "cell_type": "code",
   "execution_count": 19,
   "metadata": {},
   "outputs": [],
   "source": [
    "url = 'https://astrogeology.usgs.gov/search/map/Mars/Viking/valles_marineris_enhanced'\n",
    "browser.visit(url)\n",
    "html = browser.html\n",
    "soup = BeautifulSoup(html, 'lxml')\n",
    "\n",
    "title = soup.find('h2', class_='title').text\n",
    "all_title.append(title)\n",
    "\n",
    "img_path = soup.find('img', class_='wide-image').get('src')\n",
    "img_url = 'https://astrogeology.usgs.gov' + img_path\n",
    "all_img_url.append(img_url)"
   ]
  },
  {
   "cell_type": "code",
   "execution_count": 20,
   "metadata": {},
   "outputs": [],
   "source": [
    "hemispheres = []\n",
    "\n",
    "for title, url in zip(all_title, all_img_url):\n",
    "    hemisphere_image_urls = (f\"'title': {title}, 'img_url': {img_url}\")\n",
    "    hemispheres.append(hemisphere_image_urls)"
   ]
  },
  {
   "cell_type": "code",
   "execution_count": 41,
   "metadata": {},
   "outputs": [
    {
     "output_type": "stream",
     "name": "stdout",
     "text": [
      "{'title': \"NASA's Perseverance Pays Off Back Home\", 'paragraph': 'Even as the Perseverance rover approaches Mars, technology on board is paying off on Earth.', 'image_title': 'Cerberus Hemisphere Enhanced', 'image_url': 'https://astrogeology.usgs.gov/cache/images/f5e372a36edfa389625da6d0cc25d905_cerberus_enhanced.tif_full.jpg'}\n{'title': 'Could the Surface of Phobos Reveal Secrets of the Martian Past?', 'paragraph': 'The Martian moon Phobos orbits through a stream of charged atoms and molecules that flow off the Red Planet’s atmosphere, new research shows.', 'image_title': 'Schiaparelli Hemisphere Enhanced', 'image_url': 'https://astrogeology.usgs.gov/cache/images/3778f7b43bbbc89d6e3cfabb3613ba93_schiaparelli_enhanced.tif_full.jpg'}\n{'title': \"NASA's MAVEN Continues to Advance Mars Science and Telecommunications Relay Efforts\", 'paragraph': 'With a suite of new national and international spacecraft primed to explore the Red Planet after their arrival next month, NASA’s MAVEN mission is ready to provide support and continue its study of the Martian atmosphere.', 'image_title': 'Syrtis Major Hemisphere Enhanced', 'image_url': 'https://astrogeology.usgs.gov/cache/images/555e6403a6ddd7ba16ddb0e471cadcf7_syrtis_major_enhanced.tif_full.jpg'}\n{'title': \"NASA's Perseverance Rover 22 Days From Mars Landing\", 'paragraph': 'Seven minutes of harrowing descent to the Red Planet is in the not-so-distant future for the agency’s Mars 2020 mission.', 'image_title': 'Valles Marineris Hemisphere Enhanced', 'image_url': 'https://astrogeology.usgs.gov/cache/images/b3c7c6c9138f57b4756be9b9c43e3a48_valles_marineris_enhanced.tif_full.jpg'}\n{'title': \"6 Things to Know About NASA's Mars Helicopter on Its Way to Mars\", 'paragraph': 'Ingenuity, a technology experiment, is preparing to attempt the first powered, controlled flight on the Red Planet.', 'image_title': 'Valles Marineris Hemisphere Enhanced', 'image_url': 'https://astrogeology.usgs.gov/cache/images/b3c7c6c9138f57b4756be9b9c43e3a48_valles_marineris_enhanced.tif_full.jpg'}\n"
     ]
    }
   ],
   "source": [
    "\n",
    "for title, paragraph, img_title, img_url in zip(news_title, news_p, all_title, all_img_url):\n",
    "    \n",
    "        results = {\n",
    "                'title': title,\n",
    "                'paragraph': paragraph,\n",
    "                'image_title': img_title,\n",
    "                'image_url': img_url\n",
    "                }\n",
    "        print(results)"
   ]
  },
  {
   "cell_type": "code",
   "execution_count": 42,
   "metadata": {},
   "outputs": [],
   "source": [
    "browser.quit()"
   ]
  },
  {
   "cell_type": "code",
   "execution_count": null,
   "metadata": {},
   "outputs": [],
   "source": []
  }
 ]
}