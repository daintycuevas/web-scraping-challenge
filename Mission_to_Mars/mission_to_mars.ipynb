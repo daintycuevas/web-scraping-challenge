{
 "metadata": {
  "language_info": {
   "codemirror_mode": {
    "name": "ipython",
    "version": 3
   },
   "file_extension": ".py",
   "mimetype": "text/x-python",
   "name": "python",
   "nbconvert_exporter": "python",
   "pygments_lexer": "ipython3",
   "version": "3.8.5-final"
  },
  "orig_nbformat": 2,
  "kernelspec": {
   "name": "python3",
   "display_name": "Python 3",
   "language": "python"
  }
 },
 "nbformat": 4,
 "nbformat_minor": 2,
 "cells": [
  {
   "cell_type": "code",
   "execution_count": 2,
   "metadata": {},
   "outputs": [],
   "source": [
    "from splinter import Browser\n",
    "from bs4 import BeautifulSoup\n",
    "from webdriver_manager.chrome import ChromeDriverManager"
   ]
  },
  {
   "cell_type": "code",
   "execution_count": 3,
   "metadata": {},
   "outputs": [
    {
     "output_type": "stream",
     "name": "stderr",
     "text": [
      "[WDM] - Current google-chrome version is 88.0.4324\n",
      "[WDM] - Get LATEST driver version for 88.0.4324\n",
      "[WDM] - Driver [C:\\Users\\daint\\.wdm\\drivers\\chromedriver\\win32\\88.0.4324.96\\chromedriver.exe] found in cache\n",
      " \n"
     ]
    }
   ],
   "source": [
    "executable_path = {'executable_path': ChromeDriverManager().install()}\n",
    "browser = Browser('chrome', **executable_path, headless=False)"
   ]
  },
  {
   "cell_type": "code",
   "execution_count": 4,
   "metadata": {},
   "outputs": [],
   "source": [
    "url = 'https://mars.nasa.gov/news/'\n",
    "browser.visit(url)\n",
    "import time"
   ]
  },
  {
   "cell_type": "code",
   "execution_count": 5,
   "metadata": {
    "tags": []
   },
   "outputs": [
    {
     "output_type": "stream",
     "name": "stdout",
     "text": [
      "-----------------------------\n",
      "[\"NASA's Perseverance Pays Off Back Home\"]\n",
      "Scraping Complete\n",
      "-----------------------------\n",
      "[\"NASA's Perseverance Pays Off Back Home\", 'Could the Surface of Phobos Reveal Secrets of the Martian Past?']\n",
      "Scraping Complete\n",
      "-----------------------------\n",
      "[\"NASA's Perseverance Pays Off Back Home\", 'Could the Surface of Phobos Reveal Secrets of the Martian Past?', \"NASA's MAVEN Continues to Advance Mars Science and Telecommunications Relay Efforts\"]\n",
      "Scraping Complete\n",
      "-----------------------------\n",
      "[\"NASA's Perseverance Pays Off Back Home\", 'Could the Surface of Phobos Reveal Secrets of the Martian Past?', \"NASA's MAVEN Continues to Advance Mars Science and Telecommunications Relay Efforts\", \"NASA's Perseverance Rover 22 Days From Mars Landing\"]\n",
      "Scraping Complete\n",
      "-----------------------------\n",
      "[\"NASA's Perseverance Pays Off Back Home\", 'Could the Surface of Phobos Reveal Secrets of the Martian Past?', \"NASA's MAVEN Continues to Advance Mars Science and Telecommunications Relay Efforts\", \"NASA's Perseverance Rover 22 Days From Mars Landing\", \"6 Things to Know About NASA's Mars Helicopter on Its Way to Mars\"]\n",
      "Scraping Complete\n",
      "-----------------------------\n",
      "[\"NASA's Perseverance Pays Off Back Home\", 'Could the Surface of Phobos Reveal Secrets of the Martian Past?', \"NASA's MAVEN Continues to Advance Mars Science and Telecommunications Relay Efforts\", \"NASA's Perseverance Rover 22 Days From Mars Landing\", \"6 Things to Know About NASA's Mars Helicopter on Its Way to Mars\", 'NASA to Host Virtual Briefing on February Perseverance Mars Rover Landing']\n",
      "Scraping Complete\n",
      "-----------------------------\n",
      "[\"NASA's Perseverance Pays Off Back Home\", 'Could the Surface of Phobos Reveal Secrets of the Martian Past?', \"NASA's MAVEN Continues to Advance Mars Science and Telecommunications Relay Efforts\", \"NASA's Perseverance Rover 22 Days From Mars Landing\", \"6 Things to Know About NASA's Mars Helicopter on Its Way to Mars\", 'NASA to Host Virtual Briefing on February Perseverance Mars Rover Landing', \"NASA InSight's ‘Mole' Ends Its Journey on Mars\"]\n",
      "Scraping Complete\n",
      "-----------------------------\n",
      "[\"NASA's Perseverance Pays Off Back Home\", 'Could the Surface of Phobos Reveal Secrets of the Martian Past?', \"NASA's MAVEN Continues to Advance Mars Science and Telecommunications Relay Efforts\", \"NASA's Perseverance Rover 22 Days From Mars Landing\", \"6 Things to Know About NASA's Mars Helicopter on Its Way to Mars\", 'NASA to Host Virtual Briefing on February Perseverance Mars Rover Landing', \"NASA InSight's ‘Mole' Ends Its Journey on Mars\", 'Mars 2020 Perseverance Rover to Capture Sounds From the Red Planet']\n",
      "Scraping Complete\n",
      "-----------------------------\n",
      "[\"NASA's Perseverance Pays Off Back Home\", 'Could the Surface of Phobos Reveal Secrets of the Martian Past?', \"NASA's MAVEN Continues to Advance Mars Science and Telecommunications Relay Efforts\", \"NASA's Perseverance Rover 22 Days From Mars Landing\", \"6 Things to Know About NASA's Mars Helicopter on Its Way to Mars\", 'NASA to Host Virtual Briefing on February Perseverance Mars Rover Landing', \"NASA InSight's ‘Mole' Ends Its Journey on Mars\", 'Mars 2020 Perseverance Rover to Capture Sounds From the Red Planet', \"NASA's Curiosity Rover Reaches Its 3,000th Day on Mars\"]\n",
      "Scraping Complete\n",
      "-----------------------------\n",
      "[\"NASA's Perseverance Pays Off Back Home\", 'Could the Surface of Phobos Reveal Secrets of the Martian Past?', \"NASA's MAVEN Continues to Advance Mars Science and Telecommunications Relay Efforts\", \"NASA's Perseverance Rover 22 Days From Mars Landing\", \"6 Things to Know About NASA's Mars Helicopter on Its Way to Mars\", 'NASA to Host Virtual Briefing on February Perseverance Mars Rover Landing', \"NASA InSight's ‘Mole' Ends Its Journey on Mars\", 'Mars 2020 Perseverance Rover to Capture Sounds From the Red Planet', \"NASA's Curiosity Rover Reaches Its 3,000th Day on Mars\", \"Celebrate the Perseverance Rover Landing With NASA's Student Challenge\"]\n",
      "Scraping Complete\n",
      "-----------------------------\n",
      "[\"NASA's Perseverance Pays Off Back Home\", 'Could the Surface of Phobos Reveal Secrets of the Martian Past?', \"NASA's MAVEN Continues to Advance Mars Science and Telecommunications Relay Efforts\", \"NASA's Perseverance Rover 22 Days From Mars Landing\", \"6 Things to Know About NASA's Mars Helicopter on Its Way to Mars\", 'NASA to Host Virtual Briefing on February Perseverance Mars Rover Landing', \"NASA InSight's ‘Mole' Ends Its Journey on Mars\", 'Mars 2020 Perseverance Rover to Capture Sounds From the Red Planet', \"NASA's Curiosity Rover Reaches Its 3,000th Day on Mars\", \"Celebrate the Perseverance Rover Landing With NASA's Student Challenge\", 'NASA Extends Exploration for Two Planetary Science Missions']\n",
      "Scraping Complete\n",
      "-----------------------------\n",
      "[\"NASA's Perseverance Pays Off Back Home\", 'Could the Surface of Phobos Reveal Secrets of the Martian Past?', \"NASA's MAVEN Continues to Advance Mars Science and Telecommunications Relay Efforts\", \"NASA's Perseverance Rover 22 Days From Mars Landing\", \"6 Things to Know About NASA's Mars Helicopter on Its Way to Mars\", 'NASA to Host Virtual Briefing on February Perseverance Mars Rover Landing', \"NASA InSight's ‘Mole' Ends Its Journey on Mars\", 'Mars 2020 Perseverance Rover to Capture Sounds From the Red Planet', \"NASA's Curiosity Rover Reaches Its 3,000th Day on Mars\", \"Celebrate the Perseverance Rover Landing With NASA's Student Challenge\", 'NASA Extends Exploration for Two Planetary Science Missions', '7 Things to Know About the NASA Rover About to Land on Mars']\n",
      "Scraping Complete\n",
      "-----------------------------\n",
      "[\"NASA's Perseverance Pays Off Back Home\", 'Could the Surface of Phobos Reveal Secrets of the Martian Past?', \"NASA's MAVEN Continues to Advance Mars Science and Telecommunications Relay Efforts\", \"NASA's Perseverance Rover 22 Days From Mars Landing\", \"6 Things to Know About NASA's Mars Helicopter on Its Way to Mars\", 'NASA to Host Virtual Briefing on February Perseverance Mars Rover Landing', \"NASA InSight's ‘Mole' Ends Its Journey on Mars\", 'Mars 2020 Perseverance Rover to Capture Sounds From the Red Planet', \"NASA's Curiosity Rover Reaches Its 3,000th Day on Mars\", \"Celebrate the Perseverance Rover Landing With NASA's Student Challenge\", 'NASA Extends Exploration for Two Planetary Science Missions', '7 Things to Know About the NASA Rover About to Land on Mars', \"A Martian Roundtrip: NASA's Perseverance Rover Sample Tubes\"]\n",
      "Scraping Complete\n",
      "-----------------------------\n",
      "[\"NASA's Perseverance Pays Off Back Home\", 'Could the Surface of Phobos Reveal Secrets of the Martian Past?', \"NASA's MAVEN Continues to Advance Mars Science and Telecommunications Relay Efforts\", \"NASA's Perseverance Rover 22 Days From Mars Landing\", \"6 Things to Know About NASA's Mars Helicopter on Its Way to Mars\", 'NASA to Host Virtual Briefing on February Perseverance Mars Rover Landing', \"NASA InSight's ‘Mole' Ends Its Journey on Mars\", 'Mars 2020 Perseverance Rover to Capture Sounds From the Red Planet', \"NASA's Curiosity Rover Reaches Its 3,000th Day on Mars\", \"Celebrate the Perseverance Rover Landing With NASA's Student Challenge\", 'NASA Extends Exploration for Two Planetary Science Missions', '7 Things to Know About the NASA Rover About to Land on Mars', \"A Martian Roundtrip: NASA's Perseverance Rover Sample Tubes\", 'NASA Moves Forward With Campaign to Return Mars Samples to Earth']\n",
      "Scraping Complete\n",
      "-----------------------------\n",
      "[\"NASA's Perseverance Pays Off Back Home\", 'Could the Surface of Phobos Reveal Secrets of the Martian Past?', \"NASA's MAVEN Continues to Advance Mars Science and Telecommunications Relay Efforts\", \"NASA's Perseverance Rover 22 Days From Mars Landing\", \"6 Things to Know About NASA's Mars Helicopter on Its Way to Mars\", 'NASA to Host Virtual Briefing on February Perseverance Mars Rover Landing', \"NASA InSight's ‘Mole' Ends Its Journey on Mars\", 'Mars 2020 Perseverance Rover to Capture Sounds From the Red Planet', \"NASA's Curiosity Rover Reaches Its 3,000th Day on Mars\", \"Celebrate the Perseverance Rover Landing With NASA's Student Challenge\", 'NASA Extends Exploration for Two Planetary Science Missions', '7 Things to Know About the NASA Rover About to Land on Mars', \"A Martian Roundtrip: NASA's Perseverance Rover Sample Tubes\", 'NASA Moves Forward With Campaign to Return Mars Samples to Earth', \"3 Things We've Learned From NASA's Mars InSight\"]\n",
      "Scraping Complete\n",
      "-----------------------------\n",
      "[\"NASA's Perseverance Pays Off Back Home\", 'Could the Surface of Phobos Reveal Secrets of the Martian Past?', \"NASA's MAVEN Continues to Advance Mars Science and Telecommunications Relay Efforts\", \"NASA's Perseverance Rover 22 Days From Mars Landing\", \"6 Things to Know About NASA's Mars Helicopter on Its Way to Mars\", 'NASA to Host Virtual Briefing on February Perseverance Mars Rover Landing', \"NASA InSight's ‘Mole' Ends Its Journey on Mars\", 'Mars 2020 Perseverance Rover to Capture Sounds From the Red Planet', \"NASA's Curiosity Rover Reaches Its 3,000th Day on Mars\", \"Celebrate the Perseverance Rover Landing With NASA's Student Challenge\", 'NASA Extends Exploration for Two Planetary Science Missions', '7 Things to Know About the NASA Rover About to Land on Mars', \"A Martian Roundtrip: NASA's Perseverance Rover Sample Tubes\", 'NASA Moves Forward With Campaign to Return Mars Samples to Earth', \"3 Things We've Learned From NASA's Mars InSight\", \"From JPL's Mailroom to Mars and Beyond\"]\n",
      "Scraping Complete\n",
      "-----------------------------\n",
      "[\"NASA's Perseverance Pays Off Back Home\", 'Could the Surface of Phobos Reveal Secrets of the Martian Past?', \"NASA's MAVEN Continues to Advance Mars Science and Telecommunications Relay Efforts\", \"NASA's Perseverance Rover 22 Days From Mars Landing\", \"6 Things to Know About NASA's Mars Helicopter on Its Way to Mars\", 'NASA to Host Virtual Briefing on February Perseverance Mars Rover Landing', \"NASA InSight's ‘Mole' Ends Its Journey on Mars\", 'Mars 2020 Perseverance Rover to Capture Sounds From the Red Planet', \"NASA's Curiosity Rover Reaches Its 3,000th Day on Mars\", \"Celebrate the Perseverance Rover Landing With NASA's Student Challenge\", 'NASA Extends Exploration for Two Planetary Science Missions', '7 Things to Know About the NASA Rover About to Land on Mars', \"A Martian Roundtrip: NASA's Perseverance Rover Sample Tubes\", 'NASA Moves Forward With Campaign to Return Mars Samples to Earth', \"3 Things We've Learned From NASA's Mars InSight\", \"From JPL's Mailroom to Mars and Beyond\", \"5 Hidden Gems Are Riding Aboard NASA's Perseverance Rover\"]\n",
      "Scraping Complete\n",
      "-----------------------------\n",
      "[\"NASA's Perseverance Pays Off Back Home\", 'Could the Surface of Phobos Reveal Secrets of the Martian Past?', \"NASA's MAVEN Continues to Advance Mars Science and Telecommunications Relay Efforts\", \"NASA's Perseverance Rover 22 Days From Mars Landing\", \"6 Things to Know About NASA's Mars Helicopter on Its Way to Mars\", 'NASA to Host Virtual Briefing on February Perseverance Mars Rover Landing', \"NASA InSight's ‘Mole' Ends Its Journey on Mars\", 'Mars 2020 Perseverance Rover to Capture Sounds From the Red Planet', \"NASA's Curiosity Rover Reaches Its 3,000th Day on Mars\", \"Celebrate the Perseverance Rover Landing With NASA's Student Challenge\", 'NASA Extends Exploration for Two Planetary Science Missions', '7 Things to Know About the NASA Rover About to Land on Mars', \"A Martian Roundtrip: NASA's Perseverance Rover Sample Tubes\", 'NASA Moves Forward With Campaign to Return Mars Samples to Earth', \"3 Things We've Learned From NASA's Mars InSight\", \"From JPL's Mailroom to Mars and Beyond\", \"5 Hidden Gems Are Riding Aboard NASA's Perseverance Rover\", 'MOXIE Could Help Future Rockets Launch Off Mars']\n",
      "Scraping Complete\n",
      "-----------------------------\n",
      "[\"NASA's Perseverance Pays Off Back Home\", 'Could the Surface of Phobos Reveal Secrets of the Martian Past?', \"NASA's MAVEN Continues to Advance Mars Science and Telecommunications Relay Efforts\", \"NASA's Perseverance Rover 22 Days From Mars Landing\", \"6 Things to Know About NASA's Mars Helicopter on Its Way to Mars\", 'NASA to Host Virtual Briefing on February Perseverance Mars Rover Landing', \"NASA InSight's ‘Mole' Ends Its Journey on Mars\", 'Mars 2020 Perseverance Rover to Capture Sounds From the Red Planet', \"NASA's Curiosity Rover Reaches Its 3,000th Day on Mars\", \"Celebrate the Perseverance Rover Landing With NASA's Student Challenge\", 'NASA Extends Exploration for Two Planetary Science Missions', '7 Things to Know About the NASA Rover About to Land on Mars', \"A Martian Roundtrip: NASA's Perseverance Rover Sample Tubes\", 'NASA Moves Forward With Campaign to Return Mars Samples to Earth', \"3 Things We've Learned From NASA's Mars InSight\", \"From JPL's Mailroom to Mars and Beyond\", \"5 Hidden Gems Are Riding Aboard NASA's Perseverance Rover\", 'MOXIE Could Help Future Rockets Launch Off Mars', \"Hear Audio From NASA's Perseverance As It Travels Through Deep Space\"]\n",
      "Scraping Complete\n",
      "-----------------------------\n",
      "[\"NASA's Perseverance Pays Off Back Home\", 'Could the Surface of Phobos Reveal Secrets of the Martian Past?', \"NASA's MAVEN Continues to Advance Mars Science and Telecommunications Relay Efforts\", \"NASA's Perseverance Rover 22 Days From Mars Landing\", \"6 Things to Know About NASA's Mars Helicopter on Its Way to Mars\", 'NASA to Host Virtual Briefing on February Perseverance Mars Rover Landing', \"NASA InSight's ‘Mole' Ends Its Journey on Mars\", 'Mars 2020 Perseverance Rover to Capture Sounds From the Red Planet', \"NASA's Curiosity Rover Reaches Its 3,000th Day on Mars\", \"Celebrate the Perseverance Rover Landing With NASA's Student Challenge\", 'NASA Extends Exploration for Two Planetary Science Missions', '7 Things to Know About the NASA Rover About to Land on Mars', \"A Martian Roundtrip: NASA's Perseverance Rover Sample Tubes\", 'NASA Moves Forward With Campaign to Return Mars Samples to Earth', \"3 Things We've Learned From NASA's Mars InSight\", \"From JPL's Mailroom to Mars and Beyond\", \"5 Hidden Gems Are Riding Aboard NASA's Perseverance Rover\", 'MOXIE Could Help Future Rockets Launch Off Mars', \"Hear Audio From NASA's Perseverance As It Travels Through Deep Space\", 'Mars Is Getting a New Robotic Meteorologist']\n",
      "Scraping Complete\n",
      "-----------------------------\n",
      "[\"NASA's Perseverance Pays Off Back Home\", 'Could the Surface of Phobos Reveal Secrets of the Martian Past?', \"NASA's MAVEN Continues to Advance Mars Science and Telecommunications Relay Efforts\", \"NASA's Perseverance Rover 22 Days From Mars Landing\", \"6 Things to Know About NASA's Mars Helicopter on Its Way to Mars\", 'NASA to Host Virtual Briefing on February Perseverance Mars Rover Landing', \"NASA InSight's ‘Mole' Ends Its Journey on Mars\", 'Mars 2020 Perseverance Rover to Capture Sounds From the Red Planet', \"NASA's Curiosity Rover Reaches Its 3,000th Day on Mars\", \"Celebrate the Perseverance Rover Landing With NASA's Student Challenge\", 'NASA Extends Exploration for Two Planetary Science Missions', '7 Things to Know About the NASA Rover About to Land on Mars', \"A Martian Roundtrip: NASA's Perseverance Rover Sample Tubes\", 'NASA Moves Forward With Campaign to Return Mars Samples to Earth', \"3 Things We've Learned From NASA's Mars InSight\", \"From JPL's Mailroom to Mars and Beyond\", \"5 Hidden Gems Are Riding Aboard NASA's Perseverance Rover\", 'MOXIE Could Help Future Rockets Launch Off Mars', \"Hear Audio From NASA's Perseverance As It Travels Through Deep Space\", 'Mars Is Getting a New Robotic Meteorologist', 'Heat and Dust Help Launch Martian Water Into Space, Scientists Find']\n",
      "Scraping Complete\n",
      "-----------------------------\n",
      "[\"NASA's Perseverance Pays Off Back Home\", 'Could the Surface of Phobos Reveal Secrets of the Martian Past?', \"NASA's MAVEN Continues to Advance Mars Science and Telecommunications Relay Efforts\", \"NASA's Perseverance Rover 22 Days From Mars Landing\", \"6 Things to Know About NASA's Mars Helicopter on Its Way to Mars\", 'NASA to Host Virtual Briefing on February Perseverance Mars Rover Landing', \"NASA InSight's ‘Mole' Ends Its Journey on Mars\", 'Mars 2020 Perseverance Rover to Capture Sounds From the Red Planet', \"NASA's Curiosity Rover Reaches Its 3,000th Day on Mars\", \"Celebrate the Perseverance Rover Landing With NASA's Student Challenge\", 'NASA Extends Exploration for Two Planetary Science Missions', '7 Things to Know About the NASA Rover About to Land on Mars', \"A Martian Roundtrip: NASA's Perseverance Rover Sample Tubes\", 'NASA Moves Forward With Campaign to Return Mars Samples to Earth', \"3 Things We've Learned From NASA's Mars InSight\", \"From JPL's Mailroom to Mars and Beyond\", \"5 Hidden Gems Are Riding Aboard NASA's Perseverance Rover\", 'MOXIE Could Help Future Rockets Launch Off Mars', \"Hear Audio From NASA's Perseverance As It Travels Through Deep Space\", 'Mars Is Getting a New Robotic Meteorologist', 'Heat and Dust Help Launch Martian Water Into Space, Scientists Find', \"NASA's Curiosity Takes Selfie With 'Mary Anning' on the Red Planet\"]\n",
      "Scraping Complete\n",
      "-----------------------------\n",
      "[\"NASA's Perseverance Pays Off Back Home\", 'Could the Surface of Phobos Reveal Secrets of the Martian Past?', \"NASA's MAVEN Continues to Advance Mars Science and Telecommunications Relay Efforts\", \"NASA's Perseverance Rover 22 Days From Mars Landing\", \"6 Things to Know About NASA's Mars Helicopter on Its Way to Mars\", 'NASA to Host Virtual Briefing on February Perseverance Mars Rover Landing', \"NASA InSight's ‘Mole' Ends Its Journey on Mars\", 'Mars 2020 Perseverance Rover to Capture Sounds From the Red Planet', \"NASA's Curiosity Rover Reaches Its 3,000th Day on Mars\", \"Celebrate the Perseverance Rover Landing With NASA's Student Challenge\", 'NASA Extends Exploration for Two Planetary Science Missions', '7 Things to Know About the NASA Rover About to Land on Mars', \"A Martian Roundtrip: NASA's Perseverance Rover Sample Tubes\", 'NASA Moves Forward With Campaign to Return Mars Samples to Earth', \"3 Things We've Learned From NASA's Mars InSight\", \"From JPL's Mailroom to Mars and Beyond\", \"5 Hidden Gems Are Riding Aboard NASA's Perseverance Rover\", 'MOXIE Could Help Future Rockets Launch Off Mars', \"Hear Audio From NASA's Perseverance As It Travels Through Deep Space\", 'Mars Is Getting a New Robotic Meteorologist', 'Heat and Dust Help Launch Martian Water Into Space, Scientists Find', \"NASA's Curiosity Takes Selfie With 'Mary Anning' on the Red Planet\", 'Independent Review Indicates NASA Prepared for Mars Sample Return Campaign']\n",
      "Scraping Complete\n",
      "-----------------------------\n",
      "[\"NASA's Perseverance Pays Off Back Home\", 'Could the Surface of Phobos Reveal Secrets of the Martian Past?', \"NASA's MAVEN Continues to Advance Mars Science and Telecommunications Relay Efforts\", \"NASA's Perseverance Rover 22 Days From Mars Landing\", \"6 Things to Know About NASA's Mars Helicopter on Its Way to Mars\", 'NASA to Host Virtual Briefing on February Perseverance Mars Rover Landing', \"NASA InSight's ‘Mole' Ends Its Journey on Mars\", 'Mars 2020 Perseverance Rover to Capture Sounds From the Red Planet', \"NASA's Curiosity Rover Reaches Its 3,000th Day on Mars\", \"Celebrate the Perseverance Rover Landing With NASA's Student Challenge\", 'NASA Extends Exploration for Two Planetary Science Missions', '7 Things to Know About the NASA Rover About to Land on Mars', \"A Martian Roundtrip: NASA's Perseverance Rover Sample Tubes\", 'NASA Moves Forward With Campaign to Return Mars Samples to Earth', \"3 Things We've Learned From NASA's Mars InSight\", \"From JPL's Mailroom to Mars and Beyond\", \"5 Hidden Gems Are Riding Aboard NASA's Perseverance Rover\", 'MOXIE Could Help Future Rockets Launch Off Mars', \"Hear Audio From NASA's Perseverance As It Travels Through Deep Space\", 'Mars Is Getting a New Robotic Meteorologist', 'Heat and Dust Help Launch Martian Water Into Space, Scientists Find', \"NASA's Curiosity Takes Selfie With 'Mary Anning' on the Red Planet\", 'Independent Review Indicates NASA Prepared for Mars Sample Return Campaign', \"NASA's Perseverance Rover 100 Days Out\"]\n",
      "Scraping Complete\n",
      "-----------------------------\n",
      "[\"NASA's Perseverance Pays Off Back Home\", 'Could the Surface of Phobos Reveal Secrets of the Martian Past?', \"NASA's MAVEN Continues to Advance Mars Science and Telecommunications Relay Efforts\", \"NASA's Perseverance Rover 22 Days From Mars Landing\", \"6 Things to Know About NASA's Mars Helicopter on Its Way to Mars\", 'NASA to Host Virtual Briefing on February Perseverance Mars Rover Landing', \"NASA InSight's ‘Mole' Ends Its Journey on Mars\", 'Mars 2020 Perseverance Rover to Capture Sounds From the Red Planet', \"NASA's Curiosity Rover Reaches Its 3,000th Day on Mars\", \"Celebrate the Perseverance Rover Landing With NASA's Student Challenge\", 'NASA Extends Exploration for Two Planetary Science Missions', '7 Things to Know About the NASA Rover About to Land on Mars', \"A Martian Roundtrip: NASA's Perseverance Rover Sample Tubes\", 'NASA Moves Forward With Campaign to Return Mars Samples to Earth', \"3 Things We've Learned From NASA's Mars InSight\", \"From JPL's Mailroom to Mars and Beyond\", \"5 Hidden Gems Are Riding Aboard NASA's Perseverance Rover\", 'MOXIE Could Help Future Rockets Launch Off Mars', \"Hear Audio From NASA's Perseverance As It Travels Through Deep Space\", 'Mars Is Getting a New Robotic Meteorologist', 'Heat and Dust Help Launch Martian Water Into Space, Scientists Find', \"NASA's Curiosity Takes Selfie With 'Mary Anning' on the Red Planet\", 'Independent Review Indicates NASA Prepared for Mars Sample Return Campaign', \"NASA's Perseverance Rover 100 Days Out\", \"NASA's Perseverance Rover Is Midway to Mars\"]\n",
      "Scraping Complete\n",
      "-----------------------------\n",
      "[\"NASA's Perseverance Pays Off Back Home\", 'Could the Surface of Phobos Reveal Secrets of the Martian Past?', \"NASA's MAVEN Continues to Advance Mars Science and Telecommunications Relay Efforts\", \"NASA's Perseverance Rover 22 Days From Mars Landing\", \"6 Things to Know About NASA's Mars Helicopter on Its Way to Mars\", 'NASA to Host Virtual Briefing on February Perseverance Mars Rover Landing', \"NASA InSight's ‘Mole' Ends Its Journey on Mars\", 'Mars 2020 Perseverance Rover to Capture Sounds From the Red Planet', \"NASA's Curiosity Rover Reaches Its 3,000th Day on Mars\", \"Celebrate the Perseverance Rover Landing With NASA's Student Challenge\", 'NASA Extends Exploration for Two Planetary Science Missions', '7 Things to Know About the NASA Rover About to Land on Mars', \"A Martian Roundtrip: NASA's Perseverance Rover Sample Tubes\", 'NASA Moves Forward With Campaign to Return Mars Samples to Earth', \"3 Things We've Learned From NASA's Mars InSight\", \"From JPL's Mailroom to Mars and Beyond\", \"5 Hidden Gems Are Riding Aboard NASA's Perseverance Rover\", 'MOXIE Could Help Future Rockets Launch Off Mars', \"Hear Audio From NASA's Perseverance As It Travels Through Deep Space\", 'Mars Is Getting a New Robotic Meteorologist', 'Heat and Dust Help Launch Martian Water Into Space, Scientists Find', \"NASA's Curiosity Takes Selfie With 'Mary Anning' on the Red Planet\", 'Independent Review Indicates NASA Prepared for Mars Sample Return Campaign', \"NASA's Perseverance Rover 100 Days Out\", \"NASA's Perseverance Rover Is Midway to Mars\", 'Sensors on Mars 2020 Spacecraft Answer Long-Distance Call From Earth']\n",
      "Scraping Complete\n",
      "-----------------------------\n",
      "[\"NASA's Perseverance Pays Off Back Home\", 'Could the Surface of Phobos Reveal Secrets of the Martian Past?', \"NASA's MAVEN Continues to Advance Mars Science and Telecommunications Relay Efforts\", \"NASA's Perseverance Rover 22 Days From Mars Landing\", \"6 Things to Know About NASA's Mars Helicopter on Its Way to Mars\", 'NASA to Host Virtual Briefing on February Perseverance Mars Rover Landing', \"NASA InSight's ‘Mole' Ends Its Journey on Mars\", 'Mars 2020 Perseverance Rover to Capture Sounds From the Red Planet', \"NASA's Curiosity Rover Reaches Its 3,000th Day on Mars\", \"Celebrate the Perseverance Rover Landing With NASA's Student Challenge\", 'NASA Extends Exploration for Two Planetary Science Missions', '7 Things to Know About the NASA Rover About to Land on Mars', \"A Martian Roundtrip: NASA's Perseverance Rover Sample Tubes\", 'NASA Moves Forward With Campaign to Return Mars Samples to Earth', \"3 Things We've Learned From NASA's Mars InSight\", \"From JPL's Mailroom to Mars and Beyond\", \"5 Hidden Gems Are Riding Aboard NASA's Perseverance Rover\", 'MOXIE Could Help Future Rockets Launch Off Mars', \"Hear Audio From NASA's Perseverance As It Travels Through Deep Space\", 'Mars Is Getting a New Robotic Meteorologist', 'Heat and Dust Help Launch Martian Water Into Space, Scientists Find', \"NASA's Curiosity Takes Selfie With 'Mary Anning' on the Red Planet\", 'Independent Review Indicates NASA Prepared for Mars Sample Return Campaign', \"NASA's Perseverance Rover 100 Days Out\", \"NASA's Perseverance Rover Is Midway to Mars\", 'Sensors on Mars 2020 Spacecraft Answer Long-Distance Call From Earth', \"NASA's Perseverance Rover Bringing 3D-Printed Metal Parts to Mars\"]\n",
      "Scraping Complete\n",
      "-----------------------------\n",
      "[\"NASA's Perseverance Pays Off Back Home\", 'Could the Surface of Phobos Reveal Secrets of the Martian Past?', \"NASA's MAVEN Continues to Advance Mars Science and Telecommunications Relay Efforts\", \"NASA's Perseverance Rover 22 Days From Mars Landing\", \"6 Things to Know About NASA's Mars Helicopter on Its Way to Mars\", 'NASA to Host Virtual Briefing on February Perseverance Mars Rover Landing', \"NASA InSight's ‘Mole' Ends Its Journey on Mars\", 'Mars 2020 Perseverance Rover to Capture Sounds From the Red Planet', \"NASA's Curiosity Rover Reaches Its 3,000th Day on Mars\", \"Celebrate the Perseverance Rover Landing With NASA's Student Challenge\", 'NASA Extends Exploration for Two Planetary Science Missions', '7 Things to Know About the NASA Rover About to Land on Mars', \"A Martian Roundtrip: NASA's Perseverance Rover Sample Tubes\", 'NASA Moves Forward With Campaign to Return Mars Samples to Earth', \"3 Things We've Learned From NASA's Mars InSight\", \"From JPL's Mailroom to Mars and Beyond\", \"5 Hidden Gems Are Riding Aboard NASA's Perseverance Rover\", 'MOXIE Could Help Future Rockets Launch Off Mars', \"Hear Audio From NASA's Perseverance As It Travels Through Deep Space\", 'Mars Is Getting a New Robotic Meteorologist', 'Heat and Dust Help Launch Martian Water Into Space, Scientists Find', \"NASA's Curiosity Takes Selfie With 'Mary Anning' on the Red Planet\", 'Independent Review Indicates NASA Prepared for Mars Sample Return Campaign', \"NASA's Perseverance Rover 100 Days Out\", \"NASA's Perseverance Rover Is Midway to Mars\", 'Sensors on Mars 2020 Spacecraft Answer Long-Distance Call From Earth', \"NASA's Perseverance Rover Bringing 3D-Printed Metal Parts to Mars\", \"NASA InSight's 'Mole' Is Out of Sight\"]\n",
      "Scraping Complete\n",
      "-----------------------------\n",
      "[\"NASA's Perseverance Pays Off Back Home\", 'Could the Surface of Phobos Reveal Secrets of the Martian Past?', \"NASA's MAVEN Continues to Advance Mars Science and Telecommunications Relay Efforts\", \"NASA's Perseverance Rover 22 Days From Mars Landing\", \"6 Things to Know About NASA's Mars Helicopter on Its Way to Mars\", 'NASA to Host Virtual Briefing on February Perseverance Mars Rover Landing', \"NASA InSight's ‘Mole' Ends Its Journey on Mars\", 'Mars 2020 Perseverance Rover to Capture Sounds From the Red Planet', \"NASA's Curiosity Rover Reaches Its 3,000th Day on Mars\", \"Celebrate the Perseverance Rover Landing With NASA's Student Challenge\", 'NASA Extends Exploration for Two Planetary Science Missions', '7 Things to Know About the NASA Rover About to Land on Mars', \"A Martian Roundtrip: NASA's Perseverance Rover Sample Tubes\", 'NASA Moves Forward With Campaign to Return Mars Samples to Earth', \"3 Things We've Learned From NASA's Mars InSight\", \"From JPL's Mailroom to Mars and Beyond\", \"5 Hidden Gems Are Riding Aboard NASA's Perseverance Rover\", 'MOXIE Could Help Future Rockets Launch Off Mars', \"Hear Audio From NASA's Perseverance As It Travels Through Deep Space\", 'Mars Is Getting a New Robotic Meteorologist', 'Heat and Dust Help Launch Martian Water Into Space, Scientists Find', \"NASA's Curiosity Takes Selfie With 'Mary Anning' on the Red Planet\", 'Independent Review Indicates NASA Prepared for Mars Sample Return Campaign', \"NASA's Perseverance Rover 100 Days Out\", \"NASA's Perseverance Rover Is Midway to Mars\", 'Sensors on Mars 2020 Spacecraft Answer Long-Distance Call From Earth', \"NASA's Perseverance Rover Bringing 3D-Printed Metal Parts to Mars\", \"NASA InSight's 'Mole' Is Out of Sight\", \"NASA's Perseverance Rover Will Peer Beneath Mars' Surface\"]\n",
      "Scraping Complete\n",
      "-----------------------------\n",
      "[\"NASA's Perseverance Pays Off Back Home\", 'Could the Surface of Phobos Reveal Secrets of the Martian Past?', \"NASA's MAVEN Continues to Advance Mars Science and Telecommunications Relay Efforts\", \"NASA's Perseverance Rover 22 Days From Mars Landing\", \"6 Things to Know About NASA's Mars Helicopter on Its Way to Mars\", 'NASA to Host Virtual Briefing on February Perseverance Mars Rover Landing', \"NASA InSight's ‘Mole' Ends Its Journey on Mars\", 'Mars 2020 Perseverance Rover to Capture Sounds From the Red Planet', \"NASA's Curiosity Rover Reaches Its 3,000th Day on Mars\", \"Celebrate the Perseverance Rover Landing With NASA's Student Challenge\", 'NASA Extends Exploration for Two Planetary Science Missions', '7 Things to Know About the NASA Rover About to Land on Mars', \"A Martian Roundtrip: NASA's Perseverance Rover Sample Tubes\", 'NASA Moves Forward With Campaign to Return Mars Samples to Earth', \"3 Things We've Learned From NASA's Mars InSight\", \"From JPL's Mailroom to Mars and Beyond\", \"5 Hidden Gems Are Riding Aboard NASA's Perseverance Rover\", 'MOXIE Could Help Future Rockets Launch Off Mars', \"Hear Audio From NASA's Perseverance As It Travels Through Deep Space\", 'Mars Is Getting a New Robotic Meteorologist', 'Heat and Dust Help Launch Martian Water Into Space, Scientists Find', \"NASA's Curiosity Takes Selfie With 'Mary Anning' on the Red Planet\", 'Independent Review Indicates NASA Prepared for Mars Sample Return Campaign', \"NASA's Perseverance Rover 100 Days Out\", \"NASA's Perseverance Rover Is Midway to Mars\", 'Sensors on Mars 2020 Spacecraft Answer Long-Distance Call From Earth', \"NASA's Perseverance Rover Bringing 3D-Printed Metal Parts to Mars\", \"NASA InSight's 'Mole' Is Out of Sight\", \"NASA's Perseverance Rover Will Peer Beneath Mars' Surface\", 'AI Is Helping Scientists Discover Fresh Craters on Mars']\n",
      "Scraping Complete\n",
      "-----------------------------\n",
      "[\"NASA's Perseverance Pays Off Back Home\", 'Could the Surface of Phobos Reveal Secrets of the Martian Past?', \"NASA's MAVEN Continues to Advance Mars Science and Telecommunications Relay Efforts\", \"NASA's Perseverance Rover 22 Days From Mars Landing\", \"6 Things to Know About NASA's Mars Helicopter on Its Way to Mars\", 'NASA to Host Virtual Briefing on February Perseverance Mars Rover Landing', \"NASA InSight's ‘Mole' Ends Its Journey on Mars\", 'Mars 2020 Perseverance Rover to Capture Sounds From the Red Planet', \"NASA's Curiosity Rover Reaches Its 3,000th Day on Mars\", \"Celebrate the Perseverance Rover Landing With NASA's Student Challenge\", 'NASA Extends Exploration for Two Planetary Science Missions', '7 Things to Know About the NASA Rover About to Land on Mars', \"A Martian Roundtrip: NASA's Perseverance Rover Sample Tubes\", 'NASA Moves Forward With Campaign to Return Mars Samples to Earth', \"3 Things We've Learned From NASA's Mars InSight\", \"From JPL's Mailroom to Mars and Beyond\", \"5 Hidden Gems Are Riding Aboard NASA's Perseverance Rover\", 'MOXIE Could Help Future Rockets Launch Off Mars', \"Hear Audio From NASA's Perseverance As It Travels Through Deep Space\", 'Mars Is Getting a New Robotic Meteorologist', 'Heat and Dust Help Launch Martian Water Into Space, Scientists Find', \"NASA's Curiosity Takes Selfie With 'Mary Anning' on the Red Planet\", 'Independent Review Indicates NASA Prepared for Mars Sample Return Campaign', \"NASA's Perseverance Rover 100 Days Out\", \"NASA's Perseverance Rover Is Midway to Mars\", 'Sensors on Mars 2020 Spacecraft Answer Long-Distance Call From Earth', \"NASA's Perseverance Rover Bringing 3D-Printed Metal Parts to Mars\", \"NASA InSight's 'Mole' Is Out of Sight\", \"NASA's Perseverance Rover Will Peer Beneath Mars' Surface\", 'AI Is Helping Scientists Discover Fresh Craters on Mars', \"NASA's New Mars Rover Is Ready for Space Lasers\"]\n",
      "Scraping Complete\n",
      "-----------------------------\n",
      "[\"NASA's Perseverance Pays Off Back Home\", 'Could the Surface of Phobos Reveal Secrets of the Martian Past?', \"NASA's MAVEN Continues to Advance Mars Science and Telecommunications Relay Efforts\", \"NASA's Perseverance Rover 22 Days From Mars Landing\", \"6 Things to Know About NASA's Mars Helicopter on Its Way to Mars\", 'NASA to Host Virtual Briefing on February Perseverance Mars Rover Landing', \"NASA InSight's ‘Mole' Ends Its Journey on Mars\", 'Mars 2020 Perseverance Rover to Capture Sounds From the Red Planet', \"NASA's Curiosity Rover Reaches Its 3,000th Day on Mars\", \"Celebrate the Perseverance Rover Landing With NASA's Student Challenge\", 'NASA Extends Exploration for Two Planetary Science Missions', '7 Things to Know About the NASA Rover About to Land on Mars', \"A Martian Roundtrip: NASA's Perseverance Rover Sample Tubes\", 'NASA Moves Forward With Campaign to Return Mars Samples to Earth', \"3 Things We've Learned From NASA's Mars InSight\", \"From JPL's Mailroom to Mars and Beyond\", \"5 Hidden Gems Are Riding Aboard NASA's Perseverance Rover\", 'MOXIE Could Help Future Rockets Launch Off Mars', \"Hear Audio From NASA's Perseverance As It Travels Through Deep Space\", 'Mars Is Getting a New Robotic Meteorologist', 'Heat and Dust Help Launch Martian Water Into Space, Scientists Find', \"NASA's Curiosity Takes Selfie With 'Mary Anning' on the Red Planet\", 'Independent Review Indicates NASA Prepared for Mars Sample Return Campaign', \"NASA's Perseverance Rover 100 Days Out\", \"NASA's Perseverance Rover Is Midway to Mars\", 'Sensors on Mars 2020 Spacecraft Answer Long-Distance Call From Earth', \"NASA's Perseverance Rover Bringing 3D-Printed Metal Parts to Mars\", \"NASA InSight's 'Mole' Is Out of Sight\", \"NASA's Perseverance Rover Will Peer Beneath Mars' Surface\", 'AI Is Helping Scientists Discover Fresh Craters on Mars', \"NASA's New Mars Rover Is Ready for Space Lasers\", \"NASA's New Mars Rover Will Use X-Rays to Hunt Fossils\"]\n",
      "Scraping Complete\n",
      "-----------------------------\n",
      "[\"NASA's Perseverance Pays Off Back Home\", 'Could the Surface of Phobos Reveal Secrets of the Martian Past?', \"NASA's MAVEN Continues to Advance Mars Science and Telecommunications Relay Efforts\", \"NASA's Perseverance Rover 22 Days From Mars Landing\", \"6 Things to Know About NASA's Mars Helicopter on Its Way to Mars\", 'NASA to Host Virtual Briefing on February Perseverance Mars Rover Landing', \"NASA InSight's ‘Mole' Ends Its Journey on Mars\", 'Mars 2020 Perseverance Rover to Capture Sounds From the Red Planet', \"NASA's Curiosity Rover Reaches Its 3,000th Day on Mars\", \"Celebrate the Perseverance Rover Landing With NASA's Student Challenge\", 'NASA Extends Exploration for Two Planetary Science Missions', '7 Things to Know About the NASA Rover About to Land on Mars', \"A Martian Roundtrip: NASA's Perseverance Rover Sample Tubes\", 'NASA Moves Forward With Campaign to Return Mars Samples to Earth', \"3 Things We've Learned From NASA's Mars InSight\", \"From JPL's Mailroom to Mars and Beyond\", \"5 Hidden Gems Are Riding Aboard NASA's Perseverance Rover\", 'MOXIE Could Help Future Rockets Launch Off Mars', \"Hear Audio From NASA's Perseverance As It Travels Through Deep Space\", 'Mars Is Getting a New Robotic Meteorologist', 'Heat and Dust Help Launch Martian Water Into Space, Scientists Find', \"NASA's Curiosity Takes Selfie With 'Mary Anning' on the Red Planet\", 'Independent Review Indicates NASA Prepared for Mars Sample Return Campaign', \"NASA's Perseverance Rover 100 Days Out\", \"NASA's Perseverance Rover Is Midway to Mars\", 'Sensors on Mars 2020 Spacecraft Answer Long-Distance Call From Earth', \"NASA's Perseverance Rover Bringing 3D-Printed Metal Parts to Mars\", \"NASA InSight's 'Mole' Is Out of Sight\", \"NASA's Perseverance Rover Will Peer Beneath Mars' Surface\", 'AI Is Helping Scientists Discover Fresh Craters on Mars', \"NASA's New Mars Rover Is Ready for Space Lasers\", \"NASA's New Mars Rover Will Use X-Rays to Hunt Fossils\", 'My Culture, My Voice']\n",
      "Scraping Complete\n",
      "-----------------------------\n",
      "[\"NASA's Perseverance Pays Off Back Home\", 'Could the Surface of Phobos Reveal Secrets of the Martian Past?', \"NASA's MAVEN Continues to Advance Mars Science and Telecommunications Relay Efforts\", \"NASA's Perseverance Rover 22 Days From Mars Landing\", \"6 Things to Know About NASA's Mars Helicopter on Its Way to Mars\", 'NASA to Host Virtual Briefing on February Perseverance Mars Rover Landing', \"NASA InSight's ‘Mole' Ends Its Journey on Mars\", 'Mars 2020 Perseverance Rover to Capture Sounds From the Red Planet', \"NASA's Curiosity Rover Reaches Its 3,000th Day on Mars\", \"Celebrate the Perseverance Rover Landing With NASA's Student Challenge\", 'NASA Extends Exploration for Two Planetary Science Missions', '7 Things to Know About the NASA Rover About to Land on Mars', \"A Martian Roundtrip: NASA's Perseverance Rover Sample Tubes\", 'NASA Moves Forward With Campaign to Return Mars Samples to Earth', \"3 Things We've Learned From NASA's Mars InSight\", \"From JPL's Mailroom to Mars and Beyond\", \"5 Hidden Gems Are Riding Aboard NASA's Perseverance Rover\", 'MOXIE Could Help Future Rockets Launch Off Mars', \"Hear Audio From NASA's Perseverance As It Travels Through Deep Space\", 'Mars Is Getting a New Robotic Meteorologist', 'Heat and Dust Help Launch Martian Water Into Space, Scientists Find', \"NASA's Curiosity Takes Selfie With 'Mary Anning' on the Red Planet\", 'Independent Review Indicates NASA Prepared for Mars Sample Return Campaign', \"NASA's Perseverance Rover 100 Days Out\", \"NASA's Perseverance Rover Is Midway to Mars\", 'Sensors on Mars 2020 Spacecraft Answer Long-Distance Call From Earth', \"NASA's Perseverance Rover Bringing 3D-Printed Metal Parts to Mars\", \"NASA InSight's 'Mole' Is Out of Sight\", \"NASA's Perseverance Rover Will Peer Beneath Mars' Surface\", 'AI Is Helping Scientists Discover Fresh Craters on Mars', \"NASA's New Mars Rover Is Ready for Space Lasers\", \"NASA's New Mars Rover Will Use X-Rays to Hunt Fossils\", 'My Culture, My Voice', \"NASA Readies Perseverance Mars Rover's Earthly Twin\"]\n",
      "Scraping Complete\n",
      "-----------------------------\n",
      "[\"NASA's Perseverance Pays Off Back Home\", 'Could the Surface of Phobos Reveal Secrets of the Martian Past?', \"NASA's MAVEN Continues to Advance Mars Science and Telecommunications Relay Efforts\", \"NASA's Perseverance Rover 22 Days From Mars Landing\", \"6 Things to Know About NASA's Mars Helicopter on Its Way to Mars\", 'NASA to Host Virtual Briefing on February Perseverance Mars Rover Landing', \"NASA InSight's ‘Mole' Ends Its Journey on Mars\", 'Mars 2020 Perseverance Rover to Capture Sounds From the Red Planet', \"NASA's Curiosity Rover Reaches Its 3,000th Day on Mars\", \"Celebrate the Perseverance Rover Landing With NASA's Student Challenge\", 'NASA Extends Exploration for Two Planetary Science Missions', '7 Things to Know About the NASA Rover About to Land on Mars', \"A Martian Roundtrip: NASA's Perseverance Rover Sample Tubes\", 'NASA Moves Forward With Campaign to Return Mars Samples to Earth', \"3 Things We've Learned From NASA's Mars InSight\", \"From JPL's Mailroom to Mars and Beyond\", \"5 Hidden Gems Are Riding Aboard NASA's Perseverance Rover\", 'MOXIE Could Help Future Rockets Launch Off Mars', \"Hear Audio From NASA's Perseverance As It Travels Through Deep Space\", 'Mars Is Getting a New Robotic Meteorologist', 'Heat and Dust Help Launch Martian Water Into Space, Scientists Find', \"NASA's Curiosity Takes Selfie With 'Mary Anning' on the Red Planet\", 'Independent Review Indicates NASA Prepared for Mars Sample Return Campaign', \"NASA's Perseverance Rover 100 Days Out\", \"NASA's Perseverance Rover Is Midway to Mars\", 'Sensors on Mars 2020 Spacecraft Answer Long-Distance Call From Earth', \"NASA's Perseverance Rover Bringing 3D-Printed Metal Parts to Mars\", \"NASA InSight's 'Mole' Is Out of Sight\", \"NASA's Perseverance Rover Will Peer Beneath Mars' Surface\", 'AI Is Helping Scientists Discover Fresh Craters on Mars', \"NASA's New Mars Rover Is Ready for Space Lasers\", \"NASA's New Mars Rover Will Use X-Rays to Hunt Fossils\", 'My Culture, My Voice', \"NASA Readies Perseverance Mars Rover's Earthly Twin\", \"NASA Engineers Checking InSight's Weather Sensors\"]\n",
      "Scraping Complete\n",
      "-----------------------------\n",
      "[\"NASA's Perseverance Pays Off Back Home\", 'Could the Surface of Phobos Reveal Secrets of the Martian Past?', \"NASA's MAVEN Continues to Advance Mars Science and Telecommunications Relay Efforts\", \"NASA's Perseverance Rover 22 Days From Mars Landing\", \"6 Things to Know About NASA's Mars Helicopter on Its Way to Mars\", 'NASA to Host Virtual Briefing on February Perseverance Mars Rover Landing', \"NASA InSight's ‘Mole' Ends Its Journey on Mars\", 'Mars 2020 Perseverance Rover to Capture Sounds From the Red Planet', \"NASA's Curiosity Rover Reaches Its 3,000th Day on Mars\", \"Celebrate the Perseverance Rover Landing With NASA's Student Challenge\", 'NASA Extends Exploration for Two Planetary Science Missions', '7 Things to Know About the NASA Rover About to Land on Mars', \"A Martian Roundtrip: NASA's Perseverance Rover Sample Tubes\", 'NASA Moves Forward With Campaign to Return Mars Samples to Earth', \"3 Things We've Learned From NASA's Mars InSight\", \"From JPL's Mailroom to Mars and Beyond\", \"5 Hidden Gems Are Riding Aboard NASA's Perseverance Rover\", 'MOXIE Could Help Future Rockets Launch Off Mars', \"Hear Audio From NASA's Perseverance As It Travels Through Deep Space\", 'Mars Is Getting a New Robotic Meteorologist', 'Heat and Dust Help Launch Martian Water Into Space, Scientists Find', \"NASA's Curiosity Takes Selfie With 'Mary Anning' on the Red Planet\", 'Independent Review Indicates NASA Prepared for Mars Sample Return Campaign', \"NASA's Perseverance Rover 100 Days Out\", \"NASA's Perseverance Rover Is Midway to Mars\", 'Sensors on Mars 2020 Spacecraft Answer Long-Distance Call From Earth', \"NASA's Perseverance Rover Bringing 3D-Printed Metal Parts to Mars\", \"NASA InSight's 'Mole' Is Out of Sight\", \"NASA's Perseverance Rover Will Peer Beneath Mars' Surface\", 'AI Is Helping Scientists Discover Fresh Craters on Mars', \"NASA's New Mars Rover Is Ready for Space Lasers\", \"NASA's New Mars Rover Will Use X-Rays to Hunt Fossils\", 'My Culture, My Voice', \"NASA Readies Perseverance Mars Rover's Earthly Twin\", \"NASA Engineers Checking InSight's Weather Sensors\", \"Follow NASA's Perseverance Rover in Real Time on Its Way to Mars\"]\n",
      "Scraping Complete\n",
      "-----------------------------\n",
      "[\"NASA's Perseverance Pays Off Back Home\", 'Could the Surface of Phobos Reveal Secrets of the Martian Past?', \"NASA's MAVEN Continues to Advance Mars Science and Telecommunications Relay Efforts\", \"NASA's Perseverance Rover 22 Days From Mars Landing\", \"6 Things to Know About NASA's Mars Helicopter on Its Way to Mars\", 'NASA to Host Virtual Briefing on February Perseverance Mars Rover Landing', \"NASA InSight's ‘Mole' Ends Its Journey on Mars\", 'Mars 2020 Perseverance Rover to Capture Sounds From the Red Planet', \"NASA's Curiosity Rover Reaches Its 3,000th Day on Mars\", \"Celebrate the Perseverance Rover Landing With NASA's Student Challenge\", 'NASA Extends Exploration for Two Planetary Science Missions', '7 Things to Know About the NASA Rover About to Land on Mars', \"A Martian Roundtrip: NASA's Perseverance Rover Sample Tubes\", 'NASA Moves Forward With Campaign to Return Mars Samples to Earth', \"3 Things We've Learned From NASA's Mars InSight\", \"From JPL's Mailroom to Mars and Beyond\", \"5 Hidden Gems Are Riding Aboard NASA's Perseverance Rover\", 'MOXIE Could Help Future Rockets Launch Off Mars', \"Hear Audio From NASA's Perseverance As It Travels Through Deep Space\", 'Mars Is Getting a New Robotic Meteorologist', 'Heat and Dust Help Launch Martian Water Into Space, Scientists Find', \"NASA's Curiosity Takes Selfie With 'Mary Anning' on the Red Planet\", 'Independent Review Indicates NASA Prepared for Mars Sample Return Campaign', \"NASA's Perseverance Rover 100 Days Out\", \"NASA's Perseverance Rover Is Midway to Mars\", 'Sensors on Mars 2020 Spacecraft Answer Long-Distance Call From Earth', \"NASA's Perseverance Rover Bringing 3D-Printed Metal Parts to Mars\", \"NASA InSight's 'Mole' Is Out of Sight\", \"NASA's Perseverance Rover Will Peer Beneath Mars' Surface\", 'AI Is Helping Scientists Discover Fresh Craters on Mars', \"NASA's New Mars Rover Is Ready for Space Lasers\", \"NASA's New Mars Rover Will Use X-Rays to Hunt Fossils\", 'My Culture, My Voice', \"NASA Readies Perseverance Mars Rover's Earthly Twin\", \"NASA Engineers Checking InSight's Weather Sensors\", \"Follow NASA's Perseverance Rover in Real Time on Its Way to Mars\", 'NASA Establishes Board to Initially Review Mars Sample Return Plans']\n",
      "Scraping Complete\n",
      "-----------------------------\n",
      "[\"NASA's Perseverance Pays Off Back Home\", 'Could the Surface of Phobos Reveal Secrets of the Martian Past?', \"NASA's MAVEN Continues to Advance Mars Science and Telecommunications Relay Efforts\", \"NASA's Perseverance Rover 22 Days From Mars Landing\", \"6 Things to Know About NASA's Mars Helicopter on Its Way to Mars\", 'NASA to Host Virtual Briefing on February Perseverance Mars Rover Landing', \"NASA InSight's ‘Mole' Ends Its Journey on Mars\", 'Mars 2020 Perseverance Rover to Capture Sounds From the Red Planet', \"NASA's Curiosity Rover Reaches Its 3,000th Day on Mars\", \"Celebrate the Perseverance Rover Landing With NASA's Student Challenge\", 'NASA Extends Exploration for Two Planetary Science Missions', '7 Things to Know About the NASA Rover About to Land on Mars', \"A Martian Roundtrip: NASA's Perseverance Rover Sample Tubes\", 'NASA Moves Forward With Campaign to Return Mars Samples to Earth', \"3 Things We've Learned From NASA's Mars InSight\", \"From JPL's Mailroom to Mars and Beyond\", \"5 Hidden Gems Are Riding Aboard NASA's Perseverance Rover\", 'MOXIE Could Help Future Rockets Launch Off Mars', \"Hear Audio From NASA's Perseverance As It Travels Through Deep Space\", 'Mars Is Getting a New Robotic Meteorologist', 'Heat and Dust Help Launch Martian Water Into Space, Scientists Find', \"NASA's Curiosity Takes Selfie With 'Mary Anning' on the Red Planet\", 'Independent Review Indicates NASA Prepared for Mars Sample Return Campaign', \"NASA's Perseverance Rover 100 Days Out\", \"NASA's Perseverance Rover Is Midway to Mars\", 'Sensors on Mars 2020 Spacecraft Answer Long-Distance Call From Earth', \"NASA's Perseverance Rover Bringing 3D-Printed Metal Parts to Mars\", \"NASA InSight's 'Mole' Is Out of Sight\", \"NASA's Perseverance Rover Will Peer Beneath Mars' Surface\", 'AI Is Helping Scientists Discover Fresh Craters on Mars', \"NASA's New Mars Rover Is Ready for Space Lasers\", \"NASA's New Mars Rover Will Use X-Rays to Hunt Fossils\", 'My Culture, My Voice', \"NASA Readies Perseverance Mars Rover's Earthly Twin\", \"NASA Engineers Checking InSight's Weather Sensors\", \"Follow NASA's Perseverance Rover in Real Time on Its Way to Mars\", 'NASA Establishes Board to Initially Review Mars Sample Return Plans', \"NASA's Ingenuity Mars Helicopter Recharges Its Batteries in Flight\"]\n",
      "Scraping Complete\n",
      "-----------------------------\n",
      "[\"NASA's Perseverance Pays Off Back Home\", 'Could the Surface of Phobos Reveal Secrets of the Martian Past?', \"NASA's MAVEN Continues to Advance Mars Science and Telecommunications Relay Efforts\", \"NASA's Perseverance Rover 22 Days From Mars Landing\", \"6 Things to Know About NASA's Mars Helicopter on Its Way to Mars\", 'NASA to Host Virtual Briefing on February Perseverance Mars Rover Landing', \"NASA InSight's ‘Mole' Ends Its Journey on Mars\", 'Mars 2020 Perseverance Rover to Capture Sounds From the Red Planet', \"NASA's Curiosity Rover Reaches Its 3,000th Day on Mars\", \"Celebrate the Perseverance Rover Landing With NASA's Student Challenge\", 'NASA Extends Exploration for Two Planetary Science Missions', '7 Things to Know About the NASA Rover About to Land on Mars', \"A Martian Roundtrip: NASA's Perseverance Rover Sample Tubes\", 'NASA Moves Forward With Campaign to Return Mars Samples to Earth', \"3 Things We've Learned From NASA's Mars InSight\", \"From JPL's Mailroom to Mars and Beyond\", \"5 Hidden Gems Are Riding Aboard NASA's Perseverance Rover\", 'MOXIE Could Help Future Rockets Launch Off Mars', \"Hear Audio From NASA's Perseverance As It Travels Through Deep Space\", 'Mars Is Getting a New Robotic Meteorologist', 'Heat and Dust Help Launch Martian Water Into Space, Scientists Find', \"NASA's Curiosity Takes Selfie With 'Mary Anning' on the Red Planet\", 'Independent Review Indicates NASA Prepared for Mars Sample Return Campaign', \"NASA's Perseverance Rover 100 Days Out\", \"NASA's Perseverance Rover Is Midway to Mars\", 'Sensors on Mars 2020 Spacecraft Answer Long-Distance Call From Earth', \"NASA's Perseverance Rover Bringing 3D-Printed Metal Parts to Mars\", \"NASA InSight's 'Mole' Is Out of Sight\", \"NASA's Perseverance Rover Will Peer Beneath Mars' Surface\", 'AI Is Helping Scientists Discover Fresh Craters on Mars', \"NASA's New Mars Rover Is Ready for Space Lasers\", \"NASA's New Mars Rover Will Use X-Rays to Hunt Fossils\", 'My Culture, My Voice', \"NASA Readies Perseverance Mars Rover's Earthly Twin\", \"NASA Engineers Checking InSight's Weather Sensors\", \"Follow NASA's Perseverance Rover in Real Time on Its Way to Mars\", 'NASA Establishes Board to Initially Review Mars Sample Return Plans', \"NASA's Ingenuity Mars Helicopter Recharges Its Batteries in Flight\", \"Celebrate Mars Reconnaissance Orbiter's Views From Above\"]\n",
      "Scraping Complete\n",
      "-----------------------------\n",
      "[\"NASA's Perseverance Pays Off Back Home\", 'Could the Surface of Phobos Reveal Secrets of the Martian Past?', \"NASA's MAVEN Continues to Advance Mars Science and Telecommunications Relay Efforts\", \"NASA's Perseverance Rover 22 Days From Mars Landing\", \"6 Things to Know About NASA's Mars Helicopter on Its Way to Mars\", 'NASA to Host Virtual Briefing on February Perseverance Mars Rover Landing', \"NASA InSight's ‘Mole' Ends Its Journey on Mars\", 'Mars 2020 Perseverance Rover to Capture Sounds From the Red Planet', \"NASA's Curiosity Rover Reaches Its 3,000th Day on Mars\", \"Celebrate the Perseverance Rover Landing With NASA's Student Challenge\", 'NASA Extends Exploration for Two Planetary Science Missions', '7 Things to Know About the NASA Rover About to Land on Mars', \"A Martian Roundtrip: NASA's Perseverance Rover Sample Tubes\", 'NASA Moves Forward With Campaign to Return Mars Samples to Earth', \"3 Things We've Learned From NASA's Mars InSight\", \"From JPL's Mailroom to Mars and Beyond\", \"5 Hidden Gems Are Riding Aboard NASA's Perseverance Rover\", 'MOXIE Could Help Future Rockets Launch Off Mars', \"Hear Audio From NASA's Perseverance As It Travels Through Deep Space\", 'Mars Is Getting a New Robotic Meteorologist', 'Heat and Dust Help Launch Martian Water Into Space, Scientists Find', \"NASA's Curiosity Takes Selfie With 'Mary Anning' on the Red Planet\", 'Independent Review Indicates NASA Prepared for Mars Sample Return Campaign', \"NASA's Perseverance Rover 100 Days Out\", \"NASA's Perseverance Rover Is Midway to Mars\", 'Sensors on Mars 2020 Spacecraft Answer Long-Distance Call From Earth', \"NASA's Perseverance Rover Bringing 3D-Printed Metal Parts to Mars\", \"NASA InSight's 'Mole' Is Out of Sight\", \"NASA's Perseverance Rover Will Peer Beneath Mars' Surface\", 'AI Is Helping Scientists Discover Fresh Craters on Mars', \"NASA's New Mars Rover Is Ready for Space Lasers\", \"NASA's New Mars Rover Will Use X-Rays to Hunt Fossils\", 'My Culture, My Voice', \"NASA Readies Perseverance Mars Rover's Earthly Twin\", \"NASA Engineers Checking InSight's Weather Sensors\", \"Follow NASA's Perseverance Rover in Real Time on Its Way to Mars\", 'NASA Establishes Board to Initially Review Mars Sample Return Plans', \"NASA's Ingenuity Mars Helicopter Recharges Its Batteries in Flight\", \"Celebrate Mars Reconnaissance Orbiter's Views From Above\", \"NASA's MAVEN Observes Martian Night Sky Pulsing in Ultraviolet Light\"]\n",
      "Scraping Complete\n"
     ]
    }
   ],
   "source": [
    "html = browser.html\n",
    "soup = BeautifulSoup(html, 'lxml')\n",
    "\n",
    "slides = soup.find_all('div', class_='list_text')\n",
    "\n",
    "news_title=[]\n",
    "news_p=[]\n",
    "\n",
    "for item in slides:\n",
    "    title = item.find('div', class_='content_title')\n",
    "    news_title.append(title.text.strip())\n",
    "    para = item.find('div', class_='article_teaser_body')\n",
    "    news_p.append(para.text.strip())\n",
    "\n",
    "    print(\"-----------------------------\")\n",
    "    print(title.text.strip())\n",
    "    print(para.text.strip())\n",
    "\n",
    "    try:\n",
    "        browser.links.find_by_partial_text('show more').click()\n",
    "          \n",
    "    except:\n",
    "        print(\"Scraping Complete\")"
   ]
  },
  {
   "cell_type": "code",
   "execution_count": 7,
   "metadata": {},
   "outputs": [],
   "source": [
    "# url = 'https://www.jpl.nasa.gov/images/?search=&category=Mars'\n",
    "# browser.visit(url)\n",
    "# html = browser.html\n",
    "# soup = BeautifulSoup(html, 'html.parser')\n",
    "\n",
    "# img = soup.find(\"img\", class_=\"thumb\")[\"src\"]\n",
    "\n",
    "# img_url = \"https://www.jpl.nasa.gov\" + img\n",
    "# return(img_url) "
   ]
  },
  {
   "cell_type": "code",
   "execution_count": 8,
   "metadata": {},
   "outputs": [],
   "source": [
    "import pandas as pd"
   ]
  },
  {
   "cell_type": "code",
   "execution_count": 9,
   "metadata": {},
   "outputs": [],
   "source": [
    "url = 'https://space-facts.com/mars/'"
   ]
  },
  {
   "cell_type": "code",
   "execution_count": 10,
   "metadata": {},
   "outputs": [
    {
     "output_type": "execute_result",
     "data": {
      "text/plain": [
       "[                      0                              1\n",
       " 0  Equatorial Diameter:                       6,792 km\n",
       " 1       Polar Diameter:                       6,752 km\n",
       " 2                 Mass:  6.39 × 10^23 kg (0.11 Earths)\n",
       " 3                Moons:            2 (Phobos & Deimos)\n",
       " 4       Orbit Distance:       227,943,824 km (1.38 AU)\n",
       " 5         Orbit Period:           687 days (1.9 years)\n",
       " 6  Surface Temperature:                   -87 to -5 °C\n",
       " 7         First Record:              2nd millennium BC\n",
       " 8          Recorded By:           Egyptian astronomers,\n",
       "   Mars - Earth Comparison             Mars            Earth\n",
       " 0               Diameter:         6,779 km        12,742 km\n",
       " 1                   Mass:  6.39 × 10^23 kg  5.97 × 10^24 kg\n",
       " 2                  Moons:                2                1\n",
       " 3      Distance from Sun:   227,943,824 km   149,598,262 km\n",
       " 4         Length of Year:   687 Earth days      365.24 days\n",
       " 5            Temperature:     -87 to -5 °C      -88 to 58°C,\n",
       "                       0                              1\n",
       " 0  Equatorial Diameter:                       6,792 km\n",
       " 1       Polar Diameter:                       6,752 km\n",
       " 2                 Mass:  6.39 × 10^23 kg (0.11 Earths)\n",
       " 3                Moons:            2 (Phobos & Deimos)\n",
       " 4       Orbit Distance:       227,943,824 km (1.38 AU)\n",
       " 5         Orbit Period:           687 days (1.9 years)\n",
       " 6  Surface Temperature:                   -87 to -5 °C\n",
       " 7         First Record:              2nd millennium BC\n",
       " 8          Recorded By:           Egyptian astronomers]"
      ]
     },
     "metadata": {},
     "execution_count": 10
    }
   ],
   "source": [
    "table = pd.read_html(url)\n",
    "table"
   ]
  },
  {
   "cell_type": "code",
   "execution_count": 11,
   "metadata": {},
   "outputs": [
    {
     "output_type": "execute_result",
     "data": {
      "text/plain": [
       "list"
      ]
     },
     "metadata": {},
     "execution_count": 11
    }
   ],
   "source": [
    "type(table)"
   ]
  },
  {
   "cell_type": "code",
   "execution_count": 12,
   "metadata": {},
   "outputs": [
    {
     "output_type": "execute_result",
     "data": {
      "text/plain": [
       "                      0                              1\n",
       "0  Equatorial Diameter:                       6,792 km\n",
       "1       Polar Diameter:                       6,752 km\n",
       "2                 Mass:  6.39 × 10^23 kg (0.11 Earths)\n",
       "3                Moons:            2 (Phobos & Deimos)\n",
       "4       Orbit Distance:       227,943,824 km (1.38 AU)\n",
       "5         Orbit Period:           687 days (1.9 years)\n",
       "6  Surface Temperature:                   -87 to -5 °C\n",
       "7         First Record:              2nd millennium BC\n",
       "8          Recorded By:           Egyptian astronomers"
      ],
      "text/html": "<div>\n<style scoped>\n    .dataframe tbody tr th:only-of-type {\n        vertical-align: middle;\n    }\n\n    .dataframe tbody tr th {\n        vertical-align: top;\n    }\n\n    .dataframe thead th {\n        text-align: right;\n    }\n</style>\n<table border=\"1\" class=\"dataframe\">\n  <thead>\n    <tr style=\"text-align: right;\">\n      <th></th>\n      <th>0</th>\n      <th>1</th>\n    </tr>\n  </thead>\n  <tbody>\n    <tr>\n      <th>0</th>\n      <td>Equatorial Diameter:</td>\n      <td>6,792 km</td>\n    </tr>\n    <tr>\n      <th>1</th>\n      <td>Polar Diameter:</td>\n      <td>6,752 km</td>\n    </tr>\n    <tr>\n      <th>2</th>\n      <td>Mass:</td>\n      <td>6.39 × 10^23 kg (0.11 Earths)</td>\n    </tr>\n    <tr>\n      <th>3</th>\n      <td>Moons:</td>\n      <td>2 (Phobos &amp; Deimos)</td>\n    </tr>\n    <tr>\n      <th>4</th>\n      <td>Orbit Distance:</td>\n      <td>227,943,824 km (1.38 AU)</td>\n    </tr>\n    <tr>\n      <th>5</th>\n      <td>Orbit Period:</td>\n      <td>687 days (1.9 years)</td>\n    </tr>\n    <tr>\n      <th>6</th>\n      <td>Surface Temperature:</td>\n      <td>-87 to -5 °C</td>\n    </tr>\n    <tr>\n      <th>7</th>\n      <td>First Record:</td>\n      <td>2nd millennium BC</td>\n    </tr>\n    <tr>\n      <th>8</th>\n      <td>Recorded By:</td>\n      <td>Egyptian astronomers</td>\n    </tr>\n  </tbody>\n</table>\n</div>"
     },
     "metadata": {},
     "execution_count": 12
    }
   ],
   "source": [
    "df = table[0]\n",
    "df"
   ]
  },
  {
   "cell_type": "code",
   "execution_count": 13,
   "metadata": {},
   "outputs": [],
   "source": [
    "# Transform to HTML table\n",
    "mars_table = df.to_html('facts_table.html')"
   ]
  },
  {
   "cell_type": "code",
   "execution_count": 44,
   "metadata": {},
   "outputs": [],
   "source": [
    "### Mars Hemispheres ###"
   ]
  },
  {
   "cell_type": "code",
   "execution_count": 14,
   "metadata": {},
   "outputs": [],
   "source": [
    "all_title = []\n",
    "all_img_url = []"
   ]
  },
  {
   "cell_type": "code",
   "execution_count": 15,
   "metadata": {},
   "outputs": [],
   "source": [
    "url = 'https://astrogeology.usgs.gov/search/map/Mars/Viking/cerberus_enhanced'\n",
    "browser.visit(url)\n",
    "html = browser.html\n",
    "soup = BeautifulSoup(html, 'lxml')\n",
    "\n",
    "title = soup.find('h2', class_='title').text\n",
    "all_title.append(title)\n",
    "\n",
    "img_path = soup.find('img', class_='wide-image').get('src')\n",
    "img_url = 'https://astrogeology.usgs.gov' + img_path\n",
    "all_img_url.append(img_url)"
   ]
  },
  {
   "cell_type": "code",
   "execution_count": 16,
   "metadata": {},
   "outputs": [],
   "source": [
    "url = 'https://astrogeology.usgs.gov/search/map/Mars/Viking/schiaparelli_enhanced'\n",
    "browser.visit(url)\n",
    "html = browser.html\n",
    "soup = BeautifulSoup(html, 'lxml')\n",
    "\n",
    "title = soup.find('h2', class_='title').text\n",
    "all_title.append(title)\n",
    "\n",
    "img_path = soup.find('img', class_='wide-image').get('src')\n",
    "img_url = 'https://astrogeology.usgs.gov' + img_path\n",
    "all_img_url.append(img_url)"
   ]
  },
  {
   "cell_type": "code",
   "execution_count": 17,
   "metadata": {},
   "outputs": [],
   "source": [
    "url = 'https://astrogeology.usgs.gov/search/map/Mars/Viking/syrtis_major_enhanced'\n",
    "browser.visit(url)\n",
    "html = browser.html\n",
    "soup = BeautifulSoup(html, 'lxml')\n",
    "\n",
    "title = soup.find('h2', class_='title').text\n",
    "all_title.append(title)\n",
    "\n",
    "img_path = soup.find('img', class_='wide-image').get('src')\n",
    "img_url = 'https://astrogeology.usgs.gov' + img_path\n",
    "all_img_url.append(img_url)"
   ]
  },
  {
   "cell_type": "code",
   "execution_count": 19,
   "metadata": {},
   "outputs": [],
   "source": [
    "url = 'https://astrogeology.usgs.gov/search/map/Mars/Viking/valles_marineris_enhanced'\n",
    "browser.visit(url)\n",
    "html = browser.html\n",
    "soup = BeautifulSoup(html, 'lxml')\n",
    "\n",
    "title = soup.find('h2', class_='title').text\n",
    "all_title.append(title)\n",
    "\n",
    "img_path = soup.find('img', class_='wide-image').get('src')\n",
    "img_url = 'https://astrogeology.usgs.gov' + img_path\n",
    "all_img_url.append(img_url)"
   ]
  },
  {
   "cell_type": "code",
   "execution_count": 20,
   "metadata": {},
   "outputs": [],
   "source": [
    "hemispheres = []\n",
    "\n",
    "for title, url in zip(all_title, all_img_url):\n",
    "    hemisphere_image_urls = (f\"'title': {title}, 'img_url': {img_url}\")\n",
    "    hemispheres.append(hemisphere_image_urls)"
   ]
  },
  {
   "cell_type": "code",
   "execution_count": 39,
   "metadata": {},
   "outputs": [
    {
     "output_type": "stream",
     "name": "stdout",
     "text": [
      "{'title': \"NASA's Perseverance Pays Off Back Home\", 'paragraph': 'Even as the Perseverance rover approaches Mars, technology on board is paying off on Earth.', 'image_title': 'Cerberus Hemisphere Enhanced', 'image_url': 'https://astrogeology.usgs.gov/cache/images/f5e372a36edfa389625da6d0cc25d905_cerberus_enhanced.tif_full.jpg'}\n{'title': 'Could the Surface of Phobos Reveal Secrets of the Martian Past?', 'paragraph': 'The Martian moon Phobos orbits through a stream of charged atoms and molecules that flow off the Red Planet’s atmosphere, new research shows.', 'image_title': 'Schiaparelli Hemisphere Enhanced', 'image_url': 'https://astrogeology.usgs.gov/cache/images/3778f7b43bbbc89d6e3cfabb3613ba93_schiaparelli_enhanced.tif_full.jpg'}\n{'title': \"NASA's MAVEN Continues to Advance Mars Science and Telecommunications Relay Efforts\", 'paragraph': 'With a suite of new national and international spacecraft primed to explore the Red Planet after their arrival next month, NASA’s MAVEN mission is ready to provide support and continue its study of the Martian atmosphere.', 'image_title': 'Syrtis Major Hemisphere Enhanced', 'image_url': 'https://astrogeology.usgs.gov/cache/images/555e6403a6ddd7ba16ddb0e471cadcf7_syrtis_major_enhanced.tif_full.jpg'}\n{'title': \"NASA's Perseverance Rover 22 Days From Mars Landing\", 'paragraph': 'Seven minutes of harrowing descent to the Red Planet is in the not-so-distant future for the agency’s Mars 2020 mission.', 'image_title': 'Valles Marineris Hemisphere Enhanced', 'image_url': 'https://astrogeology.usgs.gov/cache/images/b3c7c6c9138f57b4756be9b9c43e3a48_valles_marineris_enhanced.tif_full.jpg'}\n{'title': \"6 Things to Know About NASA's Mars Helicopter on Its Way to Mars\", 'paragraph': 'Ingenuity, a technology experiment, is preparing to attempt the first powered, controlled flight on the Red Planet.', 'image_title': 'Valles Marineris Hemisphere Enhanced', 'image_url': 'https://astrogeology.usgs.gov/cache/images/b3c7c6c9138f57b4756be9b9c43e3a48_valles_marineris_enhanced.tif_full.jpg'}\n"
     ]
    }
   ],
   "source": [
    "# title = []\n",
    "# paragraph = []\n",
    "# image_title = []\n",
    "# image_url = []\n",
    "\n",
    "for t, p, img_title, img_url in zip(news_title, news_p, all_title, all_img_url):\n",
    "    # title.append(t)\n",
    "    # paragraph.append(p)\n",
    "    # image_title.append(img_title)\n",
    "    # image_url.append(img_url)\n",
    "    \n",
    "    results = {\n",
    "            'title': t,\n",
    "            'paragraph': p,\n",
    "            'image_title': img_title,\n",
    "            'image_url': img_url\n",
    "            }\n",
    "    print(results)"
   ]
  },
  {
   "cell_type": "code",
   "execution_count": 35,
   "metadata": {},
   "outputs": [
    {
     "output_type": "error",
     "ename": "KeyboardInterrupt",
     "evalue": "",
     "traceback": [
      "\u001b[1;31m---------------------------------------------------------------------------\u001b[0m",
      "\u001b[1;31mConnectionRefusedError\u001b[0m                    Traceback (most recent call last)",
      "\u001b[1;32mC:\\anaconda\\lib\\site-packages\\urllib3\\util\\connection.py\u001b[0m in \u001b[0;36mcreate_connection\u001b[1;34m(address, timeout, source_address, socket_options)\u001b[0m\n\u001b[0;32m     73\u001b[0m                 \u001b[0msock\u001b[0m\u001b[1;33m.\u001b[0m\u001b[0mbind\u001b[0m\u001b[1;33m(\u001b[0m\u001b[0msource_address\u001b[0m\u001b[1;33m)\u001b[0m\u001b[1;33m\u001b[0m\u001b[1;33m\u001b[0m\u001b[0m\n\u001b[1;32m---> 74\u001b[1;33m             \u001b[0msock\u001b[0m\u001b[1;33m.\u001b[0m\u001b[0mconnect\u001b[0m\u001b[1;33m(\u001b[0m\u001b[0msa\u001b[0m\u001b[1;33m)\u001b[0m\u001b[1;33m\u001b[0m\u001b[1;33m\u001b[0m\u001b[0m\n\u001b[0m\u001b[0;32m     75\u001b[0m             \u001b[1;32mreturn\u001b[0m \u001b[0msock\u001b[0m\u001b[1;33m\u001b[0m\u001b[1;33m\u001b[0m\u001b[0m\n",
      "\u001b[1;31mConnectionRefusedError\u001b[0m: [WinError 10061] No connection could be made because the target machine actively refused it",
      "\nDuring handling of the above exception, another exception occurred:\n",
      "\u001b[1;31mKeyboardInterrupt\u001b[0m                         Traceback (most recent call last)",
      "\u001b[1;32m<ipython-input-35-710928f8954f>\u001b[0m in \u001b[0;36m<module>\u001b[1;34m\u001b[0m\n\u001b[1;32m----> 1\u001b[1;33m \u001b[0mbrowser\u001b[0m\u001b[1;33m.\u001b[0m\u001b[0mquit\u001b[0m\u001b[1;33m(\u001b[0m\u001b[1;33m)\u001b[0m\u001b[1;33m\u001b[0m\u001b[1;33m\u001b[0m\u001b[0m\n\u001b[0m",
      "\u001b[1;32mC:\\anaconda\\lib\\site-packages\\splinter\\driver\\webdriver\\__init__.py\u001b[0m in \u001b[0;36mquit\u001b[1;34m(self)\u001b[0m\n\u001b[0;32m    653\u001b[0m     \u001b[1;32mdef\u001b[0m \u001b[0mquit\u001b[0m\u001b[1;33m(\u001b[0m\u001b[0mself\u001b[0m\u001b[1;33m)\u001b[0m\u001b[1;33m:\u001b[0m\u001b[1;33m\u001b[0m\u001b[1;33m\u001b[0m\u001b[0m\n\u001b[0;32m    654\u001b[0m         \u001b[1;32mtry\u001b[0m\u001b[1;33m:\u001b[0m\u001b[1;33m\u001b[0m\u001b[1;33m\u001b[0m\u001b[0m\n\u001b[1;32m--> 655\u001b[1;33m             \u001b[0mself\u001b[0m\u001b[1;33m.\u001b[0m\u001b[0mdriver\u001b[0m\u001b[1;33m.\u001b[0m\u001b[0mquit\u001b[0m\u001b[1;33m(\u001b[0m\u001b[1;33m)\u001b[0m\u001b[1;33m\u001b[0m\u001b[1;33m\u001b[0m\u001b[0m\n\u001b[0m\u001b[0;32m    656\u001b[0m         \u001b[1;32mexcept\u001b[0m \u001b[0mWebDriverException\u001b[0m\u001b[1;33m:\u001b[0m\u001b[1;33m\u001b[0m\u001b[1;33m\u001b[0m\u001b[0m\n\u001b[0;32m    657\u001b[0m             \u001b[1;32mpass\u001b[0m\u001b[1;33m\u001b[0m\u001b[1;33m\u001b[0m\u001b[0m\n",
      "\u001b[1;32mC:\\anaconda\\lib\\site-packages\\selenium\\webdriver\\chrome\\webdriver.py\u001b[0m in \u001b[0;36mquit\u001b[1;34m(self)\u001b[0m\n\u001b[0;32m    151\u001b[0m         \"\"\"\n\u001b[0;32m    152\u001b[0m         \u001b[1;32mtry\u001b[0m\u001b[1;33m:\u001b[0m\u001b[1;33m\u001b[0m\u001b[1;33m\u001b[0m\u001b[0m\n\u001b[1;32m--> 153\u001b[1;33m             \u001b[0mRemoteWebDriver\u001b[0m\u001b[1;33m.\u001b[0m\u001b[0mquit\u001b[0m\u001b[1;33m(\u001b[0m\u001b[0mself\u001b[0m\u001b[1;33m)\u001b[0m\u001b[1;33m\u001b[0m\u001b[1;33m\u001b[0m\u001b[0m\n\u001b[0m\u001b[0;32m    154\u001b[0m         \u001b[1;32mexcept\u001b[0m \u001b[0mException\u001b[0m\u001b[1;33m:\u001b[0m\u001b[1;33m\u001b[0m\u001b[1;33m\u001b[0m\u001b[0m\n\u001b[0;32m    155\u001b[0m             \u001b[1;31m# We don't care about the message because something probably has gone wrong\u001b[0m\u001b[1;33m\u001b[0m\u001b[1;33m\u001b[0m\u001b[1;33m\u001b[0m\u001b[0m\n",
      "\u001b[1;32mC:\\anaconda\\lib\\site-packages\\selenium\\webdriver\\remote\\webdriver.py\u001b[0m in \u001b[0;36mquit\u001b[1;34m(self)\u001b[0m\n\u001b[0;32m    696\u001b[0m         \"\"\"\n\u001b[0;32m    697\u001b[0m         \u001b[1;32mtry\u001b[0m\u001b[1;33m:\u001b[0m\u001b[1;33m\u001b[0m\u001b[1;33m\u001b[0m\u001b[0m\n\u001b[1;32m--> 698\u001b[1;33m             \u001b[0mself\u001b[0m\u001b[1;33m.\u001b[0m\u001b[0mexecute\u001b[0m\u001b[1;33m(\u001b[0m\u001b[0mCommand\u001b[0m\u001b[1;33m.\u001b[0m\u001b[0mQUIT\u001b[0m\u001b[1;33m)\u001b[0m\u001b[1;33m\u001b[0m\u001b[1;33m\u001b[0m\u001b[0m\n\u001b[0m\u001b[0;32m    699\u001b[0m         \u001b[1;32mfinally\u001b[0m\u001b[1;33m:\u001b[0m\u001b[1;33m\u001b[0m\u001b[1;33m\u001b[0m\u001b[0m\n\u001b[0;32m    700\u001b[0m             \u001b[0mself\u001b[0m\u001b[1;33m.\u001b[0m\u001b[0mstop_client\u001b[0m\u001b[1;33m(\u001b[0m\u001b[1;33m)\u001b[0m\u001b[1;33m\u001b[0m\u001b[1;33m\u001b[0m\u001b[0m\n",
      "\u001b[1;32mC:\\anaconda\\lib\\site-packages\\selenium\\webdriver\\remote\\webdriver.py\u001b[0m in \u001b[0;36mexecute\u001b[1;34m(self, driver_command, params)\u001b[0m\n\u001b[0;32m    317\u001b[0m \u001b[1;33m\u001b[0m\u001b[0m\n\u001b[0;32m    318\u001b[0m         \u001b[0mparams\u001b[0m \u001b[1;33m=\u001b[0m \u001b[0mself\u001b[0m\u001b[1;33m.\u001b[0m\u001b[0m_wrap_value\u001b[0m\u001b[1;33m(\u001b[0m\u001b[0mparams\u001b[0m\u001b[1;33m)\u001b[0m\u001b[1;33m\u001b[0m\u001b[1;33m\u001b[0m\u001b[0m\n\u001b[1;32m--> 319\u001b[1;33m         \u001b[0mresponse\u001b[0m \u001b[1;33m=\u001b[0m \u001b[0mself\u001b[0m\u001b[1;33m.\u001b[0m\u001b[0mcommand_executor\u001b[0m\u001b[1;33m.\u001b[0m\u001b[0mexecute\u001b[0m\u001b[1;33m(\u001b[0m\u001b[0mdriver_command\u001b[0m\u001b[1;33m,\u001b[0m \u001b[0mparams\u001b[0m\u001b[1;33m)\u001b[0m\u001b[1;33m\u001b[0m\u001b[1;33m\u001b[0m\u001b[0m\n\u001b[0m\u001b[0;32m    320\u001b[0m         \u001b[1;32mif\u001b[0m \u001b[0mresponse\u001b[0m\u001b[1;33m:\u001b[0m\u001b[1;33m\u001b[0m\u001b[1;33m\u001b[0m\u001b[0m\n\u001b[0;32m    321\u001b[0m             \u001b[0mself\u001b[0m\u001b[1;33m.\u001b[0m\u001b[0merror_handler\u001b[0m\u001b[1;33m.\u001b[0m\u001b[0mcheck_response\u001b[0m\u001b[1;33m(\u001b[0m\u001b[0mresponse\u001b[0m\u001b[1;33m)\u001b[0m\u001b[1;33m\u001b[0m\u001b[1;33m\u001b[0m\u001b[0m\n",
      "\u001b[1;32mC:\\anaconda\\lib\\site-packages\\selenium\\webdriver\\remote\\remote_connection.py\u001b[0m in \u001b[0;36mexecute\u001b[1;34m(self, command, params)\u001b[0m\n\u001b[0;32m    372\u001b[0m         \u001b[0mdata\u001b[0m \u001b[1;33m=\u001b[0m \u001b[0mutils\u001b[0m\u001b[1;33m.\u001b[0m\u001b[0mdump_json\u001b[0m\u001b[1;33m(\u001b[0m\u001b[0mparams\u001b[0m\u001b[1;33m)\u001b[0m\u001b[1;33m\u001b[0m\u001b[1;33m\u001b[0m\u001b[0m\n\u001b[0;32m    373\u001b[0m         \u001b[0murl\u001b[0m \u001b[1;33m=\u001b[0m \u001b[1;34m'%s%s'\u001b[0m \u001b[1;33m%\u001b[0m \u001b[1;33m(\u001b[0m\u001b[0mself\u001b[0m\u001b[1;33m.\u001b[0m\u001b[0m_url\u001b[0m\u001b[1;33m,\u001b[0m \u001b[0mpath\u001b[0m\u001b[1;33m)\u001b[0m\u001b[1;33m\u001b[0m\u001b[1;33m\u001b[0m\u001b[0m\n\u001b[1;32m--> 374\u001b[1;33m         \u001b[1;32mreturn\u001b[0m \u001b[0mself\u001b[0m\u001b[1;33m.\u001b[0m\u001b[0m_request\u001b[0m\u001b[1;33m(\u001b[0m\u001b[0mcommand_info\u001b[0m\u001b[1;33m[\u001b[0m\u001b[1;36m0\u001b[0m\u001b[1;33m]\u001b[0m\u001b[1;33m,\u001b[0m \u001b[0murl\u001b[0m\u001b[1;33m,\u001b[0m \u001b[0mbody\u001b[0m\u001b[1;33m=\u001b[0m\u001b[0mdata\u001b[0m\u001b[1;33m)\u001b[0m\u001b[1;33m\u001b[0m\u001b[1;33m\u001b[0m\u001b[0m\n\u001b[0m\u001b[0;32m    375\u001b[0m \u001b[1;33m\u001b[0m\u001b[0m\n\u001b[0;32m    376\u001b[0m     \u001b[1;32mdef\u001b[0m \u001b[0m_request\u001b[0m\u001b[1;33m(\u001b[0m\u001b[0mself\u001b[0m\u001b[1;33m,\u001b[0m \u001b[0mmethod\u001b[0m\u001b[1;33m,\u001b[0m \u001b[0murl\u001b[0m\u001b[1;33m,\u001b[0m \u001b[0mbody\u001b[0m\u001b[1;33m=\u001b[0m\u001b[1;32mNone\u001b[0m\u001b[1;33m)\u001b[0m\u001b[1;33m:\u001b[0m\u001b[1;33m\u001b[0m\u001b[1;33m\u001b[0m\u001b[0m\n",
      "\u001b[1;32mC:\\anaconda\\lib\\site-packages\\splinter\\driver\\webdriver\\remote_connection.py\u001b[0m in \u001b[0;36mpatch_request\u001b[1;34m(self, *args, **kwargs)\u001b[0m\n\u001b[0;32m     21\u001b[0m     \u001b[1;32mfor\u001b[0m \u001b[0m_\u001b[0m \u001b[1;32min\u001b[0m \u001b[0mrange\u001b[0m\u001b[1;33m(\u001b[0m\u001b[1;36m3\u001b[0m\u001b[1;33m)\u001b[0m\u001b[1;33m:\u001b[0m\u001b[1;33m\u001b[0m\u001b[1;33m\u001b[0m\u001b[0m\n\u001b[0;32m     22\u001b[0m         \u001b[1;32mtry\u001b[0m\u001b[1;33m:\u001b[0m\u001b[1;33m\u001b[0m\u001b[1;33m\u001b[0m\u001b[0m\n\u001b[1;32m---> 23\u001b[1;33m             \u001b[1;32mreturn\u001b[0m \u001b[0mold_request\u001b[0m\u001b[1;33m(\u001b[0m\u001b[0mself\u001b[0m\u001b[1;33m,\u001b[0m \u001b[1;33m*\u001b[0m\u001b[0margs\u001b[0m\u001b[1;33m,\u001b[0m \u001b[1;33m**\u001b[0m\u001b[0mkwargs\u001b[0m\u001b[1;33m)\u001b[0m\u001b[1;33m\u001b[0m\u001b[1;33m\u001b[0m\u001b[0m\n\u001b[0m\u001b[0;32m     24\u001b[0m         \u001b[1;32mexcept\u001b[0m \u001b[1;33m(\u001b[0m\u001b[0msocket\u001b[0m\u001b[1;33m.\u001b[0m\u001b[0merror\u001b[0m\u001b[1;33m,\u001b[0m \u001b[0mHTTPException\u001b[0m\u001b[1;33m,\u001b[0m \u001b[0mIOError\u001b[0m\u001b[1;33m,\u001b[0m \u001b[0mOSError\u001b[0m\u001b[1;33m,\u001b[0m \u001b[0mMaxRetryError\u001b[0m\u001b[1;33m)\u001b[0m \u001b[1;32mas\u001b[0m \u001b[0mexc\u001b[0m\u001b[1;33m:\u001b[0m\u001b[1;33m\u001b[0m\u001b[1;33m\u001b[0m\u001b[0m\n\u001b[0;32m     25\u001b[0m             \u001b[0mexception\u001b[0m \u001b[1;33m=\u001b[0m \u001b[0mexc\u001b[0m\u001b[1;33m\u001b[0m\u001b[1;33m\u001b[0m\u001b[0m\n",
      "\u001b[1;32mC:\\anaconda\\lib\\site-packages\\selenium\\webdriver\\remote\\remote_connection.py\u001b[0m in \u001b[0;36m_request\u001b[1;34m(self, method, url, body)\u001b[0m\n\u001b[0;32m    395\u001b[0m \u001b[1;33m\u001b[0m\u001b[0m\n\u001b[0;32m    396\u001b[0m         \u001b[1;32mif\u001b[0m \u001b[0mself\u001b[0m\u001b[1;33m.\u001b[0m\u001b[0mkeep_alive\u001b[0m\u001b[1;33m:\u001b[0m\u001b[1;33m\u001b[0m\u001b[1;33m\u001b[0m\u001b[0m\n\u001b[1;32m--> 397\u001b[1;33m             \u001b[0mresp\u001b[0m \u001b[1;33m=\u001b[0m \u001b[0mself\u001b[0m\u001b[1;33m.\u001b[0m\u001b[0m_conn\u001b[0m\u001b[1;33m.\u001b[0m\u001b[0mrequest\u001b[0m\u001b[1;33m(\u001b[0m\u001b[0mmethod\u001b[0m\u001b[1;33m,\u001b[0m \u001b[0murl\u001b[0m\u001b[1;33m,\u001b[0m \u001b[0mbody\u001b[0m\u001b[1;33m=\u001b[0m\u001b[0mbody\u001b[0m\u001b[1;33m,\u001b[0m \u001b[0mheaders\u001b[0m\u001b[1;33m=\u001b[0m\u001b[0mheaders\u001b[0m\u001b[1;33m)\u001b[0m\u001b[1;33m\u001b[0m\u001b[1;33m\u001b[0m\u001b[0m\n\u001b[0m\u001b[0;32m    398\u001b[0m \u001b[1;33m\u001b[0m\u001b[0m\n\u001b[0;32m    399\u001b[0m             \u001b[0mstatuscode\u001b[0m \u001b[1;33m=\u001b[0m \u001b[0mresp\u001b[0m\u001b[1;33m.\u001b[0m\u001b[0mstatus\u001b[0m\u001b[1;33m\u001b[0m\u001b[1;33m\u001b[0m\u001b[0m\n",
      "\u001b[1;32mC:\\anaconda\\lib\\site-packages\\urllib3\\request.py\u001b[0m in \u001b[0;36mrequest\u001b[1;34m(self, method, url, fields, headers, **urlopen_kw)\u001b[0m\n\u001b[0;32m     73\u001b[0m \u001b[1;33m\u001b[0m\u001b[0m\n\u001b[0;32m     74\u001b[0m         \u001b[1;32mif\u001b[0m \u001b[0mmethod\u001b[0m \u001b[1;32min\u001b[0m \u001b[0mself\u001b[0m\u001b[1;33m.\u001b[0m\u001b[0m_encode_url_methods\u001b[0m\u001b[1;33m:\u001b[0m\u001b[1;33m\u001b[0m\u001b[1;33m\u001b[0m\u001b[0m\n\u001b[1;32m---> 75\u001b[1;33m             return self.request_encode_url(\n\u001b[0m\u001b[0;32m     76\u001b[0m                 \u001b[0mmethod\u001b[0m\u001b[1;33m,\u001b[0m \u001b[0murl\u001b[0m\u001b[1;33m,\u001b[0m \u001b[0mfields\u001b[0m\u001b[1;33m=\u001b[0m\u001b[0mfields\u001b[0m\u001b[1;33m,\u001b[0m \u001b[0mheaders\u001b[0m\u001b[1;33m=\u001b[0m\u001b[0mheaders\u001b[0m\u001b[1;33m,\u001b[0m \u001b[1;33m**\u001b[0m\u001b[0murlopen_kw\u001b[0m\u001b[1;33m\u001b[0m\u001b[1;33m\u001b[0m\u001b[0m\n\u001b[0;32m     77\u001b[0m             )\n",
      "\u001b[1;32mC:\\anaconda\\lib\\site-packages\\urllib3\\request.py\u001b[0m in \u001b[0;36mrequest_encode_url\u001b[1;34m(self, method, url, fields, headers, **urlopen_kw)\u001b[0m\n\u001b[0;32m     95\u001b[0m             \u001b[0murl\u001b[0m \u001b[1;33m+=\u001b[0m \u001b[1;34m\"?\"\u001b[0m \u001b[1;33m+\u001b[0m \u001b[0murlencode\u001b[0m\u001b[1;33m(\u001b[0m\u001b[0mfields\u001b[0m\u001b[1;33m)\u001b[0m\u001b[1;33m\u001b[0m\u001b[1;33m\u001b[0m\u001b[0m\n\u001b[0;32m     96\u001b[0m \u001b[1;33m\u001b[0m\u001b[0m\n\u001b[1;32m---> 97\u001b[1;33m         \u001b[1;32mreturn\u001b[0m \u001b[0mself\u001b[0m\u001b[1;33m.\u001b[0m\u001b[0murlopen\u001b[0m\u001b[1;33m(\u001b[0m\u001b[0mmethod\u001b[0m\u001b[1;33m,\u001b[0m \u001b[0murl\u001b[0m\u001b[1;33m,\u001b[0m \u001b[1;33m**\u001b[0m\u001b[0mextra_kw\u001b[0m\u001b[1;33m)\u001b[0m\u001b[1;33m\u001b[0m\u001b[1;33m\u001b[0m\u001b[0m\n\u001b[0m\u001b[0;32m     98\u001b[0m \u001b[1;33m\u001b[0m\u001b[0m\n\u001b[0;32m     99\u001b[0m     def request_encode_body(\n",
      "\u001b[1;32mC:\\anaconda\\lib\\site-packages\\urllib3\\poolmanager.py\u001b[0m in \u001b[0;36murlopen\u001b[1;34m(self, method, url, redirect, **kw)\u001b[0m\n\u001b[0;32m    334\u001b[0m             \u001b[0mresponse\u001b[0m \u001b[1;33m=\u001b[0m \u001b[0mconn\u001b[0m\u001b[1;33m.\u001b[0m\u001b[0murlopen\u001b[0m\u001b[1;33m(\u001b[0m\u001b[0mmethod\u001b[0m\u001b[1;33m,\u001b[0m \u001b[0murl\u001b[0m\u001b[1;33m,\u001b[0m \u001b[1;33m**\u001b[0m\u001b[0mkw\u001b[0m\u001b[1;33m)\u001b[0m\u001b[1;33m\u001b[0m\u001b[1;33m\u001b[0m\u001b[0m\n\u001b[0;32m    335\u001b[0m         \u001b[1;32melse\u001b[0m\u001b[1;33m:\u001b[0m\u001b[1;33m\u001b[0m\u001b[1;33m\u001b[0m\u001b[0m\n\u001b[1;32m--> 336\u001b[1;33m             \u001b[0mresponse\u001b[0m \u001b[1;33m=\u001b[0m \u001b[0mconn\u001b[0m\u001b[1;33m.\u001b[0m\u001b[0murlopen\u001b[0m\u001b[1;33m(\u001b[0m\u001b[0mmethod\u001b[0m\u001b[1;33m,\u001b[0m \u001b[0mu\u001b[0m\u001b[1;33m.\u001b[0m\u001b[0mrequest_uri\u001b[0m\u001b[1;33m,\u001b[0m \u001b[1;33m**\u001b[0m\u001b[0mkw\u001b[0m\u001b[1;33m)\u001b[0m\u001b[1;33m\u001b[0m\u001b[1;33m\u001b[0m\u001b[0m\n\u001b[0m\u001b[0;32m    337\u001b[0m \u001b[1;33m\u001b[0m\u001b[0m\n\u001b[0;32m    338\u001b[0m         \u001b[0mredirect_location\u001b[0m \u001b[1;33m=\u001b[0m \u001b[0mredirect\u001b[0m \u001b[1;32mand\u001b[0m \u001b[0mresponse\u001b[0m\u001b[1;33m.\u001b[0m\u001b[0mget_redirect_location\u001b[0m\u001b[1;33m(\u001b[0m\u001b[1;33m)\u001b[0m\u001b[1;33m\u001b[0m\u001b[1;33m\u001b[0m\u001b[0m\n",
      "\u001b[1;32mC:\\anaconda\\lib\\site-packages\\urllib3\\connectionpool.py\u001b[0m in \u001b[0;36murlopen\u001b[1;34m(self, method, url, body, headers, retries, redirect, assert_same_host, timeout, pool_timeout, release_conn, chunked, body_pos, **response_kw)\u001b[0m\n\u001b[0;32m    752\u001b[0m                 \u001b[1;34m\"Retrying (%r) after connection broken by '%r': %s\"\u001b[0m\u001b[1;33m,\u001b[0m \u001b[0mretries\u001b[0m\u001b[1;33m,\u001b[0m \u001b[0merr\u001b[0m\u001b[1;33m,\u001b[0m \u001b[0murl\u001b[0m\u001b[1;33m\u001b[0m\u001b[1;33m\u001b[0m\u001b[0m\n\u001b[0;32m    753\u001b[0m             )\n\u001b[1;32m--> 754\u001b[1;33m             return self.urlopen(\n\u001b[0m\u001b[0;32m    755\u001b[0m                 \u001b[0mmethod\u001b[0m\u001b[1;33m,\u001b[0m\u001b[1;33m\u001b[0m\u001b[1;33m\u001b[0m\u001b[0m\n\u001b[0;32m    756\u001b[0m                 \u001b[0murl\u001b[0m\u001b[1;33m,\u001b[0m\u001b[1;33m\u001b[0m\u001b[1;33m\u001b[0m\u001b[0m\n",
      "\u001b[1;32mC:\\anaconda\\lib\\site-packages\\urllib3\\connectionpool.py\u001b[0m in \u001b[0;36murlopen\u001b[1;34m(self, method, url, body, headers, retries, redirect, assert_same_host, timeout, pool_timeout, release_conn, chunked, body_pos, **response_kw)\u001b[0m\n\u001b[0;32m    668\u001b[0m \u001b[1;33m\u001b[0m\u001b[0m\n\u001b[0;32m    669\u001b[0m             \u001b[1;31m# Make the request on the httplib connection object.\u001b[0m\u001b[1;33m\u001b[0m\u001b[1;33m\u001b[0m\u001b[1;33m\u001b[0m\u001b[0m\n\u001b[1;32m--> 670\u001b[1;33m             httplib_response = self._make_request(\n\u001b[0m\u001b[0;32m    671\u001b[0m                 \u001b[0mconn\u001b[0m\u001b[1;33m,\u001b[0m\u001b[1;33m\u001b[0m\u001b[1;33m\u001b[0m\u001b[0m\n\u001b[0;32m    672\u001b[0m                 \u001b[0mmethod\u001b[0m\u001b[1;33m,\u001b[0m\u001b[1;33m\u001b[0m\u001b[1;33m\u001b[0m\u001b[0m\n",
      "\u001b[1;32mC:\\anaconda\\lib\\site-packages\\urllib3\\connectionpool.py\u001b[0m in \u001b[0;36m_make_request\u001b[1;34m(self, conn, method, url, timeout, chunked, **httplib_request_kw)\u001b[0m\n\u001b[0;32m    390\u001b[0m             \u001b[0mconn\u001b[0m\u001b[1;33m.\u001b[0m\u001b[0mrequest_chunked\u001b[0m\u001b[1;33m(\u001b[0m\u001b[0mmethod\u001b[0m\u001b[1;33m,\u001b[0m \u001b[0murl\u001b[0m\u001b[1;33m,\u001b[0m \u001b[1;33m**\u001b[0m\u001b[0mhttplib_request_kw\u001b[0m\u001b[1;33m)\u001b[0m\u001b[1;33m\u001b[0m\u001b[1;33m\u001b[0m\u001b[0m\n\u001b[0;32m    391\u001b[0m         \u001b[1;32melse\u001b[0m\u001b[1;33m:\u001b[0m\u001b[1;33m\u001b[0m\u001b[1;33m\u001b[0m\u001b[0m\n\u001b[1;32m--> 392\u001b[1;33m             \u001b[0mconn\u001b[0m\u001b[1;33m.\u001b[0m\u001b[0mrequest\u001b[0m\u001b[1;33m(\u001b[0m\u001b[0mmethod\u001b[0m\u001b[1;33m,\u001b[0m \u001b[0murl\u001b[0m\u001b[1;33m,\u001b[0m \u001b[1;33m**\u001b[0m\u001b[0mhttplib_request_kw\u001b[0m\u001b[1;33m)\u001b[0m\u001b[1;33m\u001b[0m\u001b[1;33m\u001b[0m\u001b[0m\n\u001b[0m\u001b[0;32m    393\u001b[0m \u001b[1;33m\u001b[0m\u001b[0m\n\u001b[0;32m    394\u001b[0m         \u001b[1;31m# Reset the timeout for the recv() on the socket\u001b[0m\u001b[1;33m\u001b[0m\u001b[1;33m\u001b[0m\u001b[1;33m\u001b[0m\u001b[0m\n",
      "\u001b[1;32mC:\\anaconda\\lib\\http\\client.py\u001b[0m in \u001b[0;36mrequest\u001b[1;34m(self, method, url, body, headers, encode_chunked)\u001b[0m\n\u001b[0;32m   1253\u001b[0m                 encode_chunked=False):\n\u001b[0;32m   1254\u001b[0m         \u001b[1;34m\"\"\"Send a complete request to the server.\"\"\"\u001b[0m\u001b[1;33m\u001b[0m\u001b[1;33m\u001b[0m\u001b[0m\n\u001b[1;32m-> 1255\u001b[1;33m         \u001b[0mself\u001b[0m\u001b[1;33m.\u001b[0m\u001b[0m_send_request\u001b[0m\u001b[1;33m(\u001b[0m\u001b[0mmethod\u001b[0m\u001b[1;33m,\u001b[0m \u001b[0murl\u001b[0m\u001b[1;33m,\u001b[0m \u001b[0mbody\u001b[0m\u001b[1;33m,\u001b[0m \u001b[0mheaders\u001b[0m\u001b[1;33m,\u001b[0m \u001b[0mencode_chunked\u001b[0m\u001b[1;33m)\u001b[0m\u001b[1;33m\u001b[0m\u001b[1;33m\u001b[0m\u001b[0m\n\u001b[0m\u001b[0;32m   1256\u001b[0m \u001b[1;33m\u001b[0m\u001b[0m\n\u001b[0;32m   1257\u001b[0m     \u001b[1;32mdef\u001b[0m \u001b[0m_send_request\u001b[0m\u001b[1;33m(\u001b[0m\u001b[0mself\u001b[0m\u001b[1;33m,\u001b[0m \u001b[0mmethod\u001b[0m\u001b[1;33m,\u001b[0m \u001b[0murl\u001b[0m\u001b[1;33m,\u001b[0m \u001b[0mbody\u001b[0m\u001b[1;33m,\u001b[0m \u001b[0mheaders\u001b[0m\u001b[1;33m,\u001b[0m \u001b[0mencode_chunked\u001b[0m\u001b[1;33m)\u001b[0m\u001b[1;33m:\u001b[0m\u001b[1;33m\u001b[0m\u001b[1;33m\u001b[0m\u001b[0m\n",
      "\u001b[1;32mC:\\anaconda\\lib\\http\\client.py\u001b[0m in \u001b[0;36m_send_request\u001b[1;34m(self, method, url, body, headers, encode_chunked)\u001b[0m\n\u001b[0;32m   1299\u001b[0m             \u001b[1;31m# default charset of iso-8859-1.\u001b[0m\u001b[1;33m\u001b[0m\u001b[1;33m\u001b[0m\u001b[1;33m\u001b[0m\u001b[0m\n\u001b[0;32m   1300\u001b[0m             \u001b[0mbody\u001b[0m \u001b[1;33m=\u001b[0m \u001b[0m_encode\u001b[0m\u001b[1;33m(\u001b[0m\u001b[0mbody\u001b[0m\u001b[1;33m,\u001b[0m \u001b[1;34m'body'\u001b[0m\u001b[1;33m)\u001b[0m\u001b[1;33m\u001b[0m\u001b[1;33m\u001b[0m\u001b[0m\n\u001b[1;32m-> 1301\u001b[1;33m         \u001b[0mself\u001b[0m\u001b[1;33m.\u001b[0m\u001b[0mendheaders\u001b[0m\u001b[1;33m(\u001b[0m\u001b[0mbody\u001b[0m\u001b[1;33m,\u001b[0m \u001b[0mencode_chunked\u001b[0m\u001b[1;33m=\u001b[0m\u001b[0mencode_chunked\u001b[0m\u001b[1;33m)\u001b[0m\u001b[1;33m\u001b[0m\u001b[1;33m\u001b[0m\u001b[0m\n\u001b[0m\u001b[0;32m   1302\u001b[0m \u001b[1;33m\u001b[0m\u001b[0m\n\u001b[0;32m   1303\u001b[0m     \u001b[1;32mdef\u001b[0m \u001b[0mgetresponse\u001b[0m\u001b[1;33m(\u001b[0m\u001b[0mself\u001b[0m\u001b[1;33m)\u001b[0m\u001b[1;33m:\u001b[0m\u001b[1;33m\u001b[0m\u001b[1;33m\u001b[0m\u001b[0m\n",
      "\u001b[1;32mC:\\anaconda\\lib\\http\\client.py\u001b[0m in \u001b[0;36mendheaders\u001b[1;34m(self, message_body, encode_chunked)\u001b[0m\n\u001b[0;32m   1248\u001b[0m         \u001b[1;32melse\u001b[0m\u001b[1;33m:\u001b[0m\u001b[1;33m\u001b[0m\u001b[1;33m\u001b[0m\u001b[0m\n\u001b[0;32m   1249\u001b[0m             \u001b[1;32mraise\u001b[0m \u001b[0mCannotSendHeader\u001b[0m\u001b[1;33m(\u001b[0m\u001b[1;33m)\u001b[0m\u001b[1;33m\u001b[0m\u001b[1;33m\u001b[0m\u001b[0m\n\u001b[1;32m-> 1250\u001b[1;33m         \u001b[0mself\u001b[0m\u001b[1;33m.\u001b[0m\u001b[0m_send_output\u001b[0m\u001b[1;33m(\u001b[0m\u001b[0mmessage_body\u001b[0m\u001b[1;33m,\u001b[0m \u001b[0mencode_chunked\u001b[0m\u001b[1;33m=\u001b[0m\u001b[0mencode_chunked\u001b[0m\u001b[1;33m)\u001b[0m\u001b[1;33m\u001b[0m\u001b[1;33m\u001b[0m\u001b[0m\n\u001b[0m\u001b[0;32m   1251\u001b[0m \u001b[1;33m\u001b[0m\u001b[0m\n\u001b[0;32m   1252\u001b[0m     def request(self, method, url, body=None, headers={}, *,\n",
      "\u001b[1;32mC:\\anaconda\\lib\\http\\client.py\u001b[0m in \u001b[0;36m_send_output\u001b[1;34m(self, message_body, encode_chunked)\u001b[0m\n\u001b[0;32m   1008\u001b[0m         \u001b[0mmsg\u001b[0m \u001b[1;33m=\u001b[0m \u001b[1;34mb\"\\r\\n\"\u001b[0m\u001b[1;33m.\u001b[0m\u001b[0mjoin\u001b[0m\u001b[1;33m(\u001b[0m\u001b[0mself\u001b[0m\u001b[1;33m.\u001b[0m\u001b[0m_buffer\u001b[0m\u001b[1;33m)\u001b[0m\u001b[1;33m\u001b[0m\u001b[1;33m\u001b[0m\u001b[0m\n\u001b[0;32m   1009\u001b[0m         \u001b[1;32mdel\u001b[0m \u001b[0mself\u001b[0m\u001b[1;33m.\u001b[0m\u001b[0m_buffer\u001b[0m\u001b[1;33m[\u001b[0m\u001b[1;33m:\u001b[0m\u001b[1;33m]\u001b[0m\u001b[1;33m\u001b[0m\u001b[1;33m\u001b[0m\u001b[0m\n\u001b[1;32m-> 1010\u001b[1;33m         \u001b[0mself\u001b[0m\u001b[1;33m.\u001b[0m\u001b[0msend\u001b[0m\u001b[1;33m(\u001b[0m\u001b[0mmsg\u001b[0m\u001b[1;33m)\u001b[0m\u001b[1;33m\u001b[0m\u001b[1;33m\u001b[0m\u001b[0m\n\u001b[0m\u001b[0;32m   1011\u001b[0m \u001b[1;33m\u001b[0m\u001b[0m\n\u001b[0;32m   1012\u001b[0m         \u001b[1;32mif\u001b[0m \u001b[0mmessage_body\u001b[0m \u001b[1;32mis\u001b[0m \u001b[1;32mnot\u001b[0m \u001b[1;32mNone\u001b[0m\u001b[1;33m:\u001b[0m\u001b[1;33m\u001b[0m\u001b[1;33m\u001b[0m\u001b[0m\n",
      "\u001b[1;32mC:\\anaconda\\lib\\http\\client.py\u001b[0m in \u001b[0;36msend\u001b[1;34m(self, data)\u001b[0m\n\u001b[0;32m    948\u001b[0m         \u001b[1;32mif\u001b[0m \u001b[0mself\u001b[0m\u001b[1;33m.\u001b[0m\u001b[0msock\u001b[0m \u001b[1;32mis\u001b[0m \u001b[1;32mNone\u001b[0m\u001b[1;33m:\u001b[0m\u001b[1;33m\u001b[0m\u001b[1;33m\u001b[0m\u001b[0m\n\u001b[0;32m    949\u001b[0m             \u001b[1;32mif\u001b[0m \u001b[0mself\u001b[0m\u001b[1;33m.\u001b[0m\u001b[0mauto_open\u001b[0m\u001b[1;33m:\u001b[0m\u001b[1;33m\u001b[0m\u001b[1;33m\u001b[0m\u001b[0m\n\u001b[1;32m--> 950\u001b[1;33m                 \u001b[0mself\u001b[0m\u001b[1;33m.\u001b[0m\u001b[0mconnect\u001b[0m\u001b[1;33m(\u001b[0m\u001b[1;33m)\u001b[0m\u001b[1;33m\u001b[0m\u001b[1;33m\u001b[0m\u001b[0m\n\u001b[0m\u001b[0;32m    951\u001b[0m             \u001b[1;32melse\u001b[0m\u001b[1;33m:\u001b[0m\u001b[1;33m\u001b[0m\u001b[1;33m\u001b[0m\u001b[0m\n\u001b[0;32m    952\u001b[0m                 \u001b[1;32mraise\u001b[0m \u001b[0mNotConnected\u001b[0m\u001b[1;33m(\u001b[0m\u001b[1;33m)\u001b[0m\u001b[1;33m\u001b[0m\u001b[1;33m\u001b[0m\u001b[0m\n",
      "\u001b[1;32mC:\\anaconda\\lib\\site-packages\\urllib3\\connection.py\u001b[0m in \u001b[0;36mconnect\u001b[1;34m(self)\u001b[0m\n\u001b[0;32m    185\u001b[0m \u001b[1;33m\u001b[0m\u001b[0m\n\u001b[0;32m    186\u001b[0m     \u001b[1;32mdef\u001b[0m \u001b[0mconnect\u001b[0m\u001b[1;33m(\u001b[0m\u001b[0mself\u001b[0m\u001b[1;33m)\u001b[0m\u001b[1;33m:\u001b[0m\u001b[1;33m\u001b[0m\u001b[1;33m\u001b[0m\u001b[0m\n\u001b[1;32m--> 187\u001b[1;33m         \u001b[0mconn\u001b[0m \u001b[1;33m=\u001b[0m \u001b[0mself\u001b[0m\u001b[1;33m.\u001b[0m\u001b[0m_new_conn\u001b[0m\u001b[1;33m(\u001b[0m\u001b[1;33m)\u001b[0m\u001b[1;33m\u001b[0m\u001b[1;33m\u001b[0m\u001b[0m\n\u001b[0m\u001b[0;32m    188\u001b[0m         \u001b[0mself\u001b[0m\u001b[1;33m.\u001b[0m\u001b[0m_prepare_conn\u001b[0m\u001b[1;33m(\u001b[0m\u001b[0mconn\u001b[0m\u001b[1;33m)\u001b[0m\u001b[1;33m\u001b[0m\u001b[1;33m\u001b[0m\u001b[0m\n\u001b[0;32m    189\u001b[0m \u001b[1;33m\u001b[0m\u001b[0m\n",
      "\u001b[1;32mC:\\anaconda\\lib\\site-packages\\urllib3\\connection.py\u001b[0m in \u001b[0;36m_new_conn\u001b[1;34m(self)\u001b[0m\n\u001b[0;32m    157\u001b[0m \u001b[1;33m\u001b[0m\u001b[0m\n\u001b[0;32m    158\u001b[0m         \u001b[1;32mtry\u001b[0m\u001b[1;33m:\u001b[0m\u001b[1;33m\u001b[0m\u001b[1;33m\u001b[0m\u001b[0m\n\u001b[1;32m--> 159\u001b[1;33m             conn = connection.create_connection(\n\u001b[0m\u001b[0;32m    160\u001b[0m                 \u001b[1;33m(\u001b[0m\u001b[0mself\u001b[0m\u001b[1;33m.\u001b[0m\u001b[0m_dns_host\u001b[0m\u001b[1;33m,\u001b[0m \u001b[0mself\u001b[0m\u001b[1;33m.\u001b[0m\u001b[0mport\u001b[0m\u001b[1;33m)\u001b[0m\u001b[1;33m,\u001b[0m \u001b[0mself\u001b[0m\u001b[1;33m.\u001b[0m\u001b[0mtimeout\u001b[0m\u001b[1;33m,\u001b[0m \u001b[1;33m**\u001b[0m\u001b[0mextra_kw\u001b[0m\u001b[1;33m\u001b[0m\u001b[1;33m\u001b[0m\u001b[0m\n\u001b[0;32m    161\u001b[0m             )\n",
      "\u001b[1;32mC:\\anaconda\\lib\\site-packages\\urllib3\\util\\connection.py\u001b[0m in \u001b[0;36mcreate_connection\u001b[1;34m(address, timeout, source_address, socket_options)\u001b[0m\n\u001b[0;32m     72\u001b[0m             \u001b[1;32mif\u001b[0m \u001b[0msource_address\u001b[0m\u001b[1;33m:\u001b[0m\u001b[1;33m\u001b[0m\u001b[1;33m\u001b[0m\u001b[0m\n\u001b[0;32m     73\u001b[0m                 \u001b[0msock\u001b[0m\u001b[1;33m.\u001b[0m\u001b[0mbind\u001b[0m\u001b[1;33m(\u001b[0m\u001b[0msource_address\u001b[0m\u001b[1;33m)\u001b[0m\u001b[1;33m\u001b[0m\u001b[1;33m\u001b[0m\u001b[0m\n\u001b[1;32m---> 74\u001b[1;33m             \u001b[0msock\u001b[0m\u001b[1;33m.\u001b[0m\u001b[0mconnect\u001b[0m\u001b[1;33m(\u001b[0m\u001b[0msa\u001b[0m\u001b[1;33m)\u001b[0m\u001b[1;33m\u001b[0m\u001b[1;33m\u001b[0m\u001b[0m\n\u001b[0m\u001b[0;32m     75\u001b[0m             \u001b[1;32mreturn\u001b[0m \u001b[0msock\u001b[0m\u001b[1;33m\u001b[0m\u001b[1;33m\u001b[0m\u001b[0m\n\u001b[0;32m     76\u001b[0m \u001b[1;33m\u001b[0m\u001b[0m\n",
      "\u001b[1;31mKeyboardInterrupt\u001b[0m: "
     ]
    }
   ],
   "source": [
    "browser.quit()"
   ]
  },
  {
   "cell_type": "code",
   "execution_count": null,
   "metadata": {},
   "outputs": [],
   "source": []
  }
 ]
}