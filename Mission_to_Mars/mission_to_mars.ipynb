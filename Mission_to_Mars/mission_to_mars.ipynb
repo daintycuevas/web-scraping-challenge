{
 "metadata": {
  "language_info": {
   "codemirror_mode": {
    "name": "ipython",
    "version": 3
   },
   "file_extension": ".py",
   "mimetype": "text/x-python",
   "name": "python",
   "nbconvert_exporter": "python",
   "pygments_lexer": "ipython3",
   "version": "3.8.5-final"
  },
  "orig_nbformat": 2,
  "kernelspec": {
   "name": "python3",
   "display_name": "Python 3",
   "language": "python"
  }
 },
 "nbformat": 4,
 "nbformat_minor": 2,
 "cells": [
  {
   "cell_type": "code",
   "execution_count": 47,
   "metadata": {},
   "outputs": [],
   "source": [
    "from splinter import Browser\n",
    "from bs4 import BeautifulSoup\n",
    "from webdriver_manager.chrome import ChromeDriverManager"
   ]
  },
  {
   "cell_type": "code",
   "execution_count": 48,
   "metadata": {},
   "outputs": [
    {
     "output_type": "stream",
     "name": "stderr",
     "text": [
      "[WDM] - Current google-chrome version is 87.0.4280\n",
      "[WDM] - Get LATEST driver version for 87.0.4280\n",
      "[WDM] - Get LATEST driver version for 87.0.4280\n",
      "[WDM] - Trying to download new driver from http://chromedriver.storage.googleapis.com/87.0.4280.88/chromedriver_win32.zip\n",
      " \n",
      "[WDM] - Driver has been saved in cache [C:\\Users\\daint\\.wdm\\drivers\\chromedriver\\win32\\87.0.4280.88]\n"
     ]
    }
   ],
   "source": [
    "executable_path = {'executable_path': ChromeDriverManager().install()}\n",
    "browser = Browser('chrome', **executable_path, headless=False)"
   ]
  },
  {
   "cell_type": "code",
   "execution_count": 49,
   "metadata": {},
   "outputs": [],
   "source": [
    "url = 'https://mars.nasa.gov/news/'\n",
    "browser.visit(url)\n",
    "import time"
   ]
  },
  {
   "cell_type": "code",
   "execution_count": 6,
   "metadata": {
    "tags": []
   },
   "outputs": [
    {
     "output_type": "stream",
     "name": "stdout",
     "text": [
      "-----------------------------\n",
      "NASA's MAVEN Continues to Advance Mars Science and Telecommunications Relay Efforts\n",
      "With a suite of new national and international spacecraft primed to explore the Red Planet after their arrival next month, NASA’s MAVEN mission is ready to provide support and continue its study of the Martian atmosphere.\n",
      "Scraping Complete\n",
      "-----------------------------\n",
      "NASA's Perseverance Rover 22 Days From Mars Landing\n",
      "Seven minutes of harrowing descent to the Red Planet is in the not-so-distant future for the agency’s Mars 2020 mission.\n",
      "Scraping Complete\n",
      "-----------------------------\n",
      "6 Things to Know About NASA's Mars Helicopter on Its Way to Mars\n",
      "Ingenuity, a technology experiment, is preparing to attempt the first powered, controlled flight on the Red Planet.\n",
      "Scraping Complete\n",
      "-----------------------------\n",
      "NASA to Host Virtual Briefing on February Perseverance Mars Rover Landing\n",
      "NASA leadership and members of the mission will discuss the agency’s latest rover, which touches down on the Red Planet on Feb. 18.\n",
      "Scraping Complete\n",
      "-----------------------------\n",
      "NASA InSight's ‘Mole' Ends Its Journey on Mars\n",
      "The heat probe hasn’t been able to gain the friction it needs to dig, but the mission has been granted an extension to carry on with its other science.\n",
      "Scraping Complete\n",
      "-----------------------------\n",
      "Mars 2020 Perseverance Rover to Capture Sounds From the Red Planet\n",
      "Audio gathered by the mission may not sound quite the same on Mars as it would to our ears on Earth. A new interactive online experience lets you sample the difference.\n",
      "Scraping Complete\n",
      "-----------------------------\n",
      "NASA's Curiosity Rover Reaches Its 3,000th Day on Mars\n",
      "As the rover has continued to ascend Mount Sharp, it’s found distinctive benchlike rock formations.\n",
      "Scraping Complete\n",
      "-----------------------------\n",
      "Celebrate the Perseverance Rover Landing With NASA's Student Challenge\n",
      "The rover touches down on the Red Planet next month, and students are invited to join the excitement by designing, building, and landing their own Mars mission. NASA can help.\n",
      "Scraping Complete\n",
      "-----------------------------\n",
      "NASA Extends Exploration for Two Planetary Science Missions\n",
      "The missions – Juno and InSight – have each increased our understanding of our solar system, as well as spurred new sets of diverse questions.\n",
      "Scraping Complete\n",
      "-----------------------------\n",
      "7 Things to Know About the NASA Rover About to Land on Mars\n",
      "The Mars 2020 Perseverance rover, which has started its approach to the Red Planet, will help answer the next logical question in Mars exploration.\n",
      "Scraping Complete\n",
      "-----------------------------\n",
      "A Martian Roundtrip: NASA's Perseverance Rover Sample Tubes\n",
      "Marvels of engineering, the rover's sample tubes must be tough enough to safely bring Red Planet samples on the long journey back to Earth in immaculate condition.\n",
      "Scraping Complete\n",
      "-----------------------------\n",
      "NASA Moves Forward With Campaign to Return Mars Samples to Earth\n",
      "During this next phase, the program will mature critical technologies and make critical design decisions as well as assess industry partnerships.\n",
      "Scraping Complete\n",
      "-----------------------------\n",
      "3 Things We've Learned From NASA's Mars InSight\n",
      "Scientists are finding new mysteries since the geophysics mission landed two years ago.\n",
      "Scraping Complete\n",
      "-----------------------------\n",
      "From JPL's Mailroom to Mars and Beyond\n",
      "Bill Allen has thrived as the mechanical systems design lead for three Mars rover missions, but he got his start as a teenager sorting letters for the NASA center.\n",
      "Scraping Complete\n",
      "-----------------------------\n",
      "5 Hidden Gems Are Riding Aboard NASA's Perseverance Rover\n",
      "The symbols, mottos, and small objects added to the agency's newest Mars rover serve a variety of purposes, from functional to decorative.\n",
      "Scraping Complete\n",
      "-----------------------------\n",
      "MOXIE Could Help Future Rockets Launch Off Mars\n",
      "NASA's Perseverance rover carries a device to convert Martian air into oxygen that, if produced on a larger scale, could be used not just for breathing, but also for fuel.\n",
      "Scraping Complete\n",
      "-----------------------------\n",
      "Hear Audio From NASA's Perseverance As It Travels Through Deep Space\n",
      "The first to be rigged with microphones, the agency's latest Mars rover picked up the subtle sounds of its own inner workings during interplanetary flight.\n",
      "Scraping Complete\n",
      "-----------------------------\n",
      "Mars Is Getting a New Robotic Meteorologist\n",
      "Sensors on NASA's Perseverance will help prepare for future human exploration by taking weather measurements and studying dust particles.\n",
      "Scraping Complete\n",
      "-----------------------------\n",
      "Heat and Dust Help Launch Martian Water Into Space, Scientists Find\n",
      "Scientists using an instrument aboard NASA’s Mars Atmosphere and Volatile EvolutioN, or MAVEN, spacecraft have discovered that water vapor near the surface of the Red Planet is lofted higher into the atmosphere than anyone expected was possible.\n",
      "Scraping Complete\n",
      "-----------------------------\n",
      "NASA's Curiosity Takes Selfie With 'Mary Anning' on the Red Planet\n",
      "The Mars rover has drilled three samples of rock in this clay-enriched region since arriving in July.\n",
      "Scraping Complete\n",
      "-----------------------------\n",
      "Independent Review Indicates NASA Prepared for Mars Sample Return Campaign\n",
      "NASA released an independent review report Tuesday indicating the agency is well positioned for its Mars Sample Return campaign to bring pristine samples from Mars to Earth for scientific study.\n",
      "Scraping Complete\n",
      "-----------------------------\n",
      "NASA's Perseverance Rover 100 Days Out\n",
      "Mark your calendars: The agency's latest rover has only about 8,640,000 seconds to go before it touches down on the Red Planet, becoming history's next Mars car.\n",
      "Scraping Complete\n",
      "-----------------------------\n",
      "NASA's Perseverance Rover Is Midway to Mars\n",
      "Sometimes half measures can be a good thing – especially on a journey this long. The agency's latest rover only has about 146 million miles left to reach its destination.\n",
      "Scraping Complete\n",
      "-----------------------------\n",
      "Sensors on Mars 2020 Spacecraft Answer Long-Distance Call From Earth\n",
      "Instruments tailored to collect data during the descent of NASA's next rover through the Red Planet's atmosphere have been checked in flight.\n",
      "Scraping Complete\n",
      "-----------------------------\n",
      "NASA's Perseverance Rover Bringing 3D-Printed Metal Parts to Mars\n",
      "For hobbyists and makers, 3D printing expands creative possibilities; for specialized engineers, it's also key to next-generation spacecraft design.\n",
      "Scraping Complete\n",
      "-----------------------------\n",
      "NASA InSight's 'Mole' Is Out of Sight\n",
      "Now that the heat probe is just below the Martian surface, InSight's arm will scoop some additional soil on top to help it keep digging so it can take Mars' temperature.\n",
      "Scraping Complete\n",
      "-----------------------------\n",
      "NASA's Perseverance Rover Will Peer Beneath Mars' Surface\n",
      "The agency's newest rover will use the first ground-penetrating radar instrument on the Martian surface to help search for signs of past microbial life.\n",
      "Scraping Complete\n",
      "-----------------------------\n",
      "AI Is Helping Scientists Discover Fresh Craters on Mars\n",
      "It's the first time machine learning has been used to find previously unknown craters on the Red Planet.\n",
      "Scraping Complete\n",
      "-----------------------------\n",
      "NASA's New Mars Rover Is Ready for Space Lasers\n",
      "Perseverance is one of a few Mars spacecraft carrying laser retroreflectors. The devices could provide new science and safer Mars landings in the future.\n",
      "Scraping Complete\n",
      "-----------------------------\n",
      "NASA's New Mars Rover Will Use X-Rays to Hunt Fossils\n",
      "PIXL, an instrument on the end of the Perseverance rover's arm, will search for chemical fingerprints left by ancient microbes.\n",
      "Scraping Complete\n",
      "-----------------------------\n",
      "My Culture, My Voice\n",
      "In honor of Hispanic Heritage Month, Christina Hernandez, an instrument engineer on the Mars 2020 mission, talks about her childhood and journey to NASA.\n",
      "Scraping Complete\n",
      "-----------------------------\n",
      "NASA Readies Perseverance Mars Rover's Earthly Twin\n",
      "Did you know NASA's next Mars rover has a nearly identical sibling on Earth for testing? Even better, it's about to roll for the first time through a replica Martian landscape.\n",
      "Scraping Complete\n",
      "-----------------------------\n",
      "NASA Engineers Checking InSight's Weather Sensors\n",
      "An electronics issue is suspected to be preventing the sensors from sharing their data about Mars weather with the spacecraft.\n",
      "Scraping Complete\n",
      "-----------------------------\n",
      "Follow NASA's Perseverance Rover in Real Time on Its Way to Mars\n",
      "A crisply rendered web application can show you where the agency's Mars 2020 mission is right now as it makes its way to the Red Planet for a Feb. 18, 2021, landing.\n",
      "Scraping Complete\n",
      "-----------------------------\n",
      "NASA Establishes Board to Initially Review Mars Sample Return Plans\n",
      "The board will assist with analysis of current plans and goals for one of the most difficult missions humanity has ever undertaken.\n",
      "Scraping Complete\n",
      "-----------------------------\n",
      "NASA's Ingenuity Mars Helicopter Recharges Its Batteries in Flight\n",
      "Headed to the Red Planet with the Perseverance rover, the pioneering helicopter is powered up for the first time in interplanetary space as part of a systems check.\n",
      "Scraping Complete\n",
      "-----------------------------\n",
      "Celebrate Mars Reconnaissance Orbiter's Views From Above\n",
      "Marking its 15th anniversary since launch, one of the oldest spacecraft at the Red Planet has provided glimpses of dust devils, avalanches, and more.\n",
      "Scraping Complete\n",
      "-----------------------------\n",
      "NASA's MAVEN Observes Martian Night Sky Pulsing in Ultraviolet Light\n",
      "Vast areas of the Martian night sky pulse in ultraviolet light, according to images from NASA’s MAVEN spacecraft. The results are being used to illuminate complex circulation patterns in the Martian atmosphere.\n",
      "Scraping Complete\n",
      "-----------------------------\n",
      "8 Martian Postcards to Celebrate Curiosity's Landing Anniversary\n",
      "The NASA rover touched down eight years ago, on Aug. 5, 2012, and will soon be joined by a second rover, Perseverance.\n",
      "Scraping Complete\n",
      "-----------------------------\n",
      "NASA, ULA Launch Mars 2020 Perseverance Rover Mission to Red Planet\n",
      "The agency's Mars 2020 mission is on its way. It will land at Jezero Crater in about seven months, on Feb. 18, 2021.\n",
      "Scraping Complete\n"
     ]
    }
   ],
   "source": [
    "html = browser.html\n",
    "soup = BeautifulSoup(html, 'lxml')\n",
    "\n",
    "slides = soup.find_all('div', class_='list_text')\n",
    "# for item in slides:\n",
    "#     print(item.prettify())\n",
    "# content = slides.find_all('div')\n",
    "\n",
    "news_title=[]\n",
    "news_p=[]\n",
    "\n",
    "for item in slides:\n",
    "    title = item.find('div', class_='content_title')\n",
    "    news_title.append(title)\n",
    "    para = item.find('div', class_='article_teaser_body')\n",
    "    news_p.append(para)\n",
    "\n",
    "# print(title.text)\n",
    "    print(\"-----------------------------\")\n",
    "    print(title.text.strip())\n",
    "    print(para.text.strip())\n",
    "\n",
    "    try:\n",
    "        browser.links.find_by_partial_text('show more').click()\n",
    "          \n",
    "    except:\n",
    "        print(\"Scraping Complete\")"
   ]
  },
  {
   "cell_type": "code",
   "execution_count": 54,
   "metadata": {},
   "outputs": [
    {
     "output_type": "error",
     "ename": "TypeError",
     "evalue": "'NoneType' object is not callable",
     "traceback": [
      "\u001b[1;31m---------------------------------------------------------------------------\u001b[0m",
      "\u001b[1;31mTypeError\u001b[0m                                 Traceback (most recent call last)",
      "\u001b[1;32m<ipython-input-54-5b2fe2ef4832>\u001b[0m in \u001b[0;36m<module>\u001b[1;34m\u001b[0m\n\u001b[1;32m----> 1\u001b[1;33m \u001b[0mimages\u001b[0m \u001b[1;33m=\u001b[0m \u001b[0msoup\u001b[0m\u001b[1;33m.\u001b[0m\u001b[0mfind_by_id\u001b[0m\u001b[1;33m(\u001b[0m\u001b[1;34m'img'\u001b[0m\u001b[1;33m,\u001b[0m \u001b[0mid\u001b[0m\u001b[1;33m=\u001b[0m\u001b[1;34m'96452'\u001b[0m\u001b[1;33m)\u001b[0m\u001b[1;33m\u001b[0m\u001b[1;33m\u001b[0m\u001b[0m\n\u001b[0m\u001b[0;32m      2\u001b[0m \u001b[1;32mfor\u001b[0m \u001b[0mimage\u001b[0m \u001b[1;32min\u001b[0m \u001b[0mimages\u001b[0m\u001b[1;33m:\u001b[0m\u001b[1;33m\u001b[0m\u001b[1;33m\u001b[0m\u001b[0m\n\u001b[0;32m      3\u001b[0m     \u001b[0msource\u001b[0m \u001b[1;33m=\u001b[0m \u001b[0mimage\u001b[0m\u001b[1;33m.\u001b[0m\u001b[0mfind\u001b[0m\u001b[1;33m(\u001b[0m\u001b[1;34m'src'\u001b[0m\u001b[1;33m)\u001b[0m\u001b[1;33m\u001b[0m\u001b[1;33m\u001b[0m\u001b[0m\n\u001b[0;32m      4\u001b[0m     \u001b[0mprint\u001b[0m\u001b[1;33m(\u001b[0m\u001b[0msource\u001b[0m\u001b[1;33m)\u001b[0m\u001b[1;33m\u001b[0m\u001b[1;33m\u001b[0m\u001b[0m\n",
      "\u001b[1;31mTypeError\u001b[0m: 'NoneType' object is not callable"
     ]
    }
   ],
   "source": [
    "images = soup.find_by_id('img', id='96452')\n",
    "for image in images:\n",
    "    source = image.find('src')\n",
    "    print(source)\n"
   ]
  },
  {
   "cell_type": "code",
   "execution_count": 42,
   "metadata": {},
   "outputs": [
    {
     "output_type": "error",
     "ename": "AttributeError",
     "evalue": "'NoneType' object has no attribute 'text'",
     "traceback": [
      "\u001b[1;31m---------------------------------------------------------------------------\u001b[0m",
      "\u001b[1;31mAttributeError\u001b[0m                            Traceback (most recent call last)",
      "\u001b[1;32m<ipython-input-42-ef9dfc59ab9f>\u001b[0m in \u001b[0;36m<module>\u001b[1;34m\u001b[0m\n\u001b[0;32m      1\u001b[0m \u001b[0msource\u001b[0m \u001b[1;33m=\u001b[0m \u001b[0msoup\u001b[0m\u001b[1;33m.\u001b[0m\u001b[0mfind\u001b[0m\u001b[1;33m(\u001b[0m\u001b[1;34m'img'\u001b[0m\u001b[1;33m,\u001b[0m \u001b[0mid\u001b[0m\u001b[1;33m=\u001b[0m\u001b[1;34m'srcset'\u001b[0m\u001b[1;33m)\u001b[0m\u001b[1;33m\u001b[0m\u001b[1;33m\u001b[0m\u001b[0m\n\u001b[1;32m----> 2\u001b[1;33m \u001b[0mgetattr\u001b[0m\u001b[1;33m(\u001b[0m\u001b[0msource\u001b[0m\u001b[1;33m.\u001b[0m\u001b[0mtext\u001b[0m\u001b[1;33m.\u001b[0m\u001b[0mstrip\u001b[0m\u001b[1;33m(\u001b[0m\u001b[1;33m)\u001b[0m\u001b[1;33m)\u001b[0m\u001b[1;33m\u001b[0m\u001b[1;33m\u001b[0m\u001b[0m\n\u001b[0m",
      "\u001b[1;31mAttributeError\u001b[0m: 'NoneType' object has no attribute 'text'"
     ]
    }
   ],
   "source": [
    "source = soup.find('img', id='srcset')\n",
    "getattr(source.text.strip())"
   ]
  },
  {
   "cell_type": "code",
   "execution_count": 25,
   "metadata": {},
   "outputs": [
    {
     "output_type": "error",
     "ename": "AttributeError",
     "evalue": "'WebDriverElement' object has no attribute 'find'",
     "traceback": [
      "\u001b[1;31m---------------------------------------------------------------------------\u001b[0m",
      "\u001b[1;31mAttributeError\u001b[0m                            Traceback (most recent call last)",
      "\u001b[1;32m<ipython-input-25-7a6dee269c7a>\u001b[0m in \u001b[0;36m<module>\u001b[1;34m\u001b[0m\n\u001b[0;32m      1\u001b[0m \u001b[0mimages\u001b[0m \u001b[1;33m=\u001b[0m \u001b[0mbrowser\u001b[0m\u001b[1;33m.\u001b[0m\u001b[0mfind_by_tag\u001b[0m\u001b[1;33m(\u001b[0m\u001b[1;34m'img'\u001b[0m\u001b[1;33m)\u001b[0m\u001b[1;33m\u001b[0m\u001b[1;33m\u001b[0m\u001b[0m\n\u001b[0;32m      2\u001b[0m \u001b[1;32mfor\u001b[0m \u001b[0mimg\u001b[0m \u001b[1;32min\u001b[0m \u001b[0mimages\u001b[0m\u001b[1;33m:\u001b[0m\u001b[1;33m\u001b[0m\u001b[1;33m\u001b[0m\u001b[0m\n\u001b[1;32m----> 3\u001b[1;33m     \u001b[0msource\u001b[0m \u001b[1;33m=\u001b[0m \u001b[0mimg\u001b[0m\u001b[1;33m.\u001b[0m\u001b[0mfind\u001b[0m\u001b[1;33m(\u001b[0m\u001b[1;34m'src'\u001b[0m\u001b[1;33m)\u001b[0m\u001b[1;33m\u001b[0m\u001b[1;33m\u001b[0m\u001b[0m\n\u001b[0m",
      "\u001b[1;31mAttributeError\u001b[0m: 'WebDriverElement' object has no attribute 'find'"
     ]
    }
   ],
   "source": [
    "images = browser.find_by_tag('img')\n",
    "for img in images:\n",
    "    source = img.find('src')"
   ]
  },
  {
   "cell_type": "code",
   "execution_count": 21,
   "metadata": {},
   "outputs": [],
   "source": [
    "# link = browser.find_\n",
    "# ('jpegPIA24390')\n",
    "# link.str(astype)"
   ]
  },
  {
   "cell_type": "code",
   "execution_count": 36,
   "metadata": {},
   "outputs": [
    {
     "output_type": "stream",
     "name": "stdout",
     "text": [
      "None\n"
     ]
    }
   ],
   "source": [
    "images = soup.find_next_sibling('img', id='96452')\n"
   ]
  },
  {
   "cell_type": "code",
   "execution_count": 34,
   "metadata": {},
   "outputs": [
    {
     "output_type": "error",
     "ename": "TypeError",
     "evalue": "'NoneType' object is not iterable",
     "traceback": [
      "\u001b[1;31m---------------------------------------------------------------------------\u001b[0m",
      "\u001b[1;31mTypeError\u001b[0m                                 Traceback (most recent call last)",
      "\u001b[1;32m<ipython-input-34-a0888bc7ecc7>\u001b[0m in \u001b[0;36m<module>\u001b[1;34m\u001b[0m\n\u001b[1;32m----> 1\u001b[1;33m \u001b[1;32mfor\u001b[0m \u001b[0mimg\u001b[0m \u001b[1;32min\u001b[0m \u001b[0mimages\u001b[0m\u001b[1;33m:\u001b[0m\u001b[1;33m\u001b[0m\u001b[1;33m\u001b[0m\u001b[0m\n\u001b[0m\u001b[0;32m      2\u001b[0m     \u001b[0mprint\u001b[0m\u001b[1;33m(\u001b[0m\u001b[0mimg\u001b[0m\u001b[1;33m)\u001b[0m\u001b[1;33m\u001b[0m\u001b[1;33m\u001b[0m\u001b[0m\n",
      "\u001b[1;31mTypeError\u001b[0m: 'NoneType' object is not iterable"
     ]
    }
   ],
   "source": [
    "for img in images:\n",
    "    print(img)"
   ]
  },
  {
   "cell_type": "code",
   "execution_count": 44,
   "metadata": {},
   "outputs": [],
   "source": [
    "from selenium import webdriver"
   ]
  },
  {
   "cell_type": "code",
   "execution_count": null,
   "metadata": {},
   "outputs": [],
   "source": []
  }
 ]
}